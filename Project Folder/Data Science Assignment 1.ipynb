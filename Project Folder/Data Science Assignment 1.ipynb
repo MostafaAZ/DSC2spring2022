{
 "cells": [
  {
   "cell_type": "code",
   "execution_count": 2,
   "id": "a918969e",
   "metadata": {},
   "outputs": [],
   "source": [
    "##Project Title:\n",
    "\n",
    "##Authors: Mostafa Abdelazim, Zeina Kishk, and Hania Raslan\n",
    "\n",
    "## Abstract: This dataset is a \n",
    "##"
   ]
  },
  {
   "cell_type": "code",
   "execution_count": 3,
   "id": "a9ec8bf1",
   "metadata": {},
   "outputs": [],
   "source": [
    "import numpy as np\n",
    "import pandas as pd\n",
    "import matplotlib.pyplot as plt\n",
    "import seaborn as sns\n",
    "import statsmodels.api as sm\n",
    "from statsmodels.graphics.mosaicplot import mosaic"
   ]
  },
  {
   "cell_type": "code",
   "execution_count": 4,
   "id": "9b2a2dfb",
   "metadata": {},
   "outputs": [
    {
     "name": "stdout",
     "output_type": "stream",
     "text": [
      "   ORDERNUMBER  QUANTITYORDERED  PRICEEACH  ORDERLINENUMBER    SALES   STATUS  \\\n",
      "0        10107               30      95.70                2  2871.00  Shipped   \n",
      "1        10121               34      81.35                5  2765.90  Shipped   \n",
      "2        10134               41      94.74                2  3884.34  Shipped   \n",
      "3        10145               45      83.26                6  3746.70  Shipped   \n",
      "4        10159               49     100.00               14  5205.27  Shipped   \n",
      "\n",
      "   QTR_ID  MONTH_ID  YEAR_ID  PRODUCTLINE  ...             PHONE  \\\n",
      "0       1         2     2003  Motorcycles  ...        2125557818   \n",
      "1       2         5     2003  Motorcycles  ...        26.47.1555   \n",
      "2       3         7     2003  Motorcycles  ...  +33 1 46 62 7555   \n",
      "3       3         8     2003  Motorcycles  ...        6265557265   \n",
      "4       4        10     2003  Motorcycles  ...        6505551386   \n",
      "\n",
      "                    ADDRESSLINE1           CITY STATE POSTALCODE COUNTRY  \\\n",
      "0        897 Long Airport Avenue            NYC    NY      10022     USA   \n",
      "1             59 rue de l'Abbaye          Reims   NaN      51100  France   \n",
      "2  27 rue du Colonel Pierre Avia          Paris   NaN      75508  France   \n",
      "3             78934 Hillside Dr.       Pasadena    CA      90003     USA   \n",
      "4                7734 Strong St.  San Francisco    CA        NaN     USA   \n",
      "\n",
      "  TERRITORY CONTACTLASTNAME CONTACTFIRSTNAME DEALSIZE  \n",
      "0       NaN              Yu             Kwai    Small  \n",
      "1      EMEA         Henriot             Paul    Small  \n",
      "2      EMEA        Da Cunha           Daniel   Medium  \n",
      "3       NaN           Young            Julie   Medium  \n",
      "4       NaN           Brown            Julie   Medium  \n",
      "\n",
      "[5 rows x 23 columns]\n",
      "      ORDERNUMBER  QUANTITYORDERED  PRICEEACH  ORDERLINENUMBER    SALES  \\\n",
      "2818        10350               20     100.00               15  2244.40   \n",
      "2819        10373               29     100.00                1  3978.51   \n",
      "2820        10386               43     100.00                4  5417.57   \n",
      "2821        10397               34      62.24                1  2116.16   \n",
      "2822        10414               47      65.52                9  3079.44   \n",
      "\n",
      "        STATUS  QTR_ID  MONTH_ID  YEAR_ID PRODUCTLINE  ...           PHONE  \\\n",
      "2818   Shipped       4        12     2004       Ships  ...  (91) 555 94 44   \n",
      "2819   Shipped       1         1     2005       Ships  ...      981-443655   \n",
      "2820  Resolved       1         3     2005       Ships  ...  (91) 555 94 44   \n",
      "2821   Shipped       1         3     2005       Ships  ...      61.77.6555   \n",
      "2822   On Hold       2         5     2005       Ships  ...      6175559555   \n",
      "\n",
      "               ADDRESSLINE1      CITY STATE POSTALCODE  COUNTRY TERRITORY  \\\n",
      "2818     C/ Moralzarzal, 86    Madrid   NaN      28034    Spain      EMEA   \n",
      "2819            Torikatu 38      Oulu   NaN      90110  Finland      EMEA   \n",
      "2820     C/ Moralzarzal, 86    Madrid   NaN      28034    Spain      EMEA   \n",
      "2821  1 rue Alsace-Lorraine  Toulouse   NaN      31000   France      EMEA   \n",
      "2822     8616 Spinnaker Dr.    Boston    MA      51003      USA       NaN   \n",
      "\n",
      "     CONTACTLASTNAME CONTACTFIRSTNAME DEALSIZE  \n",
      "2818          Freyre            Diego    Small  \n",
      "2819       Koskitalo           Pirkko   Medium  \n",
      "2820          Freyre            Diego   Medium  \n",
      "2821          Roulet          Annette    Small  \n",
      "2822         Yoshido             Juri   Medium  \n",
      "\n",
      "[5 rows x 23 columns]\n"
     ]
    }
   ],
   "source": [
    "data = pd.read_csv(\"dataset.csv\", encoding= 'unicode_escape')\n",
    "print(data.head())\n",
    "print(data.tail())\n"
   ]
  },
  {
   "cell_type": "code",
   "execution_count": 5,
   "id": "b34eb716",
   "metadata": {},
   "outputs": [
    {
     "name": "stdout",
     "output_type": "stream",
     "text": [
      "83.65854410201929\n",
      "3553.88907190932\n",
      "35.09280906836698\n",
      "6.466170740347148\n",
      "100.71555083244775\n"
     ]
    }
   ],
   "source": [
    "##Mean\n",
    "print(data['PRICEEACH'].mean())\n",
    "print(data['SALES'].mean())\n",
    "print(data['QUANTITYORDERED'].mean())\n",
    "print(data['ORDERLINENUMBER'].mean())\n",
    "print(data['MSRP'].mean())"
   ]
  },
  {
   "cell_type": "code",
   "execution_count": 6,
   "id": "3af1d640",
   "metadata": {},
   "outputs": [
    {
     "name": "stdout",
     "output_type": "stream",
     "text": [
      "95.7\n",
      "3184.8\n",
      "35.0\n",
      "6.0\n",
      "99.0\n"
     ]
    }
   ],
   "source": [
    "#Median\n",
    "print(data['PRICEEACH'].median())\n",
    "print(data['SALES'].median())\n",
    "print(data['QUANTITYORDERED'].median())\n",
    "print(data['ORDERLINENUMBER'].median())\n",
    "print(data['MSRP'].median())"
   ]
  },
  {
   "cell_type": "code",
   "execution_count": 7,
   "id": "6007af95",
   "metadata": {},
   "outputs": [
    {
     "name": "stdout",
     "output_type": "stream",
     "text": [
      "17.85773185886007\n",
      "4.225840964690942\n",
      "1615.0682449746778\n",
      "40.187911677203104\n",
      "407.0014334217844\n",
      "20.174276527840703\n",
      "94.89570659960627\n",
      "9.74144273706961\n",
      "3392467.0677432865\n",
      "1841.8651057401805\n"
     ]
    }
   ],
   "source": [
    "#Variance and Std\n",
    "print(data['ORDERLINENUMBER'].var())\n",
    "print(data['ORDERLINENUMBER'].std())\n",
    "print(data['MSRP'].var())\n",
    "print(data['MSRP'].std())\n",
    "print(data['PRICEEACH'].var())\n",
    "print(data['PRICEEACH'].std())\n",
    "print(data['QUANTITYORDERED'].var())\n",
    "print(data['QUANTITYORDERED'].std())\n",
    "print(data['SALES'].var())\n",
    "print(data['SALES'].std())"
   ]
  },
  {
   "cell_type": "code",
   "execution_count": 8,
   "id": "69aa2742",
   "metadata": {},
   "outputs": [
    {
     "data": {
      "text/html": [
       "<div>\n",
       "<style scoped>\n",
       "    .dataframe tbody tr th:only-of-type {\n",
       "        vertical-align: middle;\n",
       "    }\n",
       "\n",
       "    .dataframe tbody tr th {\n",
       "        vertical-align: top;\n",
       "    }\n",
       "\n",
       "    .dataframe thead th {\n",
       "        text-align: right;\n",
       "    }\n",
       "</style>\n",
       "<table border=\"1\" class=\"dataframe\">\n",
       "  <thead>\n",
       "    <tr style=\"text-align: right;\">\n",
       "      <th></th>\n",
       "      <th>ORDERNUMBER</th>\n",
       "      <th>QUANTITYORDERED</th>\n",
       "      <th>PRICEEACH</th>\n",
       "      <th>ORDERLINENUMBER</th>\n",
       "      <th>SALES</th>\n",
       "      <th>QTR_ID</th>\n",
       "      <th>MONTH_ID</th>\n",
       "      <th>YEAR_ID</th>\n",
       "      <th>MSRP</th>\n",
       "    </tr>\n",
       "  </thead>\n",
       "  <tbody>\n",
       "    <tr>\n",
       "      <th>count</th>\n",
       "      <td>2823.000000</td>\n",
       "      <td>2823.000000</td>\n",
       "      <td>2823.000000</td>\n",
       "      <td>2823.000000</td>\n",
       "      <td>2823.000000</td>\n",
       "      <td>2823.000000</td>\n",
       "      <td>2823.000000</td>\n",
       "      <td>2823.00000</td>\n",
       "      <td>2823.000000</td>\n",
       "    </tr>\n",
       "    <tr>\n",
       "      <th>mean</th>\n",
       "      <td>10258.725115</td>\n",
       "      <td>35.092809</td>\n",
       "      <td>83.658544</td>\n",
       "      <td>6.466171</td>\n",
       "      <td>3553.889072</td>\n",
       "      <td>2.717676</td>\n",
       "      <td>7.092455</td>\n",
       "      <td>2003.81509</td>\n",
       "      <td>100.715551</td>\n",
       "    </tr>\n",
       "    <tr>\n",
       "      <th>std</th>\n",
       "      <td>92.085478</td>\n",
       "      <td>9.741443</td>\n",
       "      <td>20.174277</td>\n",
       "      <td>4.225841</td>\n",
       "      <td>1841.865106</td>\n",
       "      <td>1.203878</td>\n",
       "      <td>3.656633</td>\n",
       "      <td>0.69967</td>\n",
       "      <td>40.187912</td>\n",
       "    </tr>\n",
       "    <tr>\n",
       "      <th>min</th>\n",
       "      <td>10100.000000</td>\n",
       "      <td>6.000000</td>\n",
       "      <td>26.880000</td>\n",
       "      <td>1.000000</td>\n",
       "      <td>482.130000</td>\n",
       "      <td>1.000000</td>\n",
       "      <td>1.000000</td>\n",
       "      <td>2003.00000</td>\n",
       "      <td>33.000000</td>\n",
       "    </tr>\n",
       "    <tr>\n",
       "      <th>25%</th>\n",
       "      <td>10180.000000</td>\n",
       "      <td>27.000000</td>\n",
       "      <td>68.860000</td>\n",
       "      <td>3.000000</td>\n",
       "      <td>2203.430000</td>\n",
       "      <td>2.000000</td>\n",
       "      <td>4.000000</td>\n",
       "      <td>2003.00000</td>\n",
       "      <td>68.000000</td>\n",
       "    </tr>\n",
       "    <tr>\n",
       "      <th>50%</th>\n",
       "      <td>10262.000000</td>\n",
       "      <td>35.000000</td>\n",
       "      <td>95.700000</td>\n",
       "      <td>6.000000</td>\n",
       "      <td>3184.800000</td>\n",
       "      <td>3.000000</td>\n",
       "      <td>8.000000</td>\n",
       "      <td>2004.00000</td>\n",
       "      <td>99.000000</td>\n",
       "    </tr>\n",
       "    <tr>\n",
       "      <th>75%</th>\n",
       "      <td>10333.500000</td>\n",
       "      <td>43.000000</td>\n",
       "      <td>100.000000</td>\n",
       "      <td>9.000000</td>\n",
       "      <td>4508.000000</td>\n",
       "      <td>4.000000</td>\n",
       "      <td>11.000000</td>\n",
       "      <td>2004.00000</td>\n",
       "      <td>124.000000</td>\n",
       "    </tr>\n",
       "    <tr>\n",
       "      <th>max</th>\n",
       "      <td>10425.000000</td>\n",
       "      <td>97.000000</td>\n",
       "      <td>100.000000</td>\n",
       "      <td>18.000000</td>\n",
       "      <td>14082.800000</td>\n",
       "      <td>4.000000</td>\n",
       "      <td>12.000000</td>\n",
       "      <td>2005.00000</td>\n",
       "      <td>214.000000</td>\n",
       "    </tr>\n",
       "  </tbody>\n",
       "</table>\n",
       "</div>"
      ],
      "text/plain": [
       "        ORDERNUMBER  QUANTITYORDERED    PRICEEACH  ORDERLINENUMBER  \\\n",
       "count   2823.000000      2823.000000  2823.000000      2823.000000   \n",
       "mean   10258.725115        35.092809    83.658544         6.466171   \n",
       "std       92.085478         9.741443    20.174277         4.225841   \n",
       "min    10100.000000         6.000000    26.880000         1.000000   \n",
       "25%    10180.000000        27.000000    68.860000         3.000000   \n",
       "50%    10262.000000        35.000000    95.700000         6.000000   \n",
       "75%    10333.500000        43.000000   100.000000         9.000000   \n",
       "max    10425.000000        97.000000   100.000000        18.000000   \n",
       "\n",
       "              SALES       QTR_ID     MONTH_ID     YEAR_ID         MSRP  \n",
       "count   2823.000000  2823.000000  2823.000000  2823.00000  2823.000000  \n",
       "mean    3553.889072     2.717676     7.092455  2003.81509   100.715551  \n",
       "std     1841.865106     1.203878     3.656633     0.69967    40.187912  \n",
       "min      482.130000     1.000000     1.000000  2003.00000    33.000000  \n",
       "25%     2203.430000     2.000000     4.000000  2003.00000    68.000000  \n",
       "50%     3184.800000     3.000000     8.000000  2004.00000    99.000000  \n",
       "75%     4508.000000     4.000000    11.000000  2004.00000   124.000000  \n",
       "max    14082.800000     4.000000    12.000000  2005.00000   214.000000  "
      ]
     },
     "execution_count": 8,
     "metadata": {},
     "output_type": "execute_result"
    }
   ],
   "source": [
    "#Descibe (Quantiles)\n",
    "data.describe()"
   ]
  },
  {
   "cell_type": "code",
   "execution_count": 9,
   "id": "afc0aa5a",
   "metadata": {},
   "outputs": [
    {
     "name": "stdout",
     "output_type": "stream",
     "text": [
      "Classic Cars        0.342543\n",
      "Vintage Cars        0.215019\n",
      "Motorcycles         0.117251\n",
      "Planes              0.108395\n",
      "Trucks and Buses    0.106624\n",
      "Ships               0.082891\n",
      "Trains              0.027276\n",
      "Name: PRODUCTLINE, dtype: float64\n",
      "11    0.211477\n",
      "10    0.112292\n",
      "5     0.089267\n",
      "1     0.081119\n",
      "2     0.079348\n",
      "3     0.075097\n",
      "8     0.067659\n",
      "12    0.063762\n",
      "4     0.063053\n",
      "9     0.060574\n",
      "7     0.049947\n",
      "6     0.046405\n",
      "Name: MONTH_ID, dtype: float64\n",
      "Shipped       0.927028\n",
      "Cancelled     0.021254\n",
      "Resolved      0.016649\n",
      "On Hold       0.015586\n",
      "In Process    0.014524\n",
      "Disputed      0.004959\n",
      "Name: STATUS, dtype: float64\n",
      "Madrid         0.107687\n",
      "San Rafael     0.063762\n",
      "NYC            0.053843\n",
      "Singapore      0.027984\n",
      "Paris          0.024796\n",
      "                 ...   \n",
      "Graz           0.005313\n",
      "Los Angeles    0.004959\n",
      "Munich         0.004959\n",
      "Burbank        0.004605\n",
      "Charleroi      0.002834\n",
      "Name: CITY, Length: 73, dtype: float64\n",
      "USA            0.355650\n",
      "Spain          0.121148\n",
      "France         0.111229\n",
      "Australia      0.065533\n",
      "UK             0.051010\n",
      "Italy          0.040028\n",
      "Finland        0.032589\n",
      "Norway         0.030110\n",
      "Singapore      0.027984\n",
      "Canada         0.024796\n",
      "Denmark        0.022317\n",
      "Germany        0.021962\n",
      "Sweden         0.020191\n",
      "Austria        0.019483\n",
      "Japan          0.018420\n",
      "Belgium        0.011690\n",
      "Switzerland    0.010981\n",
      "Philippines    0.009210\n",
      "Ireland        0.005668\n",
      "Name: COUNTRY, dtype: float64\n"
     ]
    }
   ],
   "source": [
    "#Discrete Values frequency\n",
    "print(data['PRODUCTLINE'].value_counts(normalize=True))\n",
    "print(data['MONTH_ID'].value_counts(normalize=True))\n",
    "print(data['STATUS'].value_counts(normalize=True))\n",
    "print(data['CITY'].value_counts(normalize=True))\n",
    "print(data['COUNTRY'].value_counts(normalize=True))"
   ]
  },
  {
   "cell_type": "code",
   "execution_count": 10,
   "id": "15809a39",
   "metadata": {},
   "outputs": [],
   "source": [
    "#Grouping by a variable\n",
    "grouped = data.groupby('PRODUCTLINE')"
   ]
  },
  {
   "cell_type": "code",
   "execution_count": 11,
   "id": "6d4d062c",
   "metadata": {},
   "outputs": [
    {
     "data": {
      "text/plain": [
       "<AxesSubplot:ylabel='PRODUCTLINE'>"
      ]
     },
     "execution_count": 11,
     "metadata": {},
     "output_type": "execute_result"
    },
    {
     "data": {
      "image/png": "[encoded data removed]",
      "text/plain": [
       "<Figure size 432x288 with 1 Axes>"
      ]
     },
     "metadata": {
      "needs_background": "light"
     },
     "output_type": "display_data"
    }
   ],
   "source": [
    "#Barplot 1\n",
    "grouped['DEALSIZE'].value_counts().unstack().plot(kind=\"barh\")"
   ]
  },
  {
   "cell_type": "code",
   "execution_count": 12,
   "id": "57629516",
   "metadata": {},
   "outputs": [
    {
     "data": {
      "text/plain": [
       "<AxesSubplot:xlabel='PRODUCTLINE'>"
      ]
     },
     "execution_count": 12,
     "metadata": {},
     "output_type": "execute_result"
    },
    {
     "data": {
      "image/png": "[encoded data removed]",
      "text/plain": [
       "<Figure size 432x288 with 1 Axes>"
      ]
     },
     "metadata": {
      "needs_background": "light"
     },
     "output_type": "display_data"
    }
   ],
   "source": [
    "#Barplot 2\n",
    "grouped['TERRITORY'].value_counts().unstack().plot(kind=\"bar\")"
   ]
  },
  {
   "cell_type": "code",
   "execution_count": 13,
   "id": "e8544f97",
   "metadata": {},
   "outputs": [
    {
     "data": {
      "text/plain": [
       "PRODUCTLINE\n",
       "Classic Cars        AxesSubplot(0.125,0.125;0.775x0.755)\n",
       "Motorcycles         AxesSubplot(0.125,0.125;0.775x0.755)\n",
       "Planes              AxesSubplot(0.125,0.125;0.775x0.755)\n",
       "Ships               AxesSubplot(0.125,0.125;0.775x0.755)\n",
       "Trains              AxesSubplot(0.125,0.125;0.775x0.755)\n",
       "Trucks and Buses    AxesSubplot(0.125,0.125;0.775x0.755)\n",
       "Vintage Cars        AxesSubplot(0.125,0.125;0.775x0.755)\n",
       "Name: PRICEEACH, dtype: object"
      ]
     },
     "execution_count": 13,
     "metadata": {},
     "output_type": "execute_result"
    },
    {
     "data": {
      "image/png": "[encoded data removed]",
      "text/plain": [
       "<Figure size 432x288 with 1 Axes>"
      ]
     },
     "metadata": {
      "needs_background": "light"
     },
     "output_type": "display_data"
    }
   ],
   "source": [
    "#Density Plot 1\n",
    "grouped['PRICEEACH'].plot(kind='density', title='PRICEEACH')"
   ]
  },
  {
   "cell_type": "code",
   "execution_count": 14,
   "id": "ffdba213",
   "metadata": {},
   "outputs": [
    {
     "data": {
      "text/plain": [
       "PRODUCTLINE\n",
       "Classic Cars        AxesSubplot(0.125,0.125;0.775x0.755)\n",
       "Motorcycles         AxesSubplot(0.125,0.125;0.775x0.755)\n",
       "Planes              AxesSubplot(0.125,0.125;0.775x0.755)\n",
       "Ships               AxesSubplot(0.125,0.125;0.775x0.755)\n",
       "Trains              AxesSubplot(0.125,0.125;0.775x0.755)\n",
       "Trucks and Buses    AxesSubplot(0.125,0.125;0.775x0.755)\n",
       "Vintage Cars        AxesSubplot(0.125,0.125;0.775x0.755)\n",
       "Name: SALES, dtype: object"
      ]
     },
     "execution_count": 14,
     "metadata": {},
     "output_type": "execute_result"
    },
    {
     "data": {
      "image/png": "[encoded data removed]",
      "text/plain": [
       "<Figure size 432x288 with 1 Axes>"
      ]
     },
     "metadata": {
      "needs_background": "light"
     },
     "output_type": "display_data"
    }
   ],
   "source": [
    "#Density Plot 2\n",
    "grouped['SALES'].plot(kind='density', title='SALES')"
   ]
  },
  {
   "cell_type": "code",
   "execution_count": 15,
   "id": "1e705015",
   "metadata": {},
   "outputs": [
    {
     "name": "stdout",
     "output_type": "stream",
     "text": [
      "                 ORDERNUMBER  QUANTITYORDERED  PRICEEACH  ORDERLINENUMBER  \\\n",
      "ORDERNUMBER         1.000000         0.065543  -0.002935        -0.055550   \n",
      "QUANTITYORDERED     0.065543         1.000000   0.005564        -0.018397   \n",
      "PRICEEACH          -0.002935         0.005564   1.000000        -0.020965   \n",
      "ORDERLINENUMBER    -0.055550        -0.018397  -0.020965         1.000000   \n",
      "SALES               0.039919         0.551426   0.657841        -0.058400   \n",
      "QTR_ID             -0.051383        -0.035323   0.008712         0.040716   \n",
      "MONTH_ID           -0.039723        -0.039048   0.005152         0.034016   \n",
      "YEAR_ID             0.904596         0.069535  -0.005938        -0.057367   \n",
      "MSRP               -0.010280         0.017881   0.670625        -0.021067   \n",
      "\n",
      "                    SALES    QTR_ID  MONTH_ID   YEAR_ID      MSRP  \n",
      "ORDERNUMBER      0.039919 -0.051383 -0.039723  0.904596 -0.010280  \n",
      "QUANTITYORDERED  0.551426 -0.035323 -0.039048  0.069535  0.017881  \n",
      "PRICEEACH        0.657841  0.008712  0.005152 -0.005938  0.670625  \n",
      "ORDERLINENUMBER -0.058400  0.040716  0.034016 -0.057367 -0.021067  \n",
      "SALES            1.000000 -0.006796 -0.009605  0.035647  0.635239  \n",
      "QTR_ID          -0.006796  1.000000  0.979300 -0.433052  0.010234  \n",
      "MONTH_ID        -0.009605  0.979300  1.000000 -0.430163  0.008170  \n",
      "YEAR_ID          0.035647 -0.433052 -0.430163  1.000000 -0.014310  \n",
      "MSRP             0.635239  0.010234  0.008170 -0.014310  1.000000  \n",
      "              SALES  PRICEEACH\n",
      "SALES      1.000000   0.657841\n",
      "PRICEEACH  0.657841   1.000000\n",
      "           MSRP     SALES\n",
      "MSRP   1.000000  0.635239\n",
      "SALES  0.635239  1.000000\n",
      "               MSRP  PRICEEACH\n",
      "MSRP       1.000000   0.670625\n",
      "PRICEEACH  0.670625   1.000000\n",
      "                 QUANTITYORDERED  PRICEEACH\n",
      "QUANTITYORDERED         1.000000   0.005564\n",
      "PRICEEACH               0.005564   1.000000\n",
      "                 QUANTITYORDERED     SALES\n",
      "QUANTITYORDERED         1.000000  0.551426\n",
      "SALES                   0.551426  1.000000\n"
     ]
    }
   ],
   "source": [
    "# CORRELATION \n",
    "print(data.corr())\n",
    "# CORRELATION BETWEEN SALES AND PRICE EACH\n",
    "print(data[['SALES','PRICEEACH']].corr(method='pearson'))\n",
    "# CORRELATION BETWEEN SALES AND MSRP\n",
    "print(data[['MSRP','SALES']].corr(method='pearson'))\n",
    "# CORRELATION BETWEEN MSRP AND PRICE EACH\n",
    "print(data[['MSRP','PRICEEACH']].corr(method='pearson'))\n",
    "# CORRELATION BETWEEN QUANTITYORDERED AND PRICE EACH\n",
    "print(data[['QUANTITYORDERED','PRICEEACH']].corr(method='pearson'))\n",
    "# CORRELATION BETWEEN SALES AND QUANTITYORDERED\n",
    "print(data[['QUANTITYORDERED','SALES']].corr(method='pearson'))"
   ]
  },
  {
   "cell_type": "code",
   "execution_count": 16,
   "id": "4ed9d95b",
   "metadata": {},
   "outputs": [
    {
     "data": {
      "text/plain": [
       "<AxesSubplot:>"
      ]
     },
     "execution_count": 16,
     "metadata": {},
     "output_type": "execute_result"
    },
    {
     "data": {
      "image/png": "[encoded data removed]",
      "text/plain": [
       "<Figure size 432x288 with 2 Axes>"
      ]
     },
     "metadata": {
      "needs_background": "light"
     },
     "output_type": "display_data"
    }
   ],
   "source": [
    "#Heat Map 1\n",
    "cormat=data[['SALES','PRICEEACH','MSRP','QUANTITYORDERED']].corr().round(2)\n",
    "sns.heatmap(cormat, annot=True)"
   ]
  },
  {
   "cell_type": "code",
   "execution_count": 17,
   "id": "2ec30e89",
   "metadata": {},
   "outputs": [
    {
     "name": "stdout",
     "output_type": "stream",
     "text": [
      "PRICEEACH  26.88   27.22   28.29   28.88   29.21   29.54   29.70   29.87   \\\n",
      "SALES                                                                       \n",
      "482.13          0       0       0       0       0       0       0       0   \n",
      "541.14          0       0       0       0       0       0       0       0   \n",
      "553.95          0       0       0       0       0       0       0       0   \n",
      "577.60          0       0       0       1       0       0       0       0   \n",
      "640.05          0       0       0       0       0       0       0       0   \n",
      "...           ...     ...     ...     ...     ...     ...     ...     ...   \n",
      "11886.60        0       0       0       0       0       0       0       0   \n",
      "11887.80        0       0       0       0       0       0       0       0   \n",
      "12001.00        0       0       0       0       0       0       0       0   \n",
      "12536.50        0       0       0       0       0       0       0       0   \n",
      "14082.80        0       0       0       0       0       0       0       0   \n",
      "\n",
      "PRICEEACH  30.06   30.20   ...  99.55   99.57   99.58   99.66   99.67   \\\n",
      "SALES                      ...                                           \n",
      "482.13          0       0  ...       0       0       0       0       0   \n",
      "541.14          0       0  ...       0       0       0       0       0   \n",
      "553.95          0       0  ...       0       0       0       0       0   \n",
      "577.60          0       0  ...       0       0       0       0       0   \n",
      "640.05          0       0  ...       0       0       0       0       0   \n",
      "...           ...     ...  ...     ...     ...     ...     ...     ...   \n",
      "11886.60        0       0  ...       0       0       0       0       0   \n",
      "11887.80        0       0  ...       0       0       0       0       0   \n",
      "12001.00        0       0  ...       0       0       0       0       0   \n",
      "12536.50        0       0  ...       0       0       0       0       0   \n",
      "14082.80        0       0  ...       0       0       0       0       0   \n",
      "\n",
      "PRICEEACH  99.69   99.72   99.82   99.91   100.00  \n",
      "SALES                                              \n",
      "482.13          0       0       0       0       0  \n",
      "541.14          0       0       0       0       0  \n",
      "553.95          0       0       0       0       0  \n",
      "577.60          0       0       0       0       0  \n",
      "640.05          0       0       0       0       0  \n",
      "...           ...     ...     ...     ...     ...  \n",
      "11886.60        0       0       0       0       1  \n",
      "11887.80        0       0       0       0       1  \n",
      "12001.00        0       0       0       0       1  \n",
      "12536.50        0       0       0       0       1  \n",
      "14082.80        0       0       0       0       1  \n",
      "\n",
      "[2763 rows x 1016 columns]\n",
      "MSRP      33   35   37   40   41   43   44   49   50   53   ...  157  163  \\\n",
      "SALES                                                       ...             \n",
      "482.13      0    0    0    0    0    0    0    0    0    0  ...    0    0   \n",
      "541.14      0    0    0    0    0    0    0    0    0    0  ...    0    0   \n",
      "553.95      0    0    0    0    1    0    0    0    0    0  ...    0    0   \n",
      "577.60      1    0    0    0    0    0    0    0    0    0  ...    0    0   \n",
      "640.05      0    0    1    0    0    0    0    0    0    0  ...    0    0   \n",
      "...       ...  ...  ...  ...  ...  ...  ...  ...  ...  ...  ...  ...  ...   \n",
      "11886.60    0    0    0    0    0    0    0    0    0    0  ...    0    0   \n",
      "11887.80    0    0    0    0    0    0    0    0    0    0  ...    0    0   \n",
      "12001.00    0    0    0    0    0    0    0    0    0    0  ...    0    0   \n",
      "12536.50    0    0    0    0    0    0    0    0    0    0  ...    0    0   \n",
      "14082.80    0    0    0    0    0    0    0    0    0    0  ...    0    0   \n",
      "\n",
      "MSRP      168  169  170  173  193  194  207  214  \n",
      "SALES                                             \n",
      "482.13      0    0    0    0    0    0    0    0  \n",
      "541.14      0    0    0    0    0    0    0    0  \n",
      "553.95      0    0    0    0    0    0    0    0  \n",
      "577.60      0    0    0    0    0    0    0    0  \n",
      "640.05      0    0    0    0    0    0    0    0  \n",
      "...       ...  ...  ...  ...  ...  ...  ...  ...  \n",
      "11886.60    0    0    0    0    1    0    0    0  \n",
      "11887.80    0    1    0    0    0    0    0    0  \n",
      "12001.00    0    0    0    0    0    0    0    1  \n",
      "12536.50    0    0    0    0    0    0    0    0  \n",
      "14082.80    0    0    1    0    0    0    0    0  \n",
      "\n",
      "[2763 rows x 80 columns]\n",
      "SALES             482.13    541.14    553.95    577.60    640.05    651.80    \\\n",
      "PRODUCTLINE                                                                    \n",
      "Classic Cars             0         0         0         0         1         0   \n",
      "Motorcycles              0         0         0         0         0         1   \n",
      "Planes                   0         0         0         0         0         0   \n",
      "Ships                    0         0         0         0         0         0   \n",
      "Trains                   0         0         0         0         0         0   \n",
      "Trucks and Buses         1         0         0         0         0         0   \n",
      "Vintage Cars             0         1         1         1         0         0   \n",
      "\n",
      "SALES             652.35    683.80    694.60    703.60    ...  10993.50  \\\n",
      "PRODUCTLINE                                               ...             \n",
      "Classic Cars             0         0         0         0  ...         1   \n",
      "Motorcycles              0         0         0         0  ...         0   \n",
      "Planes                   0         0         0         0  ...         0   \n",
      "Ships                    0         0         0         0  ...         0   \n",
      "Trains                   0         0         0         0  ...         0   \n",
      "Trucks and Buses         0         0         0         0  ...         0   \n",
      "Vintage Cars             1         1         1         1  ...         0   \n",
      "\n",
      "SALES             11279.20  11336.70  11623.70  11739.70  11886.60  11887.80  \\\n",
      "PRODUCTLINE                                                                    \n",
      "Classic Cars             1         0         1         1         0         1   \n",
      "Motorcycles              0         0         0         0         1         0   \n",
      "Planes                   0         0         0         0         0         0   \n",
      "Ships                    0         0         0         0         0         0   \n",
      "Trains                   0         0         0         0         0         0   \n",
      "Trucks and Buses         0         0         0         0         0         0   \n",
      "Vintage Cars             0         1         0         0         0         0   \n",
      "\n",
      "SALES             12001.00  12536.50  14082.80  \n",
      "PRODUCTLINE                                     \n",
      "Classic Cars             1         0         0  \n",
      "Motorcycles              0         0         0  \n",
      "Planes                   0         0         0  \n",
      "Ships                    0         0         0  \n",
      "Trains                   0         0         0  \n",
      "Trucks and Buses         0         0         0  \n",
      "Vintage Cars             0         1         1  \n",
      "\n",
      "[7 rows x 2763 columns]\n",
      "QUANTITYORDERED  6   10  11  12  13  15  16  18  19  20  ...  61  62  64  65  \\\n",
      "SALES                                                    ...                   \n",
      "482.13            0   0   1   0   0   0   0   0   0   0  ...   0   0   0   0   \n",
      "541.14            1   0   0   0   0   0   0   0   0   0  ...   0   0   0   0   \n",
      "553.95            0   0   0   0   0   1   0   0   0   0  ...   0   0   0   0   \n",
      "577.60            0   0   0   0   0   0   0   0   0   1  ...   0   0   0   0   \n",
      "640.05            0   0   0   0   0   1   0   0   0   0  ...   0   0   0   0   \n",
      "...              ..  ..  ..  ..  ..  ..  ..  ..  ..  ..  ...  ..  ..  ..  ..   \n",
      "11886.60          0   0   0   0   0   0   0   0   0   0  ...   0   0   0   0   \n",
      "11887.80          0   0   0   0   0   0   0   0   0   0  ...   0   0   0   0   \n",
      "12001.00          0   0   0   0   0   0   0   0   0   0  ...   0   0   0   0   \n",
      "12536.50          0   0   0   0   0   0   0   0   0   0  ...   0   0   0   0   \n",
      "14082.80          0   0   0   0   0   0   0   0   0   0  ...   0   0   0   0   \n",
      "\n",
      "QUANTITYORDERED  66  70  76  77  85  97  \n",
      "SALES                                    \n",
      "482.13            0   0   0   0   0   0  \n",
      "541.14            0   0   0   0   0   0  \n",
      "553.95            0   0   0   0   0   0  \n",
      "577.60            0   0   0   0   0   0  \n",
      "640.05            0   0   0   0   0   0  \n",
      "...              ..  ..  ..  ..  ..  ..  \n",
      "11886.60          1   0   0   0   0   0  \n",
      "11887.80          0   0   0   0   0   0  \n",
      "12001.00          0   0   0   0   0   0  \n",
      "12536.50          0   0   0   0   0   0  \n",
      "14082.80          0   0   1   0   0   0  \n",
      "\n",
      "[2763 rows x 58 columns]\n",
      "QUANTITYORDERED  6   10  11  12  13  15  16  18  19  20  ...  61  62  64  65  \\\n",
      "MSRP                                                     ...                   \n",
      "33                0   0   0   0   0   0   0   0   0   5  ...   1   0   0   0   \n",
      "35                0   0   0   0   0   0   0   0   0   1  ...   0   0   0   0   \n",
      "37                0   0   0   0   0   1   0   0   0   2  ...   0   0   0   0   \n",
      "40                0   0   0   0   0   0   0   0   0   1  ...   0   0   0   0   \n",
      "41                0   0   0   0   0   2   0   0   0   0  ...   0   0   0   0   \n",
      "...              ..  ..  ..  ..  ..  ..  ..  ..  ..  ..  ...  ..  ..  ..  ..   \n",
      "173               0   0   0   0   0   0   0   0   0   2  ...   0   0   0   0   \n",
      "193               0   0   0   0   0   0   0   0   0   2  ...   0   0   0   0   \n",
      "194               0   0   0   1   0   0   0   0   0   1  ...   0   0   0   0   \n",
      "207               0   0   0   0   0   0   0   0   0   1  ...   0   0   0   0   \n",
      "214               0   0   0   0   0   0   0   0   0   0  ...   0   0   0   0   \n",
      "\n",
      "QUANTITYORDERED  66  70  76  77  85  97  \n",
      "MSRP                                     \n",
      "33                0   0   0   0   0   0  \n",
      "35                0   0   0   0   0   0  \n",
      "37                0   0   0   0   0   0  \n",
      "40                0   0   0   0   0   0  \n",
      "41                0   0   0   0   0   0  \n",
      "...              ..  ..  ..  ..  ..  ..  \n",
      "173               0   0   0   0   0   0  \n",
      "193               1   0   0   0   0   0  \n",
      "194               0   0   0   0   0   0  \n",
      "207               0   0   0   0   0   0  \n",
      "214               0   0   0   0   0   0  \n",
      "\n",
      "[80 rows x 58 columns]\n"
     ]
    }
   ],
   "source": [
    "#Cross Tables (contengiency table)\n",
    "tab = pd.crosstab(data['SALES'], data['PRICEEACH'])\n",
    "print(tab)\n",
    "tab1 = pd.crosstab(data['SALES'], data['MSRP'])\n",
    "print(tab1)\n",
    "tab2 = pd.crosstab(data['PRODUCTLINE'], data['SALES'])\n",
    "print(tab2)\n",
    "tab3 = pd.crosstab(data['SALES'], data['QUANTITYORDERED'])\n",
    "print(tab3)\n",
    "tab4 = pd.crosstab(data['MSRP'], data['QUANTITYORDERED'])\n",
    "print(tab4)"
   ]
  },
  {
   "cell_type": "code",
   "execution_count": 18,
   "id": "9b8f3358",
   "metadata": {},
   "outputs": [
    {
     "data": {
      "image/png": "[encoded data removed]",
      "text/plain": [
       "<Figure size 432x288 with 3 Axes>"
      ]
     },
     "metadata": {
      "needs_background": "light"
     },
     "output_type": "display_data"
    }
   ],
   "source": [
    "#Mosaic Graph 1\n",
    "mosaic(data, ['DEALSIZE', 'TERRITORY'], title=' Deal size x Territory ')\n",
    "plt.show()"
   ]
  }
 ],
 "metadata": {
  "kernelspec": {
   "display_name": "Python 3 (ipykernel)",
   "language": "python",
   "name": "python3"
  },
  "language_info": {
   "codemirror_mode": {
    "name": "ipython",
    "version": 3
   },
   "file_extension": ".py",
   "mimetype": "text/x-python",
   "name": "python",
   "nbconvert_exporter": "python",
   "pygments_lexer": "ipython3",
   "version": "3.9.7"
  }
 },
 "nbformat": 4,
 "nbformat_minor": 5
}
