{
 "cells": [
  {
   "cell_type": "markdown",
   "id": "fc75be87",
   "metadata": {},
   "source": [
    "# ASSIGNMENT 2\n",
    "Author: Mostafa Abdelazim, \n",
    "ID: 900203676\n",
    "\n",
    "Abstract: The code aims analyze the confidence intervals for 2 data sets. The first one is for matches, and their win/lose probability for different reasons, like home/away or friendly/official matches. The second data set is for reported covid cases in all countries in 20202 and 2021. In both data sets, all the analyzed data are given and graphed throughout the code. "
   ]
  },
  {
   "cell_type": "markdown",
   "id": "371aacfc",
   "metadata": {},
   "source": [
    "# Statistical Comparison Between the Winning Countries in Football based on Several Terms."
   ]
  },
  {
   "cell_type": "code",
   "execution_count": 19,
   "id": "1522d53b",
   "metadata": {},
   "outputs": [],
   "source": [
    "import numpy as np\n",
    "import pandas as pd\n",
    "import scipy\n",
    "import scipy.stats\n",
    "from scipy.stats import norm,t\n",
    "import statsmodels.api as sm\n",
    "from statsmodels.stats.proportion import proportion_confint\n",
    "import matplotlib.pyplot as plt\n",
    "from pandas.api.types import CategoricalDtype"
   ]
  },
  {
   "cell_type": "code",
   "execution_count": 20,
   "id": "cfad643a",
   "metadata": {},
   "outputs": [
    {
     "data": {
      "text/html": [
       "<div>\n",
       "<style scoped>\n",
       "    .dataframe tbody tr th:only-of-type {\n",
       "        vertical-align: middle;\n",
       "    }\n",
       "\n",
       "    .dataframe tbody tr th {\n",
       "        vertical-align: top;\n",
       "    }\n",
       "\n",
       "    .dataframe thead th {\n",
       "        text-align: right;\n",
       "    }\n",
       "</style>\n",
       "<table border=\"1\" class=\"dataframe\">\n",
       "  <thead>\n",
       "    <tr style=\"text-align: right;\">\n",
       "      <th></th>\n",
       "      <th>date</th>\n",
       "      <th>home_team</th>\n",
       "      <th>away_team</th>\n",
       "      <th>home_score</th>\n",
       "      <th>away_score</th>\n",
       "      <th>tournament</th>\n",
       "      <th>city</th>\n",
       "      <th>country</th>\n",
       "      <th>neutral</th>\n",
       "    </tr>\n",
       "  </thead>\n",
       "  <tbody>\n",
       "    <tr>\n",
       "      <th>0</th>\n",
       "      <td>1872-11-30</td>\n",
       "      <td>Scotland</td>\n",
       "      <td>England</td>\n",
       "      <td>0</td>\n",
       "      <td>0</td>\n",
       "      <td>Friendly</td>\n",
       "      <td>Glasgow</td>\n",
       "      <td>Scotland</td>\n",
       "      <td>False</td>\n",
       "    </tr>\n",
       "    <tr>\n",
       "      <th>1</th>\n",
       "      <td>1873-03-08</td>\n",
       "      <td>England</td>\n",
       "      <td>Scotland</td>\n",
       "      <td>4</td>\n",
       "      <td>2</td>\n",
       "      <td>Friendly</td>\n",
       "      <td>London</td>\n",
       "      <td>England</td>\n",
       "      <td>False</td>\n",
       "    </tr>\n",
       "    <tr>\n",
       "      <th>2</th>\n",
       "      <td>1874-03-07</td>\n",
       "      <td>Scotland</td>\n",
       "      <td>England</td>\n",
       "      <td>2</td>\n",
       "      <td>1</td>\n",
       "      <td>Friendly</td>\n",
       "      <td>Glasgow</td>\n",
       "      <td>Scotland</td>\n",
       "      <td>False</td>\n",
       "    </tr>\n",
       "    <tr>\n",
       "      <th>3</th>\n",
       "      <td>1875-03-06</td>\n",
       "      <td>England</td>\n",
       "      <td>Scotland</td>\n",
       "      <td>2</td>\n",
       "      <td>2</td>\n",
       "      <td>Friendly</td>\n",
       "      <td>London</td>\n",
       "      <td>England</td>\n",
       "      <td>False</td>\n",
       "    </tr>\n",
       "    <tr>\n",
       "      <th>4</th>\n",
       "      <td>1876-03-04</td>\n",
       "      <td>Scotland</td>\n",
       "      <td>England</td>\n",
       "      <td>3</td>\n",
       "      <td>0</td>\n",
       "      <td>Friendly</td>\n",
       "      <td>Glasgow</td>\n",
       "      <td>Scotland</td>\n",
       "      <td>False</td>\n",
       "    </tr>\n",
       "    <tr>\n",
       "      <th>...</th>\n",
       "      <td>...</td>\n",
       "      <td>...</td>\n",
       "      <td>...</td>\n",
       "      <td>...</td>\n",
       "      <td>...</td>\n",
       "      <td>...</td>\n",
       "      <td>...</td>\n",
       "      <td>...</td>\n",
       "      <td>...</td>\n",
       "    </tr>\n",
       "    <tr>\n",
       "      <th>43183</th>\n",
       "      <td>2/1/2022</td>\n",
       "      <td>Suriname</td>\n",
       "      <td>Guyana</td>\n",
       "      <td>2</td>\n",
       "      <td>1</td>\n",
       "      <td>Friendly</td>\n",
       "      <td>Paramaribo</td>\n",
       "      <td>Suriname</td>\n",
       "      <td>False</td>\n",
       "    </tr>\n",
       "    <tr>\n",
       "      <th>43184</th>\n",
       "      <td>2/2/2022</td>\n",
       "      <td>Burkina Faso</td>\n",
       "      <td>Senegal</td>\n",
       "      <td>1</td>\n",
       "      <td>3</td>\n",
       "      <td>African Cup of Nations</td>\n",
       "      <td>Yaoundé</td>\n",
       "      <td>Cameroon</td>\n",
       "      <td>True</td>\n",
       "    </tr>\n",
       "    <tr>\n",
       "      <th>43185</th>\n",
       "      <td>2/3/2022</td>\n",
       "      <td>Cameroon</td>\n",
       "      <td>Egypt</td>\n",
       "      <td>0</td>\n",
       "      <td>0</td>\n",
       "      <td>African Cup of Nations</td>\n",
       "      <td>Yaoundé</td>\n",
       "      <td>Cameroon</td>\n",
       "      <td>False</td>\n",
       "    </tr>\n",
       "    <tr>\n",
       "      <th>43186</th>\n",
       "      <td>2/5/2022</td>\n",
       "      <td>Cameroon</td>\n",
       "      <td>Burkina Faso</td>\n",
       "      <td>3</td>\n",
       "      <td>3</td>\n",
       "      <td>African Cup of Nations</td>\n",
       "      <td>Yaoundé</td>\n",
       "      <td>Cameroon</td>\n",
       "      <td>False</td>\n",
       "    </tr>\n",
       "    <tr>\n",
       "      <th>43187</th>\n",
       "      <td>2/6/2022</td>\n",
       "      <td>Senegal</td>\n",
       "      <td>Egypt</td>\n",
       "      <td>0</td>\n",
       "      <td>0</td>\n",
       "      <td>African Cup of Nations</td>\n",
       "      <td>Yaoundé</td>\n",
       "      <td>Cameroon</td>\n",
       "      <td>True</td>\n",
       "    </tr>\n",
       "  </tbody>\n",
       "</table>\n",
       "<p>43188 rows × 9 columns</p>\n",
       "</div>"
      ],
      "text/plain": [
       "             date     home_team     away_team  home_score  away_score  \\\n",
       "0      1872-11-30      Scotland       England           0           0   \n",
       "1      1873-03-08       England      Scotland           4           2   \n",
       "2      1874-03-07      Scotland       England           2           1   \n",
       "3      1875-03-06       England      Scotland           2           2   \n",
       "4      1876-03-04      Scotland       England           3           0   \n",
       "...           ...           ...           ...         ...         ...   \n",
       "43183    2/1/2022      Suriname        Guyana           2           1   \n",
       "43184    2/2/2022  Burkina Faso       Senegal           1           3   \n",
       "43185    2/3/2022      Cameroon         Egypt           0           0   \n",
       "43186    2/5/2022      Cameroon  Burkina Faso           3           3   \n",
       "43187    2/6/2022       Senegal         Egypt           0           0   \n",
       "\n",
       "                   tournament        city   country  neutral  \n",
       "0                    Friendly     Glasgow  Scotland    False  \n",
       "1                    Friendly      London   England    False  \n",
       "2                    Friendly     Glasgow  Scotland    False  \n",
       "3                    Friendly      London   England    False  \n",
       "4                    Friendly     Glasgow  Scotland    False  \n",
       "...                       ...         ...       ...      ...  \n",
       "43183                Friendly  Paramaribo  Suriname    False  \n",
       "43184  African Cup of Nations     Yaoundé  Cameroon     True  \n",
       "43185  African Cup of Nations     Yaoundé  Cameroon    False  \n",
       "43186  African Cup of Nations     Yaoundé  Cameroon    False  \n",
       "43187  African Cup of Nations     Yaoundé  Cameroon     True  \n",
       "\n",
       "[43188 rows x 9 columns]"
      ]
     },
     "execution_count": 20,
     "metadata": {},
     "output_type": "execute_result"
    }
   ],
   "source": [
    "df=pd.read_csv(\"results.csv\")\n",
    "df"
   ]
  },
  {
   "cell_type": "code",
   "execution_count": 21,
   "id": "12efbac9",
   "metadata": {},
   "outputs": [],
   "source": [
    "x=df['home_score']-df['away_score']\n",
    "conditions = [\n",
    "    (x<0),\n",
    "    (x>0),\n",
    "    (x==0)\n",
    "    ]"
   ]
  },
  {
   "cell_type": "code",
   "execution_count": 22,
   "id": "1761879d",
   "metadata": {},
   "outputs": [],
   "source": [
    "values= ['win','lose','draw']"
   ]
  },
  {
   "cell_type": "code",
   "execution_count": 23,
   "id": "0ae4bb42",
   "metadata": {},
   "outputs": [],
   "source": [
    "df['result'] = np.select(conditions, values)"
   ]
  },
  {
   "cell_type": "code",
   "execution_count": 24,
   "id": "a1c7bf33",
   "metadata": {},
   "outputs": [],
   "source": [
    "x=df['result'].value_counts()"
   ]
  },
  {
   "cell_type": "code",
   "execution_count": 25,
   "id": "7892eca6",
   "metadata": {},
   "outputs": [],
   "source": [
    "x=np.array(x)"
   ]
  },
  {
   "cell_type": "code",
   "execution_count": 26,
   "id": "9d0f9afe",
   "metadata": {},
   "outputs": [
    {
     "data": {
      "text/plain": [
       "array([21009, 12224,  9955], dtype=int64)"
      ]
     },
     "execution_count": 26,
     "metadata": {},
     "output_type": "execute_result"
    }
   ],
   "source": [
    "x"
   ]
  },
  {
   "cell_type": "code",
   "execution_count": 27,
   "id": "9f4c73a1",
   "metadata": {},
   "outputs": [],
   "source": [
    "conditions = [\n",
    "    (df['tournament']=='Friendly'),\n",
    "    (df['tournament']!='Friendly')\n",
    "    ]"
   ]
  },
  {
   "cell_type": "code",
   "execution_count": 28,
   "id": "e4ee38ff",
   "metadata": {},
   "outputs": [],
   "source": [
    "values=['Friendly','Official']"
   ]
  },
  {
   "cell_type": "code",
   "execution_count": 29,
   "id": "f8d536cb",
   "metadata": {},
   "outputs": [],
   "source": [
    "df['typematch'] = np.select(conditions, values)"
   ]
  },
  {
   "cell_type": "code",
   "execution_count": 30,
   "id": "01e47808",
   "metadata": {},
   "outputs": [
    {
     "data": {
      "text/html": [
       "<div>\n",
       "<style scoped>\n",
       "    .dataframe tbody tr th:only-of-type {\n",
       "        vertical-align: middle;\n",
       "    }\n",
       "\n",
       "    .dataframe tbody tr th {\n",
       "        vertical-align: top;\n",
       "    }\n",
       "\n",
       "    .dataframe thead th {\n",
       "        text-align: right;\n",
       "    }\n",
       "</style>\n",
       "<table border=\"1\" class=\"dataframe\">\n",
       "  <thead>\n",
       "    <tr style=\"text-align: right;\">\n",
       "      <th>result</th>\n",
       "      <th>draw</th>\n",
       "      <th>lose</th>\n",
       "      <th>win</th>\n",
       "      <th>All</th>\n",
       "    </tr>\n",
       "    <tr>\n",
       "      <th>typematch</th>\n",
       "      <th></th>\n",
       "      <th></th>\n",
       "      <th></th>\n",
       "      <th></th>\n",
       "    </tr>\n",
       "  </thead>\n",
       "  <tbody>\n",
       "    <tr>\n",
       "      <th>Friendly</th>\n",
       "      <td>4329</td>\n",
       "      <td>8141</td>\n",
       "      <td>4806</td>\n",
       "      <td>17276</td>\n",
       "    </tr>\n",
       "    <tr>\n",
       "      <th>Official</th>\n",
       "      <td>5626</td>\n",
       "      <td>12868</td>\n",
       "      <td>7418</td>\n",
       "      <td>25912</td>\n",
       "    </tr>\n",
       "    <tr>\n",
       "      <th>All</th>\n",
       "      <td>9955</td>\n",
       "      <td>21009</td>\n",
       "      <td>12224</td>\n",
       "      <td>43188</td>\n",
       "    </tr>\n",
       "  </tbody>\n",
       "</table>\n",
       "</div>"
      ],
      "text/plain": [
       "result     draw   lose    win    All\n",
       "typematch                           \n",
       "Friendly   4329   8141   4806  17276\n",
       "Official   5626  12868   7418  25912\n",
       "All        9955  21009  12224  43188"
      ]
     },
     "execution_count": 30,
     "metadata": {},
     "output_type": "execute_result"
    }
   ],
   "source": [
    "x=pd.crosstab(df['typematch'],df['result'],margins=True)\n",
    "x"
   ]
  },
  {
   "cell_type": "code",
   "execution_count": 31,
   "id": "45be74a5",
   "metadata": {},
   "outputs": [
    {
     "data": {
      "text/plain": [
       "array([[ 4329,  8141,  4806, 17276],\n",
       "       [ 5626, 12868,  7418, 25912],\n",
       "       [ 9955, 21009, 12224, 43188]], dtype=int64)"
      ]
     },
     "execution_count": 31,
     "metadata": {},
     "output_type": "execute_result"
    }
   ],
   "source": [
    "x=np.array(x)\n",
    "x"
   ]
  },
  {
   "cell_type": "code",
   "execution_count": 32,
   "id": "00538430",
   "metadata": {},
   "outputs": [
    {
     "data": {
      "text/plain": [
       "(0.27150736589666685, 0.2848714254902283)"
      ]
     },
     "execution_count": 32,
     "metadata": {},
     "output_type": "execute_result"
    }
   ],
   "source": [
    "CI_win_friendly=proportion_confint(count=x[0,2],nobs=x[0,3],alpha=(1-.95))\n",
    "CI_win_friendly"
   ]
  },
  {
   "cell_type": "code",
   "execution_count": 33,
   "id": "8f7d0cad",
   "metadata": {},
   "outputs": [
    {
     "data": {
      "text/plain": [
       "(0.2807729187467606, 0.29178033843138085)"
      ]
     },
     "execution_count": 33,
     "metadata": {},
     "output_type": "execute_result"
    }
   ],
   "source": [
    "CI_win_official=proportion_confint(count=x[1,2],nobs=x[1,3],alpha=(1-.95))\n",
    "CI_win_official"
   ]
  },
  {
   "cell_type": "code",
   "execution_count": 34,
   "id": "31b9d76e",
   "metadata": {},
   "outputs": [
    {
     "data": {
      "text/html": [
       "<div>\n",
       "<style scoped>\n",
       "    .dataframe tbody tr th:only-of-type {\n",
       "        vertical-align: middle;\n",
       "    }\n",
       "\n",
       "    .dataframe tbody tr th {\n",
       "        vertical-align: top;\n",
       "    }\n",
       "\n",
       "    .dataframe thead th {\n",
       "        text-align: right;\n",
       "    }\n",
       "</style>\n",
       "<table border=\"1\" class=\"dataframe\">\n",
       "  <thead>\n",
       "    <tr style=\"text-align: right;\">\n",
       "      <th></th>\n",
       "      <th>Typematch</th>\n",
       "      <th>lb</th>\n",
       "      <th>ub</th>\n",
       "    </tr>\n",
       "  </thead>\n",
       "  <tbody>\n",
       "    <tr>\n",
       "      <th>0</th>\n",
       "      <td>Friendly</td>\n",
       "      <td>0.271507</td>\n",
       "      <td>0.284871</td>\n",
       "    </tr>\n",
       "    <tr>\n",
       "      <th>1</th>\n",
       "      <td>Official</td>\n",
       "      <td>0.280773</td>\n",
       "      <td>0.291780</td>\n",
       "    </tr>\n",
       "  </tbody>\n",
       "</table>\n",
       "</div>"
      ],
      "text/plain": [
       "  Typematch        lb        ub\n",
       "0  Friendly  0.271507  0.284871\n",
       "1  Official  0.280773  0.291780"
      ]
     },
     "execution_count": 34,
     "metadata": {},
     "output_type": "execute_result"
    }
   ],
   "source": [
    "ci_win = {}\n",
    "ci_win['Typematch'] = ['Friendly','Official']\n",
    "ci_win['lb'] = [CI_win_friendly[0],CI_win_official[0]]\n",
    "ci_win['ub'] = [CI_win_friendly[1],CI_win_official[1]]\n",
    "df_ci3= pd.DataFrame(ci_win)\n",
    "df_ci3"
   ]
  },
  {
   "cell_type": "code",
   "execution_count": 35,
   "id": "90f1584f",
   "metadata": {},
   "outputs": [
    {
     "data": {
      "text/plain": [
       "([<matplotlib.axis.YTick at 0x1e41c48ab20>,\n",
       "  <matplotlib.axis.YTick at 0x1e41c48afd0>],\n",
       " [Text(0, 0, 'Friendly'), Text(0, 1, 'Official')])"
      ]
     },
     "execution_count": 35,
     "metadata": {},
     "output_type": "execute_result"
    },
    {
     "data": {
      "image/png": "[encoded data removed]",
      "text/plain": [
       "<Figure size 432x288 with 1 Axes>"
      ]
     },
     "metadata": {
      "needs_background": "light"
     },
     "output_type": "display_data"
    }
   ],
   "source": [
    "for lb,ub,y in zip(df_ci3['lb'],df_ci3['ub'],range(len(df_ci3))):\n",
    "    plt.plot((lb,ub),(y,y),'ro-')\n",
    "plt.yticks(range(len(df_ci3)),list(df_ci3['Typematch']))"
   ]
  },
  {
   "cell_type": "code",
   "execution_count": 36,
   "id": "535c4a2f",
   "metadata": {},
   "outputs": [
    {
     "data": {
      "text/plain": [
       "(0.46378827932197364, 0.47867525390331)"
      ]
     },
     "execution_count": 36,
     "metadata": {},
     "output_type": "execute_result"
    }
   ],
   "source": [
    "CI_lose_friendly=proportion_confint(count=x[0,1],nobs=x[0,3],alpha=(1-.95))\n",
    "CI_lose_friendly"
   ]
  },
  {
   "cell_type": "code",
   "execution_count": 37,
   "id": "11a03b33",
   "metadata": {},
   "outputs": [
    {
     "data": {
      "text/plain": [
       "(0.4905161288707065, 0.5026916513083611)"
      ]
     },
     "execution_count": 37,
     "metadata": {},
     "output_type": "execute_result"
    }
   ],
   "source": [
    "CI_lose_official=proportion_confint(count=x[1,1],nobs=x[1,3],alpha=(1-.95))\n",
    "CI_lose_official"
   ]
  },
  {
   "cell_type": "code",
   "execution_count": 38,
   "id": "ec9021c0",
   "metadata": {},
   "outputs": [
    {
     "data": {
      "text/html": [
       "<div>\n",
       "<style scoped>\n",
       "    .dataframe tbody tr th:only-of-type {\n",
       "        vertical-align: middle;\n",
       "    }\n",
       "\n",
       "    .dataframe tbody tr th {\n",
       "        vertical-align: top;\n",
       "    }\n",
       "\n",
       "    .dataframe thead th {\n",
       "        text-align: right;\n",
       "    }\n",
       "</style>\n",
       "<table border=\"1\" class=\"dataframe\">\n",
       "  <thead>\n",
       "    <tr style=\"text-align: right;\">\n",
       "      <th></th>\n",
       "      <th>Typematch</th>\n",
       "      <th>lb</th>\n",
       "      <th>ub</th>\n",
       "    </tr>\n",
       "  </thead>\n",
       "  <tbody>\n",
       "    <tr>\n",
       "      <th>0</th>\n",
       "      <td>Friendly</td>\n",
       "      <td>0.463788</td>\n",
       "      <td>0.478675</td>\n",
       "    </tr>\n",
       "    <tr>\n",
       "      <th>1</th>\n",
       "      <td>Official</td>\n",
       "      <td>0.490516</td>\n",
       "      <td>0.502692</td>\n",
       "    </tr>\n",
       "  </tbody>\n",
       "</table>\n",
       "</div>"
      ],
      "text/plain": [
       "  Typematch        lb        ub\n",
       "0  Friendly  0.463788  0.478675\n",
       "1  Official  0.490516  0.502692"
      ]
     },
     "execution_count": 38,
     "metadata": {},
     "output_type": "execute_result"
    }
   ],
   "source": [
    "ci_lose = {}\n",
    "ci_lose['Typematch'] = ['Friendly','Official']\n",
    "ci_lose['lb'] = [CI_lose_friendly[0],CI_lose_official[0]]\n",
    "ci_lose['ub'] = [CI_lose_friendly[1],CI_lose_official[1]]\n",
    "df_ci4= pd.DataFrame(ci_lose)\n",
    "df_ci4"
   ]
  },
  {
   "cell_type": "code",
   "execution_count": 39,
   "id": "c87d7fc4",
   "metadata": {
    "scrolled": true
   },
   "outputs": [
    {
     "data": {
      "text/plain": [
       "([<matplotlib.axis.YTick at 0x1e41c4ccbe0>,\n",
       "  <matplotlib.axis.YTick at 0x1e41c4ed910>],\n",
       " [Text(0, 0, 'Friendly'), Text(0, 1, 'Official')])"
      ]
     },
     "execution_count": 39,
     "metadata": {},
     "output_type": "execute_result"
    },
    {
     "data": {
      "image/png": "[encoded data removed]",
      "text/plain": [
       "<Figure size 432x288 with 1 Axes>"
      ]
     },
     "metadata": {
      "needs_background": "light"
     },
     "output_type": "display_data"
    }
   ],
   "source": [
    "for lb,ub,y in zip(df_ci4['lb'],df_ci4['ub'],range(len(df_ci4))):\n",
    "    plt.plot((lb,ub),(y,y),'ro-')\n",
    "plt.yticks(range(len(df_ci4)),list(df_ci4['Typematch']))"
   ]
  },
  {
   "cell_type": "code",
   "execution_count": 40,
   "id": "aa29c7c3",
   "metadata": {
    "scrolled": true
   },
   "outputs": [
    {
     "data": {
      "text/plain": [
       "United States          1237\n",
       "France                  818\n",
       "Malaysia                744\n",
       "England                 717\n",
       "Sweden                  655\n",
       "                       ... \n",
       "Belgian Congo             1\n",
       "Portuguese Guinea         1\n",
       "Bohemia and Moravia       1\n",
       "Lautoka                   1\n",
       "Mali Federation           1\n",
       "Name: country, Length: 267, dtype: int64"
      ]
     },
     "execution_count": 40,
     "metadata": {},
     "output_type": "execute_result"
    }
   ],
   "source": [
    "df['country'].value_counts()"
   ]
  },
  {
   "cell_type": "code",
   "execution_count": 41,
   "id": "3d082522",
   "metadata": {
    "scrolled": true
   },
   "outputs": [],
   "source": [
    "dfus=df[df['country']=='United States']"
   ]
  },
  {
   "cell_type": "code",
   "execution_count": 42,
   "id": "96d5c502",
   "metadata": {},
   "outputs": [],
   "source": [
    "conditions = [\n",
    "    (dfus['tournament']=='Friendly'),\n",
    "    (dfus['tournament']!='Friendly')\n",
    "    ]"
   ]
  },
  {
   "cell_type": "code",
   "execution_count": 43,
   "id": "88465429",
   "metadata": {},
   "outputs": [],
   "source": [
    "values=['Friendly','Official']"
   ]
  },
  {
   "cell_type": "code",
   "execution_count": 44,
   "id": "6cf0df9e",
   "metadata": {},
   "outputs": [
    {
     "name": "stderr",
     "output_type": "stream",
     "text": [
      "C:\\Users\\lenovo\\AppData\\Local\\Temp/ipykernel_3708/327193532.py:1: SettingWithCopyWarning: \n",
      "A value is trying to be set on a copy of a slice from a DataFrame.\n",
      "Try using .loc[row_indexer,col_indexer] = value instead\n",
      "\n",
      "See the caveats in the documentation: https://pandas.pydata.org/pandas-docs/stable/user_guide/indexing.html#returning-a-view-versus-a-copy\n",
      "  dfus['Typematch'] = np.select(conditions, values)\n"
     ]
    }
   ],
   "source": [
    "dfus['Typematch'] = np.select(conditions, values)"
   ]
  },
  {
   "cell_type": "code",
   "execution_count": 45,
   "id": "c8f5e6b9",
   "metadata": {},
   "outputs": [
    {
     "data": {
      "text/html": [
       "<div>\n",
       "<style scoped>\n",
       "    .dataframe tbody tr th:only-of-type {\n",
       "        vertical-align: middle;\n",
       "    }\n",
       "\n",
       "    .dataframe tbody tr th {\n",
       "        vertical-align: top;\n",
       "    }\n",
       "\n",
       "    .dataframe thead th {\n",
       "        text-align: right;\n",
       "    }\n",
       "</style>\n",
       "<table border=\"1\" class=\"dataframe\">\n",
       "  <thead>\n",
       "    <tr style=\"text-align: right;\">\n",
       "      <th>result</th>\n",
       "      <th>draw</th>\n",
       "      <th>lose</th>\n",
       "      <th>win</th>\n",
       "      <th>All</th>\n",
       "    </tr>\n",
       "    <tr>\n",
       "      <th>typematch</th>\n",
       "      <th></th>\n",
       "      <th></th>\n",
       "      <th></th>\n",
       "      <th></th>\n",
       "    </tr>\n",
       "  </thead>\n",
       "  <tbody>\n",
       "    <tr>\n",
       "      <th>Friendly</th>\n",
       "      <td>180</td>\n",
       "      <td>247</td>\n",
       "      <td>226</td>\n",
       "      <td>653</td>\n",
       "    </tr>\n",
       "    <tr>\n",
       "      <th>Official</th>\n",
       "      <td>114</td>\n",
       "      <td>315</td>\n",
       "      <td>155</td>\n",
       "      <td>584</td>\n",
       "    </tr>\n",
       "    <tr>\n",
       "      <th>All</th>\n",
       "      <td>294</td>\n",
       "      <td>562</td>\n",
       "      <td>381</td>\n",
       "      <td>1237</td>\n",
       "    </tr>\n",
       "  </tbody>\n",
       "</table>\n",
       "</div>"
      ],
      "text/plain": [
       "result     draw  lose  win   All\n",
       "typematch                       \n",
       "Friendly    180   247  226   653\n",
       "Official    114   315  155   584\n",
       "All         294   562  381  1237"
      ]
     },
     "execution_count": 45,
     "metadata": {},
     "output_type": "execute_result"
    }
   ],
   "source": [
    "x=pd.crosstab(dfus['typematch'],dfus['result'],margins=True)\n",
    "x"
   ]
  },
  {
   "cell_type": "code",
   "execution_count": 46,
   "id": "40f9ca42",
   "metadata": {},
   "outputs": [
    {
     "data": {
      "text/plain": [
       "array([[ 180,  247,  226,  653],\n",
       "       [ 114,  315,  155,  584],\n",
       "       [ 294,  562,  381, 1237]], dtype=int64)"
      ]
     },
     "execution_count": 46,
     "metadata": {},
     "output_type": "execute_result"
    }
   ],
   "source": [
    "x=np.array(x)\n",
    "x"
   ]
  },
  {
   "cell_type": "code",
   "execution_count": 47,
   "id": "798f518c",
   "metadata": {},
   "outputs": [
    {
     "data": {
      "text/plain": [
       "(0.22959939266607973, 0.30122252514213943)"
      ]
     },
     "execution_count": 47,
     "metadata": {},
     "output_type": "execute_result"
    }
   ],
   "source": [
    "CI_uswin_friendly=proportion_confint(count=x[1,2],nobs=x[1,3],alpha=(1-.95))\n",
    "CI_uswin_friendly"
   ]
  },
  {
   "cell_type": "code",
   "execution_count": 48,
   "id": "168bfffe",
   "metadata": {},
   "outputs": [
    {
     "data": {
      "text/plain": [
       "(0.3096072474351973, 0.38258264536725295)"
      ]
     },
     "execution_count": 48,
     "metadata": {},
     "output_type": "execute_result"
    }
   ],
   "source": [
    "CI_uswin_official=proportion_confint(count=x[0,2],nobs=x[0,3],alpha=(1-.95))\n",
    "CI_uswin_official"
   ]
  },
  {
   "cell_type": "code",
   "execution_count": 49,
   "id": "16e9c265",
   "metadata": {},
   "outputs": [
    {
     "data": {
      "text/html": [
       "<div>\n",
       "<style scoped>\n",
       "    .dataframe tbody tr th:only-of-type {\n",
       "        vertical-align: middle;\n",
       "    }\n",
       "\n",
       "    .dataframe tbody tr th {\n",
       "        vertical-align: top;\n",
       "    }\n",
       "\n",
       "    .dataframe thead th {\n",
       "        text-align: right;\n",
       "    }\n",
       "</style>\n",
       "<table border=\"1\" class=\"dataframe\">\n",
       "  <thead>\n",
       "    <tr style=\"text-align: right;\">\n",
       "      <th></th>\n",
       "      <th>Typematch</th>\n",
       "      <th>lb</th>\n",
       "      <th>ub</th>\n",
       "    </tr>\n",
       "  </thead>\n",
       "  <tbody>\n",
       "    <tr>\n",
       "      <th>0</th>\n",
       "      <td>Friendly</td>\n",
       "      <td>0.229599</td>\n",
       "      <td>0.301223</td>\n",
       "    </tr>\n",
       "    <tr>\n",
       "      <th>1</th>\n",
       "      <td>Official</td>\n",
       "      <td>0.309607</td>\n",
       "      <td>0.382583</td>\n",
       "    </tr>\n",
       "  </tbody>\n",
       "</table>\n",
       "</div>"
      ],
      "text/plain": [
       "  Typematch        lb        ub\n",
       "0  Friendly  0.229599  0.301223\n",
       "1  Official  0.309607  0.382583"
      ]
     },
     "execution_count": 49,
     "metadata": {},
     "output_type": "execute_result"
    }
   ],
   "source": [
    "ci_uswin = {}\n",
    "ci_uswin['Typematch'] = ['Friendly','Official']\n",
    "ci_uswin['lb'] = [CI_uswin_friendly[0],CI_uswin_official[0]]\n",
    "ci_uswin['ub'] = [CI_uswin_friendly[1],CI_uswin_official[1]]\n",
    "df_cius= pd.DataFrame(ci_uswin)\n",
    "df_cius"
   ]
  },
  {
   "cell_type": "code",
   "execution_count": 50,
   "id": "8fff2785",
   "metadata": {},
   "outputs": [
    {
     "data": {
      "text/plain": [
       "([<matplotlib.axis.YTick at 0x1e41c57bf40>,\n",
       "  <matplotlib.axis.YTick at 0x1e41c57b2e0>],\n",
       " [Text(0, 0, 'Friendly'), Text(0, 1, 'Official')])"
      ]
     },
     "execution_count": 50,
     "metadata": {},
     "output_type": "execute_result"
    },
    {
     "data": {
      "image/png": "[encoded data removed]",
      "text/plain": [
       "<Figure size 432x288 with 1 Axes>"
      ]
     },
     "metadata": {
      "needs_background": "light"
     },
     "output_type": "display_data"
    }
   ],
   "source": [
    "for lb,ub,y in zip(df_cius['lb'],df_cius['ub'],range(len(df_cius))):\n",
    "    plt.plot((lb,ub),(y,y),'ro-')\n",
    "plt.yticks(range(len(df_cius)),list(df_cius['Typematch']))"
   ]
  },
  {
   "cell_type": "code",
   "execution_count": 51,
   "id": "b78a46c3",
   "metadata": {},
   "outputs": [
    {
     "data": {
      "text/plain": [
       "(0.3410587617395715, 0.4154496609250533)"
      ]
     },
     "execution_count": 51,
     "metadata": {},
     "output_type": "execute_result"
    }
   ],
   "source": [
    "CI_uslose_friendly=proportion_confint(count=x[0,1],nobs=x[0,3],alpha=(1-.95))\n",
    "CI_uslose_friendly"
   ]
  },
  {
   "cell_type": "code",
   "execution_count": 52,
   "id": "418f6787",
   "metadata": {},
   "outputs": [
    {
     "data": {
      "text/plain": [
       "(0.4989576113893054, 0.5798095118983658)"
      ]
     },
     "execution_count": 52,
     "metadata": {},
     "output_type": "execute_result"
    }
   ],
   "source": [
    "CI_uslose_official=proportion_confint(count=x[1,1],nobs=x[1,3],alpha=(1-.95))\n",
    "CI_uslose_official"
   ]
  },
  {
   "cell_type": "code",
   "execution_count": 53,
   "id": "c64062ab",
   "metadata": {},
   "outputs": [
    {
     "data": {
      "text/html": [
       "<div>\n",
       "<style scoped>\n",
       "    .dataframe tbody tr th:only-of-type {\n",
       "        vertical-align: middle;\n",
       "    }\n",
       "\n",
       "    .dataframe tbody tr th {\n",
       "        vertical-align: top;\n",
       "    }\n",
       "\n",
       "    .dataframe thead th {\n",
       "        text-align: right;\n",
       "    }\n",
       "</style>\n",
       "<table border=\"1\" class=\"dataframe\">\n",
       "  <thead>\n",
       "    <tr style=\"text-align: right;\">\n",
       "      <th></th>\n",
       "      <th>Typematch</th>\n",
       "      <th>lb</th>\n",
       "      <th>ub</th>\n",
       "    </tr>\n",
       "  </thead>\n",
       "  <tbody>\n",
       "    <tr>\n",
       "      <th>0</th>\n",
       "      <td>Friendly</td>\n",
       "      <td>0.341059</td>\n",
       "      <td>0.41545</td>\n",
       "    </tr>\n",
       "    <tr>\n",
       "      <th>1</th>\n",
       "      <td>Official</td>\n",
       "      <td>0.498958</td>\n",
       "      <td>0.57981</td>\n",
       "    </tr>\n",
       "  </tbody>\n",
       "</table>\n",
       "</div>"
      ],
      "text/plain": [
       "  Typematch        lb       ub\n",
       "0  Friendly  0.341059  0.41545\n",
       "1  Official  0.498958  0.57981"
      ]
     },
     "execution_count": 53,
     "metadata": {},
     "output_type": "execute_result"
    }
   ],
   "source": [
    "ci_uslose = {}\n",
    "ci_uslose['Typematch'] = ['Friendly','Official']\n",
    "ci_uslose['lb'] = [CI_uslose_friendly[0],CI_uslose_official[0]]\n",
    "ci_uslose['ub'] = [CI_uslose_friendly[1],CI_uslose_official[1]]\n",
    "df_cius= pd.DataFrame(ci_uslose)\n",
    "df_cius"
   ]
  },
  {
   "cell_type": "code",
   "execution_count": 54,
   "id": "4030e217",
   "metadata": {
    "scrolled": false
   },
   "outputs": [
    {
     "data": {
      "text/plain": [
       "([<matplotlib.axis.YTick at 0x1e41c5dcd00>,\n",
       "  <matplotlib.axis.YTick at 0x1e41c5dc580>],\n",
       " [Text(0, 0, 'Friendly'), Text(0, 1, 'Official')])"
      ]
     },
     "execution_count": 54,
     "metadata": {},
     "output_type": "execute_result"
    },
    {
     "data": {
      "image/png": "[encoded data removed]",
      "text/plain": [
       "<Figure size 432x288 with 1 Axes>"
      ]
     },
     "metadata": {
      "needs_background": "light"
     },
     "output_type": "display_data"
    }
   ],
   "source": [
    "for lb,ub,y in zip(df_cius['lb'],df_cius['ub'],range(len(df_cius))):\n",
    "    plt.plot((lb,ub),(y,y),'ro-')\n",
    "plt.yticks(range(len(df_cius)),list(df_cius['Typematch']))"
   ]
  },
  {
   "cell_type": "code",
   "execution_count": 55,
   "id": "c73ba00b",
   "metadata": {},
   "outputs": [
    {
     "name": "stderr",
     "output_type": "stream",
     "text": [
      "C:\\Users\\lenovo\\AppData\\Local\\Temp/ipykernel_3708/3054155073.py:1: SettingWithCopyWarning: \n",
      "A value is trying to be set on a copy of a slice from a DataFrame.\n",
      "Try using .loc[row_indexer,col_indexer] = value instead\n",
      "\n",
      "See the caveats in the documentation: https://pandas.pydata.org/pandas-docs/stable/user_guide/indexing.html#returning-a-view-versus-a-copy\n",
      "  dfus['home']=(dfus['home_team']=='United States')\n"
     ]
    }
   ],
   "source": [
    "dfus['home']=(dfus['home_team']=='United States')"
   ]
  },
  {
   "cell_type": "code",
   "execution_count": 56,
   "id": "70859914",
   "metadata": {},
   "outputs": [
    {
     "data": {
      "text/html": [
       "<div>\n",
       "<style scoped>\n",
       "    .dataframe tbody tr th:only-of-type {\n",
       "        vertical-align: middle;\n",
       "    }\n",
       "\n",
       "    .dataframe tbody tr th {\n",
       "        vertical-align: top;\n",
       "    }\n",
       "\n",
       "    .dataframe thead th {\n",
       "        text-align: right;\n",
       "    }\n",
       "</style>\n",
       "<table border=\"1\" class=\"dataframe\">\n",
       "  <thead>\n",
       "    <tr style=\"text-align: right;\">\n",
       "      <th>result</th>\n",
       "      <th>draw</th>\n",
       "      <th>lose</th>\n",
       "      <th>win</th>\n",
       "      <th>All</th>\n",
       "    </tr>\n",
       "    <tr>\n",
       "      <th>home</th>\n",
       "      <th></th>\n",
       "      <th></th>\n",
       "      <th></th>\n",
       "      <th></th>\n",
       "    </tr>\n",
       "  </thead>\n",
       "  <tbody>\n",
       "    <tr>\n",
       "      <th>False</th>\n",
       "      <td>203</td>\n",
       "      <td>333</td>\n",
       "      <td>290</td>\n",
       "      <td>826</td>\n",
       "    </tr>\n",
       "    <tr>\n",
       "      <th>True</th>\n",
       "      <td>91</td>\n",
       "      <td>229</td>\n",
       "      <td>91</td>\n",
       "      <td>411</td>\n",
       "    </tr>\n",
       "    <tr>\n",
       "      <th>All</th>\n",
       "      <td>294</td>\n",
       "      <td>562</td>\n",
       "      <td>381</td>\n",
       "      <td>1237</td>\n",
       "    </tr>\n",
       "  </tbody>\n",
       "</table>\n",
       "</div>"
      ],
      "text/plain": [
       "result  draw  lose  win   All\n",
       "home                         \n",
       "False    203   333  290   826\n",
       "True      91   229   91   411\n",
       "All      294   562  381  1237"
      ]
     },
     "execution_count": 56,
     "metadata": {},
     "output_type": "execute_result"
    }
   ],
   "source": [
    "x=pd.crosstab(dfus['home'],dfus['result'],margins=True)\n",
    "x"
   ]
  },
  {
   "cell_type": "code",
   "execution_count": 57,
   "id": "1c4b7081",
   "metadata": {},
   "outputs": [
    {
     "data": {
      "text/plain": [
       "array([[ 203,  333,  290,  826],\n",
       "       [  91,  229,   91,  411],\n",
       "       [ 294,  562,  381, 1237]], dtype=int64)"
      ]
     },
     "execution_count": 57,
     "metadata": {},
     "output_type": "execute_result"
    }
   ],
   "source": [
    "x=np.array(x)\n",
    "x"
   ]
  },
  {
   "cell_type": "code",
   "execution_count": 58,
   "id": "e557a64d",
   "metadata": {},
   "outputs": [
    {
     "data": {
      "text/plain": [
       "(0.1812708525133201, 0.26155153191490377)"
      ]
     },
     "execution_count": 58,
     "metadata": {},
     "output_type": "execute_result"
    }
   ],
   "source": [
    "CI_uswin_home=proportion_confint(count=x[1,2],nobs=x[1,3],alpha=(1-.95))\n",
    "CI_uswin_home"
   ]
  },
  {
   "cell_type": "code",
   "execution_count": 59,
   "id": "8c1982ec",
   "metadata": {},
   "outputs": [
    {
     "data": {
      "text/plain": [
       "(0.31853895723001224, 0.3836402195254357)"
      ]
     },
     "execution_count": 59,
     "metadata": {},
     "output_type": "execute_result"
    }
   ],
   "source": [
    "CI_uswin_away=proportion_confint(count=x[0,2],nobs=x[0,3],alpha=(1-.95))\n",
    "CI_uswin_away"
   ]
  },
  {
   "cell_type": "code",
   "execution_count": 60,
   "id": "29a0b8eb",
   "metadata": {},
   "outputs": [
    {
     "data": {
      "text/html": [
       "<div>\n",
       "<style scoped>\n",
       "    .dataframe tbody tr th:only-of-type {\n",
       "        vertical-align: middle;\n",
       "    }\n",
       "\n",
       "    .dataframe tbody tr th {\n",
       "        vertical-align: top;\n",
       "    }\n",
       "\n",
       "    .dataframe thead th {\n",
       "        text-align: right;\n",
       "    }\n",
       "</style>\n",
       "<table border=\"1\" class=\"dataframe\">\n",
       "  <thead>\n",
       "    <tr style=\"text-align: right;\">\n",
       "      <th></th>\n",
       "      <th>home</th>\n",
       "      <th>lb</th>\n",
       "      <th>ub</th>\n",
       "    </tr>\n",
       "  </thead>\n",
       "  <tbody>\n",
       "    <tr>\n",
       "      <th>0</th>\n",
       "      <td>Yes</td>\n",
       "      <td>0.181271</td>\n",
       "      <td>0.261552</td>\n",
       "    </tr>\n",
       "    <tr>\n",
       "      <th>1</th>\n",
       "      <td>No</td>\n",
       "      <td>0.318539</td>\n",
       "      <td>0.383640</td>\n",
       "    </tr>\n",
       "  </tbody>\n",
       "</table>\n",
       "</div>"
      ],
      "text/plain": [
       "  home        lb        ub\n",
       "0  Yes  0.181271  0.261552\n",
       "1   No  0.318539  0.383640"
      ]
     },
     "execution_count": 60,
     "metadata": {},
     "output_type": "execute_result"
    }
   ],
   "source": [
    "ci_uswin = {}\n",
    "ci_uswin['home'] = ['Yes','No']\n",
    "ci_uswin['lb'] = [CI_uswin_home[0],CI_uswin_away[0]]\n",
    "ci_uswin['ub'] = [CI_uswin_home[1],CI_uswin_away[1]]\n",
    "df_ci= pd.DataFrame(ci_uswin)\n",
    "df_ci"
   ]
  },
  {
   "cell_type": "code",
   "execution_count": 61,
   "id": "f5173e10",
   "metadata": {},
   "outputs": [
    {
     "data": {
      "text/plain": [
       "([<matplotlib.axis.YTick at 0x1e41c9897f0>,\n",
       "  <matplotlib.axis.YTick at 0x1e41c984fa0>],\n",
       " [Text(0, 0, 'Yes'), Text(0, 1, 'No')])"
      ]
     },
     "execution_count": 61,
     "metadata": {},
     "output_type": "execute_result"
    },
    {
     "data": {
      "image/png": "[encoded data removed]",
      "text/plain": [
       "<Figure size 432x288 with 1 Axes>"
      ]
     },
     "metadata": {
      "needs_background": "light"
     },
     "output_type": "display_data"
    }
   ],
   "source": [
    "for lb,ub,y in zip(df_ci['lb'],df_ci['ub'],range(len(df_ci))):\n",
    "    plt.plot((lb,ub),(y,y),'ro-')\n",
    "plt.yticks(range(len(df_ci)),list(df_ci['home']))"
   ]
  },
  {
   "cell_type": "code",
   "execution_count": 62,
   "id": "cf0c24ad",
   "metadata": {},
   "outputs": [
    {
     "data": {
      "text/plain": [
       "(0.5091557759095878, 0.6051994552339645)"
      ]
     },
     "execution_count": 62,
     "metadata": {},
     "output_type": "execute_result"
    }
   ],
   "source": [
    "CI_uslose_home=proportion_confint(count=x[1,1],nobs=x[1,3],alpha=(1-.95))\n",
    "CI_uslose_home"
   ]
  },
  {
   "cell_type": "code",
   "execution_count": 63,
   "id": "312dff13",
   "metadata": {},
   "outputs": [
    {
     "data": {
      "text/plain": [
       "(0.3696955835778047, 0.4365998159379338)"
      ]
     },
     "execution_count": 63,
     "metadata": {},
     "output_type": "execute_result"
    }
   ],
   "source": [
    "CI_uslose_away=proportion_confint(count=x[0,1],nobs=x[0,3],alpha=(1-.95))\n",
    "CI_uslose_away"
   ]
  },
  {
   "cell_type": "code",
   "execution_count": 64,
   "id": "d5c09b55",
   "metadata": {},
   "outputs": [
    {
     "data": {
      "text/html": [
       "<div>\n",
       "<style scoped>\n",
       "    .dataframe tbody tr th:only-of-type {\n",
       "        vertical-align: middle;\n",
       "    }\n",
       "\n",
       "    .dataframe tbody tr th {\n",
       "        vertical-align: top;\n",
       "    }\n",
       "\n",
       "    .dataframe thead th {\n",
       "        text-align: right;\n",
       "    }\n",
       "</style>\n",
       "<table border=\"1\" class=\"dataframe\">\n",
       "  <thead>\n",
       "    <tr style=\"text-align: right;\">\n",
       "      <th></th>\n",
       "      <th>home</th>\n",
       "      <th>lb</th>\n",
       "      <th>ub</th>\n",
       "    </tr>\n",
       "  </thead>\n",
       "  <tbody>\n",
       "    <tr>\n",
       "      <th>0</th>\n",
       "      <td>Yes</td>\n",
       "      <td>0.509156</td>\n",
       "      <td>0.605199</td>\n",
       "    </tr>\n",
       "    <tr>\n",
       "      <th>1</th>\n",
       "      <td>No</td>\n",
       "      <td>0.369696</td>\n",
       "      <td>0.436600</td>\n",
       "    </tr>\n",
       "  </tbody>\n",
       "</table>\n",
       "</div>"
      ],
      "text/plain": [
       "  home        lb        ub\n",
       "0  Yes  0.509156  0.605199\n",
       "1   No  0.369696  0.436600"
      ]
     },
     "execution_count": 64,
     "metadata": {},
     "output_type": "execute_result"
    }
   ],
   "source": [
    "ci_uslose = {}\n",
    "ci_uslose['home'] = ['Yes','No']\n",
    "ci_uslose['lb'] = [CI_uslose_home[0],CI_uslose_away[0]]\n",
    "ci_uslose['ub'] = [CI_uslose_home[1],CI_uslose_away[1]]\n",
    "df_ci= pd.DataFrame(ci_uslose)\n",
    "df_ci"
   ]
  },
  {
   "cell_type": "code",
   "execution_count": 65,
   "id": "63e50cf8",
   "metadata": {},
   "outputs": [
    {
     "data": {
      "text/plain": [
       "([<matplotlib.axis.YTick at 0x1e41c9e9ca0>,\n",
       "  <matplotlib.axis.YTick at 0x1e41c9e9520>],\n",
       " [Text(0, 0, 'Yes'), Text(0, 1, 'No')])"
      ]
     },
     "execution_count": 65,
     "metadata": {},
     "output_type": "execute_result"
    },
    {
     "data": {
      "image/png": "[encoded data removed]",
      "text/plain": [
       "<Figure size 432x288 with 1 Axes>"
      ]
     },
     "metadata": {
      "needs_background": "light"
     },
     "output_type": "display_data"
    }
   ],
   "source": [
    "for lb,ub,y in zip(df_ci['lb'],df_ci['ub'],range(len(df_ci))):\n",
    "    plt.plot((lb,ub),(y,y),'ro-')\n",
    "plt.yticks(range(len(df_ci)),list(df_ci['home']))"
   ]
  },
  {
   "cell_type": "markdown",
   "id": "70279b6d",
   "metadata": {},
   "source": [
    "# Conclusion for Part 1\n",
    "The code aims to find the 95% confidence interval for won/lost matches for both match types, Friendly and Official. The first 2 confidence intervals were for won/lost matches in friendly and offical matches for all countries in general without choosing a specific one. The confidence interval for winning in both both matches types were totally different. The range of the interval for winning an official match is less than a friendly match. Which led to a high margin of error  for winning a friendly match, and the propability of winning a friendly match is high than winning an official match. Moreover, for losing, it's the same thing. The probability of losing a match is higher in friendly matches and the MOE is also bigger. The first 2 confidence intervals were for won/lost matches in friendly and offical matches for the most common country, United States. The range of the interval for winning an official match is more than a friendly match. Which led to a high margin of error  for winning an official match, and the propability of winning an official match is higher than winning a friendly match. Moreover,for losing, it's the same thing. The probability of losing a match is higher in official matches and the MOE is also bigger. I also did the same thing for winning and lossing in both home and away matches"
   ]
  },
  {
   "cell_type": "markdown",
   "id": "4e0bff07",
   "metadata": {},
   "source": [
    "#  Analysis of CoronaVirus Pandemic Over the Period Between 2020 and 2021.\n",
    "\n"
   ]
  },
  {
   "cell_type": "code",
   "execution_count": 66,
   "id": "34cabb80",
   "metadata": {
    "scrolled": true
   },
   "outputs": [
    {
     "data": {
      "text/html": [
       "<div>\n",
       "<style scoped>\n",
       "    .dataframe tbody tr th:only-of-type {\n",
       "        vertical-align: middle;\n",
       "    }\n",
       "\n",
       "    .dataframe tbody tr th {\n",
       "        vertical-align: top;\n",
       "    }\n",
       "\n",
       "    .dataframe thead th {\n",
       "        text-align: right;\n",
       "    }\n",
       "</style>\n",
       "<table border=\"1\" class=\"dataframe\">\n",
       "  <thead>\n",
       "    <tr style=\"text-align: right;\">\n",
       "      <th></th>\n",
       "      <th>date</th>\n",
       "      <th>iso3c</th>\n",
       "      <th>country</th>\n",
       "      <th>income</th>\n",
       "      <th>region</th>\n",
       "      <th>continent</th>\n",
       "      <th>dcases</th>\n",
       "      <th>ddeaths</th>\n",
       "      <th>population</th>\n",
       "      <th>weekdays</th>\n",
       "      <th>month</th>\n",
       "    </tr>\n",
       "  </thead>\n",
       "  <tbody>\n",
       "    <tr>\n",
       "      <th>0</th>\n",
       "      <td>2020-02-24</td>\n",
       "      <td>AFG</td>\n",
       "      <td>Afghanistan</td>\n",
       "      <td>Low income</td>\n",
       "      <td>South Asia</td>\n",
       "      <td>Asia</td>\n",
       "      <td>5</td>\n",
       "      <td>0</td>\n",
       "      <td>38041754</td>\n",
       "      <td>Mon</td>\n",
       "      <td>Feb</td>\n",
       "    </tr>\n",
       "    <tr>\n",
       "      <th>1</th>\n",
       "      <td>2020-02-25</td>\n",
       "      <td>AFG</td>\n",
       "      <td>Afghanistan</td>\n",
       "      <td>Low income</td>\n",
       "      <td>South Asia</td>\n",
       "      <td>Asia</td>\n",
       "      <td>0</td>\n",
       "      <td>0</td>\n",
       "      <td>38041754</td>\n",
       "      <td>Tue</td>\n",
       "      <td>Feb</td>\n",
       "    </tr>\n",
       "    <tr>\n",
       "      <th>2</th>\n",
       "      <td>2020-02-26</td>\n",
       "      <td>AFG</td>\n",
       "      <td>Afghanistan</td>\n",
       "      <td>Low income</td>\n",
       "      <td>South Asia</td>\n",
       "      <td>Asia</td>\n",
       "      <td>0</td>\n",
       "      <td>0</td>\n",
       "      <td>38041754</td>\n",
       "      <td>Wed</td>\n",
       "      <td>Feb</td>\n",
       "    </tr>\n",
       "    <tr>\n",
       "      <th>3</th>\n",
       "      <td>2020-02-27</td>\n",
       "      <td>AFG</td>\n",
       "      <td>Afghanistan</td>\n",
       "      <td>Low income</td>\n",
       "      <td>South Asia</td>\n",
       "      <td>Asia</td>\n",
       "      <td>0</td>\n",
       "      <td>0</td>\n",
       "      <td>38041754</td>\n",
       "      <td>Thu</td>\n",
       "      <td>Feb</td>\n",
       "    </tr>\n",
       "    <tr>\n",
       "      <th>4</th>\n",
       "      <td>2020-02-28</td>\n",
       "      <td>AFG</td>\n",
       "      <td>Afghanistan</td>\n",
       "      <td>Low income</td>\n",
       "      <td>South Asia</td>\n",
       "      <td>Asia</td>\n",
       "      <td>0</td>\n",
       "      <td>0</td>\n",
       "      <td>38041754</td>\n",
       "      <td>Fri</td>\n",
       "      <td>Feb</td>\n",
       "    </tr>\n",
       "    <tr>\n",
       "      <th>...</th>\n",
       "      <td>...</td>\n",
       "      <td>...</td>\n",
       "      <td>...</td>\n",
       "      <td>...</td>\n",
       "      <td>...</td>\n",
       "      <td>...</td>\n",
       "      <td>...</td>\n",
       "      <td>...</td>\n",
       "      <td>...</td>\n",
       "      <td>...</td>\n",
       "      <td>...</td>\n",
       "    </tr>\n",
       "    <tr>\n",
       "      <th>122838</th>\n",
       "      <td>2021-12-27</td>\n",
       "      <td>ZWE</td>\n",
       "      <td>Zimbabwe</td>\n",
       "      <td>Lower middle income</td>\n",
       "      <td>Sub-Saharan Africa</td>\n",
       "      <td>Africa</td>\n",
       "      <td>1098</td>\n",
       "      <td>17</td>\n",
       "      <td>14645468</td>\n",
       "      <td>Mon</td>\n",
       "      <td>Dec</td>\n",
       "    </tr>\n",
       "    <tr>\n",
       "      <th>122839</th>\n",
       "      <td>2021-12-28</td>\n",
       "      <td>ZWE</td>\n",
       "      <td>Zimbabwe</td>\n",
       "      <td>Lower middle income</td>\n",
       "      <td>Sub-Saharan Africa</td>\n",
       "      <td>Africa</td>\n",
       "      <td>2099</td>\n",
       "      <td>32</td>\n",
       "      <td>14645468</td>\n",
       "      <td>Tue</td>\n",
       "      <td>Dec</td>\n",
       "    </tr>\n",
       "    <tr>\n",
       "      <th>122840</th>\n",
       "      <td>2021-12-29</td>\n",
       "      <td>ZWE</td>\n",
       "      <td>Zimbabwe</td>\n",
       "      <td>Lower middle income</td>\n",
       "      <td>Sub-Saharan Africa</td>\n",
       "      <td>Africa</td>\n",
       "      <td>0</td>\n",
       "      <td>0</td>\n",
       "      <td>14645468</td>\n",
       "      <td>Wed</td>\n",
       "      <td>Dec</td>\n",
       "    </tr>\n",
       "    <tr>\n",
       "      <th>122841</th>\n",
       "      <td>2021-12-30</td>\n",
       "      <td>ZWE</td>\n",
       "      <td>Zimbabwe</td>\n",
       "      <td>Lower middle income</td>\n",
       "      <td>Sub-Saharan Africa</td>\n",
       "      <td>Africa</td>\n",
       "      <td>4180</td>\n",
       "      <td>57</td>\n",
       "      <td>14645468</td>\n",
       "      <td>Thu</td>\n",
       "      <td>Dec</td>\n",
       "    </tr>\n",
       "    <tr>\n",
       "      <th>122842</th>\n",
       "      <td>2021-12-31</td>\n",
       "      <td>ZWE</td>\n",
       "      <td>Zimbabwe</td>\n",
       "      <td>Lower middle income</td>\n",
       "      <td>Sub-Saharan Africa</td>\n",
       "      <td>Africa</td>\n",
       "      <td>1530</td>\n",
       "      <td>7</td>\n",
       "      <td>14645468</td>\n",
       "      <td>Fri</td>\n",
       "      <td>Dec</td>\n",
       "    </tr>\n",
       "  </tbody>\n",
       "</table>\n",
       "<p>122843 rows × 11 columns</p>\n",
       "</div>"
      ],
      "text/plain": [
       "              date iso3c      country               income  \\\n",
       "0       2020-02-24   AFG  Afghanistan           Low income   \n",
       "1       2020-02-25   AFG  Afghanistan           Low income   \n",
       "2       2020-02-26   AFG  Afghanistan           Low income   \n",
       "3       2020-02-27   AFG  Afghanistan           Low income   \n",
       "4       2020-02-28   AFG  Afghanistan           Low income   \n",
       "...            ...   ...          ...                  ...   \n",
       "122838  2021-12-27   ZWE     Zimbabwe  Lower middle income   \n",
       "122839  2021-12-28   ZWE     Zimbabwe  Lower middle income   \n",
       "122840  2021-12-29   ZWE     Zimbabwe  Lower middle income   \n",
       "122841  2021-12-30   ZWE     Zimbabwe  Lower middle income   \n",
       "122842  2021-12-31   ZWE     Zimbabwe  Lower middle income   \n",
       "\n",
       "                    region continent  dcases  ddeaths  population weekdays  \\\n",
       "0               South Asia      Asia       5        0    38041754      Mon   \n",
       "1               South Asia      Asia       0        0    38041754      Tue   \n",
       "2               South Asia      Asia       0        0    38041754      Wed   \n",
       "3               South Asia      Asia       0        0    38041754      Thu   \n",
       "4               South Asia      Asia       0        0    38041754      Fri   \n",
       "...                    ...       ...     ...      ...         ...      ...   \n",
       "122838  Sub-Saharan Africa    Africa    1098       17    14645468      Mon   \n",
       "122839  Sub-Saharan Africa    Africa    2099       32    14645468      Tue   \n",
       "122840  Sub-Saharan Africa    Africa       0        0    14645468      Wed   \n",
       "122841  Sub-Saharan Africa    Africa    4180       57    14645468      Thu   \n",
       "122842  Sub-Saharan Africa    Africa    1530        7    14645468      Fri   \n",
       "\n",
       "       month  \n",
       "0        Feb  \n",
       "1        Feb  \n",
       "2        Feb  \n",
       "3        Feb  \n",
       "4        Feb  \n",
       "...      ...  \n",
       "122838   Dec  \n",
       "122839   Dec  \n",
       "122840   Dec  \n",
       "122841   Dec  \n",
       "122842   Dec  \n",
       "\n",
       "[122843 rows x 11 columns]"
      ]
     },
     "execution_count": 66,
     "metadata": {},
     "output_type": "execute_result"
    }
   ],
   "source": [
    "df1=pd.read_csv('covid_data.csv',encoding='latin-1')\n",
    "df1"
   ]
  },
  {
   "cell_type": "code",
   "execution_count": 67,
   "id": "c822b736",
   "metadata": {},
   "outputs": [],
   "source": [
    "from pandas.api.types import CategoricalDtype\n",
    "cats=['Jan', 'Feb', 'Mar','Apr','May','Jun','Jul','Aug','Sep','Oct','Nov','Dec']\n",
    "cat_type = CategoricalDtype(categories=cats, ordered=True)\n",
    "df1['month'] = df1['month'].astype(cat_type)"
   ]
  },
  {
   "cell_type": "code",
   "execution_count": 68,
   "id": "7b0f4a62",
   "metadata": {},
   "outputs": [],
   "source": [
    "def get_ci_lb(x, alpha=0.05):\n",
    "    sample_s=np.std(x)\n",
    "    sample_mean=np.mean(x)\n",
    "    sample_size=len(x)\n",
    "    margin_of_error = t.ppf(1 - alpha/2,sample_size-1)*sample_s/np.sqrt(sample_size-1)\n",
    "    return sample_mean - margin_of_error\n",
    "\n",
    "\n",
    "def get_ci_ub(x, alpha=0.05):\n",
    "    sample_s=np.std(x)\n",
    "    sample_mean=np.mean(x)\n",
    "    sample_size=len(x)\n",
    "    margin_of_error = t.ppf(1 - alpha/2,sample_size-1)*sample_s/np.sqrt(sample_size-1)\n",
    "    return sample_mean + margin_of_error"
   ]
  },
  {
   "cell_type": "code",
   "execution_count": 69,
   "id": "d15923c1",
   "metadata": {},
   "outputs": [
    {
     "data": {
      "text/plain": [
       "2020"
      ]
     },
     "execution_count": 69,
     "metadata": {},
     "output_type": "execute_result"
    }
   ],
   "source": [
    "df1['date'][0]\n",
    "\n",
    "df1['date'] = pd. to_datetime(df1['date'],format='%Y-%m-%d')\n",
    "\n",
    "df1['date'][0]\n",
    "\n",
    "df1['year'] = pd. DatetimeIndex(df1['date']). year\n",
    "\n",
    "df1['year'][0]\n"
   ]
  },
  {
   "cell_type": "code",
   "execution_count": 70,
   "id": "66db4ae8",
   "metadata": {},
   "outputs": [
    {
     "data": {
      "text/html": [
       "<div>\n",
       "<style scoped>\n",
       "    .dataframe tbody tr th:only-of-type {\n",
       "        vertical-align: middle;\n",
       "    }\n",
       "\n",
       "    .dataframe tbody tr th {\n",
       "        vertical-align: top;\n",
       "    }\n",
       "\n",
       "    .dataframe thead th {\n",
       "        text-align: right;\n",
       "    }\n",
       "</style>\n",
       "<table border=\"1\" class=\"dataframe\">\n",
       "  <thead>\n",
       "    <tr style=\"text-align: right;\">\n",
       "      <th></th>\n",
       "      <th>date</th>\n",
       "      <th>iso3c</th>\n",
       "      <th>country</th>\n",
       "      <th>income</th>\n",
       "      <th>region</th>\n",
       "      <th>continent</th>\n",
       "      <th>dcases</th>\n",
       "      <th>ddeaths</th>\n",
       "      <th>population</th>\n",
       "      <th>weekdays</th>\n",
       "      <th>month</th>\n",
       "      <th>year</th>\n",
       "      <th>totdeaths</th>\n",
       "      <th>totcases</th>\n",
       "      <th>ratio</th>\n",
       "    </tr>\n",
       "  </thead>\n",
       "  <tbody>\n",
       "    <tr>\n",
       "      <th>0</th>\n",
       "      <td>2020-02-24</td>\n",
       "      <td>AFG</td>\n",
       "      <td>Afghanistan</td>\n",
       "      <td>Low income</td>\n",
       "      <td>South Asia</td>\n",
       "      <td>Asia</td>\n",
       "      <td>5</td>\n",
       "      <td>0</td>\n",
       "      <td>38041754</td>\n",
       "      <td>Mon</td>\n",
       "      <td>Feb</td>\n",
       "      <td>2020</td>\n",
       "      <td>0</td>\n",
       "      <td>5</td>\n",
       "      <td>0.000000</td>\n",
       "    </tr>\n",
       "    <tr>\n",
       "      <th>1</th>\n",
       "      <td>2020-02-25</td>\n",
       "      <td>AFG</td>\n",
       "      <td>Afghanistan</td>\n",
       "      <td>Low income</td>\n",
       "      <td>South Asia</td>\n",
       "      <td>Asia</td>\n",
       "      <td>0</td>\n",
       "      <td>0</td>\n",
       "      <td>38041754</td>\n",
       "      <td>Tue</td>\n",
       "      <td>Feb</td>\n",
       "      <td>2020</td>\n",
       "      <td>0</td>\n",
       "      <td>5</td>\n",
       "      <td>0.000000</td>\n",
       "    </tr>\n",
       "    <tr>\n",
       "      <th>2</th>\n",
       "      <td>2020-02-26</td>\n",
       "      <td>AFG</td>\n",
       "      <td>Afghanistan</td>\n",
       "      <td>Low income</td>\n",
       "      <td>South Asia</td>\n",
       "      <td>Asia</td>\n",
       "      <td>0</td>\n",
       "      <td>0</td>\n",
       "      <td>38041754</td>\n",
       "      <td>Wed</td>\n",
       "      <td>Feb</td>\n",
       "      <td>2020</td>\n",
       "      <td>0</td>\n",
       "      <td>5</td>\n",
       "      <td>0.000000</td>\n",
       "    </tr>\n",
       "    <tr>\n",
       "      <th>3</th>\n",
       "      <td>2020-02-27</td>\n",
       "      <td>AFG</td>\n",
       "      <td>Afghanistan</td>\n",
       "      <td>Low income</td>\n",
       "      <td>South Asia</td>\n",
       "      <td>Asia</td>\n",
       "      <td>0</td>\n",
       "      <td>0</td>\n",
       "      <td>38041754</td>\n",
       "      <td>Thu</td>\n",
       "      <td>Feb</td>\n",
       "      <td>2020</td>\n",
       "      <td>0</td>\n",
       "      <td>5</td>\n",
       "      <td>0.000000</td>\n",
       "    </tr>\n",
       "    <tr>\n",
       "      <th>4</th>\n",
       "      <td>2020-02-28</td>\n",
       "      <td>AFG</td>\n",
       "      <td>Afghanistan</td>\n",
       "      <td>Low income</td>\n",
       "      <td>South Asia</td>\n",
       "      <td>Asia</td>\n",
       "      <td>0</td>\n",
       "      <td>0</td>\n",
       "      <td>38041754</td>\n",
       "      <td>Fri</td>\n",
       "      <td>Feb</td>\n",
       "      <td>2020</td>\n",
       "      <td>0</td>\n",
       "      <td>5</td>\n",
       "      <td>0.000000</td>\n",
       "    </tr>\n",
       "    <tr>\n",
       "      <th>...</th>\n",
       "      <td>...</td>\n",
       "      <td>...</td>\n",
       "      <td>...</td>\n",
       "      <td>...</td>\n",
       "      <td>...</td>\n",
       "      <td>...</td>\n",
       "      <td>...</td>\n",
       "      <td>...</td>\n",
       "      <td>...</td>\n",
       "      <td>...</td>\n",
       "      <td>...</td>\n",
       "      <td>...</td>\n",
       "      <td>...</td>\n",
       "      <td>...</td>\n",
       "      <td>...</td>\n",
       "    </tr>\n",
       "    <tr>\n",
       "      <th>122838</th>\n",
       "      <td>2021-12-27</td>\n",
       "      <td>ZWE</td>\n",
       "      <td>Zimbabwe</td>\n",
       "      <td>Lower middle income</td>\n",
       "      <td>Sub-Saharan Africa</td>\n",
       "      <td>Africa</td>\n",
       "      <td>1098</td>\n",
       "      <td>17</td>\n",
       "      <td>14645468</td>\n",
       "      <td>Mon</td>\n",
       "      <td>Dec</td>\n",
       "      <td>2021</td>\n",
       "      <td>4908</td>\n",
       "      <td>205455</td>\n",
       "      <td>0.023888</td>\n",
       "    </tr>\n",
       "    <tr>\n",
       "      <th>122839</th>\n",
       "      <td>2021-12-28</td>\n",
       "      <td>ZWE</td>\n",
       "      <td>Zimbabwe</td>\n",
       "      <td>Lower middle income</td>\n",
       "      <td>Sub-Saharan Africa</td>\n",
       "      <td>Africa</td>\n",
       "      <td>2099</td>\n",
       "      <td>32</td>\n",
       "      <td>14645468</td>\n",
       "      <td>Tue</td>\n",
       "      <td>Dec</td>\n",
       "      <td>2021</td>\n",
       "      <td>4940</td>\n",
       "      <td>207554</td>\n",
       "      <td>0.023801</td>\n",
       "    </tr>\n",
       "    <tr>\n",
       "      <th>122840</th>\n",
       "      <td>2021-12-29</td>\n",
       "      <td>ZWE</td>\n",
       "      <td>Zimbabwe</td>\n",
       "      <td>Lower middle income</td>\n",
       "      <td>Sub-Saharan Africa</td>\n",
       "      <td>Africa</td>\n",
       "      <td>0</td>\n",
       "      <td>0</td>\n",
       "      <td>14645468</td>\n",
       "      <td>Wed</td>\n",
       "      <td>Dec</td>\n",
       "      <td>2021</td>\n",
       "      <td>4940</td>\n",
       "      <td>207554</td>\n",
       "      <td>0.023801</td>\n",
       "    </tr>\n",
       "    <tr>\n",
       "      <th>122841</th>\n",
       "      <td>2021-12-30</td>\n",
       "      <td>ZWE</td>\n",
       "      <td>Zimbabwe</td>\n",
       "      <td>Lower middle income</td>\n",
       "      <td>Sub-Saharan Africa</td>\n",
       "      <td>Africa</td>\n",
       "      <td>4180</td>\n",
       "      <td>57</td>\n",
       "      <td>14645468</td>\n",
       "      <td>Thu</td>\n",
       "      <td>Dec</td>\n",
       "      <td>2021</td>\n",
       "      <td>4997</td>\n",
       "      <td>211734</td>\n",
       "      <td>0.023600</td>\n",
       "    </tr>\n",
       "    <tr>\n",
       "      <th>122842</th>\n",
       "      <td>2021-12-31</td>\n",
       "      <td>ZWE</td>\n",
       "      <td>Zimbabwe</td>\n",
       "      <td>Lower middle income</td>\n",
       "      <td>Sub-Saharan Africa</td>\n",
       "      <td>Africa</td>\n",
       "      <td>1530</td>\n",
       "      <td>7</td>\n",
       "      <td>14645468</td>\n",
       "      <td>Fri</td>\n",
       "      <td>Dec</td>\n",
       "      <td>2021</td>\n",
       "      <td>5004</td>\n",
       "      <td>213264</td>\n",
       "      <td>0.023464</td>\n",
       "    </tr>\n",
       "  </tbody>\n",
       "</table>\n",
       "<p>122843 rows × 15 columns</p>\n",
       "</div>"
      ],
      "text/plain": [
       "             date iso3c      country               income              region  \\\n",
       "0      2020-02-24   AFG  Afghanistan           Low income          South Asia   \n",
       "1      2020-02-25   AFG  Afghanistan           Low income          South Asia   \n",
       "2      2020-02-26   AFG  Afghanistan           Low income          South Asia   \n",
       "3      2020-02-27   AFG  Afghanistan           Low income          South Asia   \n",
       "4      2020-02-28   AFG  Afghanistan           Low income          South Asia   \n",
       "...           ...   ...          ...                  ...                 ...   \n",
       "122838 2021-12-27   ZWE     Zimbabwe  Lower middle income  Sub-Saharan Africa   \n",
       "122839 2021-12-28   ZWE     Zimbabwe  Lower middle income  Sub-Saharan Africa   \n",
       "122840 2021-12-29   ZWE     Zimbabwe  Lower middle income  Sub-Saharan Africa   \n",
       "122841 2021-12-30   ZWE     Zimbabwe  Lower middle income  Sub-Saharan Africa   \n",
       "122842 2021-12-31   ZWE     Zimbabwe  Lower middle income  Sub-Saharan Africa   \n",
       "\n",
       "       continent  dcases  ddeaths  population weekdays month  year  totdeaths  \\\n",
       "0           Asia       5        0    38041754      Mon   Feb  2020          0   \n",
       "1           Asia       0        0    38041754      Tue   Feb  2020          0   \n",
       "2           Asia       0        0    38041754      Wed   Feb  2020          0   \n",
       "3           Asia       0        0    38041754      Thu   Feb  2020          0   \n",
       "4           Asia       0        0    38041754      Fri   Feb  2020          0   \n",
       "...          ...     ...      ...         ...      ...   ...   ...        ...   \n",
       "122838    Africa    1098       17    14645468      Mon   Dec  2021       4908   \n",
       "122839    Africa    2099       32    14645468      Tue   Dec  2021       4940   \n",
       "122840    Africa       0        0    14645468      Wed   Dec  2021       4940   \n",
       "122841    Africa    4180       57    14645468      Thu   Dec  2021       4997   \n",
       "122842    Africa    1530        7    14645468      Fri   Dec  2021       5004   \n",
       "\n",
       "        totcases     ratio  \n",
       "0              5  0.000000  \n",
       "1              5  0.000000  \n",
       "2              5  0.000000  \n",
       "3              5  0.000000  \n",
       "4              5  0.000000  \n",
       "...          ...       ...  \n",
       "122838    205455  0.023888  \n",
       "122839    207554  0.023801  \n",
       "122840    207554  0.023801  \n",
       "122841    211734  0.023600  \n",
       "122842    213264  0.023464  \n",
       "\n",
       "[122843 rows x 15 columns]"
      ]
     },
     "execution_count": 70,
     "metadata": {},
     "output_type": "execute_result"
    }
   ],
   "source": [
    "df1['totdeaths'] = df1.groupby(['iso3c'])['ddeaths'].cumsum()\n",
    "df1['totcases'] = df1.groupby(['iso3c'])['dcases'].cumsum()\n",
    "ratio=df1['totdeaths']/df1['totcases']\n",
    "\n",
    "df1['ratio']=ratio\n",
    "\n",
    "\n",
    "df1"
   ]
  },
  {
   "cell_type": "code",
   "execution_count": 71,
   "id": "466abcbf",
   "metadata": {},
   "outputs": [
    {
     "data": {
      "text/html": [
       "<div>\n",
       "<style scoped>\n",
       "    .dataframe tbody tr th:only-of-type {\n",
       "        vertical-align: middle;\n",
       "    }\n",
       "\n",
       "    .dataframe tbody tr th {\n",
       "        vertical-align: top;\n",
       "    }\n",
       "\n",
       "    .dataframe thead tr th {\n",
       "        text-align: left;\n",
       "    }\n",
       "</style>\n",
       "<table border=\"1\" class=\"dataframe\">\n",
       "  <thead>\n",
       "    <tr>\n",
       "      <th></th>\n",
       "      <th>continent</th>\n",
       "      <th>year</th>\n",
       "      <th colspan=\"5\" halign=\"left\">ratio</th>\n",
       "    </tr>\n",
       "    <tr>\n",
       "      <th></th>\n",
       "      <th></th>\n",
       "      <th></th>\n",
       "      <th>mean</th>\n",
       "      <th>std</th>\n",
       "      <th>size</th>\n",
       "      <th>get_ci_lb</th>\n",
       "      <th>get_ci_ub</th>\n",
       "    </tr>\n",
       "  </thead>\n",
       "  <tbody>\n",
       "    <tr>\n",
       "      <th>0</th>\n",
       "      <td>Africa</td>\n",
       "      <td>2020</td>\n",
       "      <td>0.026687</td>\n",
       "      <td>0.036548</td>\n",
       "      <td>15332</td>\n",
       "      <td>0.026109</td>\n",
       "      <td>0.027266</td>\n",
       "    </tr>\n",
       "    <tr>\n",
       "      <th>1</th>\n",
       "      <td>Africa</td>\n",
       "      <td>2021</td>\n",
       "      <td>0.021921</td>\n",
       "      <td>0.013963</td>\n",
       "      <td>19345</td>\n",
       "      <td>0.021725</td>\n",
       "      <td>0.022118</td>\n",
       "    </tr>\n",
       "    <tr>\n",
       "      <th>2</th>\n",
       "      <td>Asia</td>\n",
       "      <td>2020</td>\n",
       "      <td>0.020696</td>\n",
       "      <td>0.042093</td>\n",
       "      <td>14313</td>\n",
       "      <td>0.020006</td>\n",
       "      <td>0.021385</td>\n",
       "    </tr>\n",
       "    <tr>\n",
       "      <th>3</th>\n",
       "      <td>Asia</td>\n",
       "      <td>2021</td>\n",
       "      <td>0.018641</td>\n",
       "      <td>0.032137</td>\n",
       "      <td>16790</td>\n",
       "      <td>0.018155</td>\n",
       "      <td>0.019127</td>\n",
       "    </tr>\n",
       "    <tr>\n",
       "      <th>4</th>\n",
       "      <td>Europe</td>\n",
       "      <td>2020</td>\n",
       "      <td>0.036268</td>\n",
       "      <td>0.037584</td>\n",
       "      <td>13408</td>\n",
       "      <td>0.035632</td>\n",
       "      <td>0.036904</td>\n",
       "    </tr>\n",
       "    <tr>\n",
       "      <th>5</th>\n",
       "      <td>Europe</td>\n",
       "      <td>2021</td>\n",
       "      <td>0.018684</td>\n",
       "      <td>0.009132</td>\n",
       "      <td>15695</td>\n",
       "      <td>0.018541</td>\n",
       "      <td>0.018827</td>\n",
       "    </tr>\n",
       "    <tr>\n",
       "      <th>6</th>\n",
       "      <td>North America(continent)</td>\n",
       "      <td>2020</td>\n",
       "      <td>0.031719</td>\n",
       "      <td>0.037452</td>\n",
       "      <td>6834</td>\n",
       "      <td>0.030831</td>\n",
       "      <td>0.032607</td>\n",
       "    </tr>\n",
       "    <tr>\n",
       "      <th>7</th>\n",
       "      <td>North America(continent)</td>\n",
       "      <td>2021</td>\n",
       "      <td>0.020597</td>\n",
       "      <td>0.016344</td>\n",
       "      <td>8395</td>\n",
       "      <td>0.020247</td>\n",
       "      <td>0.020946</td>\n",
       "    </tr>\n",
       "    <tr>\n",
       "      <th>8</th>\n",
       "      <td>Oceania</td>\n",
       "      <td>2020</td>\n",
       "      <td>0.014086</td>\n",
       "      <td>0.017041</td>\n",
       "      <td>1466</td>\n",
       "      <td>0.013213</td>\n",
       "      <td>0.014959</td>\n",
       "    </tr>\n",
       "    <tr>\n",
       "      <th>9</th>\n",
       "      <td>Oceania</td>\n",
       "      <td>2021</td>\n",
       "      <td>0.024448</td>\n",
       "      <td>0.060558</td>\n",
       "      <td>3280</td>\n",
       "      <td>0.022375</td>\n",
       "      <td>0.026521</td>\n",
       "    </tr>\n",
       "    <tr>\n",
       "      <th>10</th>\n",
       "      <td>South America(continent)</td>\n",
       "      <td>2020</td>\n",
       "      <td>0.041318</td>\n",
       "      <td>0.048541</td>\n",
       "      <td>3605</td>\n",
       "      <td>0.039733</td>\n",
       "      <td>0.042903</td>\n",
       "    </tr>\n",
       "    <tr>\n",
       "      <th>11</th>\n",
       "      <td>South America(continent)</td>\n",
       "      <td>2021</td>\n",
       "      <td>0.032145</td>\n",
       "      <td>0.021665</td>\n",
       "      <td>4380</td>\n",
       "      <td>0.031504</td>\n",
       "      <td>0.032787</td>\n",
       "    </tr>\n",
       "  </tbody>\n",
       "</table>\n",
       "</div>"
      ],
      "text/plain": [
       "                   continent  year     ratio                             \\\n",
       "                                        mean       std   size get_ci_lb   \n",
       "0                     Africa  2020  0.026687  0.036548  15332  0.026109   \n",
       "1                     Africa  2021  0.021921  0.013963  19345  0.021725   \n",
       "2                       Asia  2020  0.020696  0.042093  14313  0.020006   \n",
       "3                       Asia  2021  0.018641  0.032137  16790  0.018155   \n",
       "4                     Europe  2020  0.036268  0.037584  13408  0.035632   \n",
       "5                     Europe  2021  0.018684  0.009132  15695  0.018541   \n",
       "6   North America(continent)  2020  0.031719  0.037452   6834  0.030831   \n",
       "7   North America(continent)  2021  0.020597  0.016344   8395  0.020247   \n",
       "8                    Oceania  2020  0.014086  0.017041   1466  0.013213   \n",
       "9                    Oceania  2021  0.024448  0.060558   3280  0.022375   \n",
       "10  South America(continent)  2020  0.041318  0.048541   3605  0.039733   \n",
       "11  South America(continent)  2021  0.032145  0.021665   4380  0.031504   \n",
       "\n",
       "              \n",
       "   get_ci_ub  \n",
       "0   0.027266  \n",
       "1   0.022118  \n",
       "2   0.021385  \n",
       "3   0.019127  \n",
       "4   0.036904  \n",
       "5   0.018827  \n",
       "6   0.032607  \n",
       "7   0.020946  \n",
       "8   0.014959  \n",
       "9   0.026521  \n",
       "10  0.042903  \n",
       "11  0.032787  "
      ]
     },
     "execution_count": 71,
     "metadata": {},
     "output_type": "execute_result"
    }
   ],
   "source": [
    "cy=df1.groupby(['continent','year']).agg({\"ratio\": [np.mean, np.std, np.size,get_ci_lb,get_ci_ub]})\n",
    "\n",
    "cy=cy.reset_index()\n",
    "\n",
    "cy= pd.DataFrame(cy)\n",
    "\n",
    "cy"
   ]
  },
  {
   "cell_type": "code",
   "execution_count": 72,
   "id": "07860e62",
   "metadata": {
    "scrolled": true
   },
   "outputs": [
    {
     "data": {
      "text/html": [
       "<div>\n",
       "<style scoped>\n",
       "    .dataframe tbody tr th:only-of-type {\n",
       "        vertical-align: middle;\n",
       "    }\n",
       "\n",
       "    .dataframe tbody tr th {\n",
       "        vertical-align: top;\n",
       "    }\n",
       "\n",
       "    .dataframe thead tr th {\n",
       "        text-align: left;\n",
       "    }\n",
       "</style>\n",
       "<table border=\"1\" class=\"dataframe\">\n",
       "  <thead>\n",
       "    <tr>\n",
       "      <th></th>\n",
       "      <th>region</th>\n",
       "      <th>year</th>\n",
       "      <th colspan=\"5\" halign=\"left\">ratio</th>\n",
       "    </tr>\n",
       "    <tr>\n",
       "      <th></th>\n",
       "      <th></th>\n",
       "      <th></th>\n",
       "      <th>mean</th>\n",
       "      <th>std</th>\n",
       "      <th>size</th>\n",
       "      <th>get_ci_lb</th>\n",
       "      <th>get_ci_ub</th>\n",
       "    </tr>\n",
       "  </thead>\n",
       "  <tbody>\n",
       "    <tr>\n",
       "      <th>0</th>\n",
       "      <td>East Asia &amp; Pacific</td>\n",
       "      <td>2020</td>\n",
       "      <td>0.018069</td>\n",
       "      <td>0.031493</td>\n",
       "      <td>6301</td>\n",
       "      <td>0.017291</td>\n",
       "      <td>0.018846</td>\n",
       "    </tr>\n",
       "    <tr>\n",
       "      <th>1</th>\n",
       "      <td>East Asia &amp; Pacific</td>\n",
       "      <td>2021</td>\n",
       "      <td>0.017975</td>\n",
       "      <td>0.038763</td>\n",
       "      <td>8755</td>\n",
       "      <td>0.017163</td>\n",
       "      <td>0.018787</td>\n",
       "    </tr>\n",
       "    <tr>\n",
       "      <th>2</th>\n",
       "      <td>Europe &amp; Central Asia</td>\n",
       "      <td>2020</td>\n",
       "      <td>0.033002</td>\n",
       "      <td>0.035703</td>\n",
       "      <td>15743</td>\n",
       "      <td>0.032445</td>\n",
       "      <td>0.033560</td>\n",
       "    </tr>\n",
       "    <tr>\n",
       "      <th>3</th>\n",
       "      <td>Europe &amp; Central Asia</td>\n",
       "      <td>2021</td>\n",
       "      <td>0.017664</td>\n",
       "      <td>0.008990</td>\n",
       "      <td>18615</td>\n",
       "      <td>0.017535</td>\n",
       "      <td>0.017793</td>\n",
       "    </tr>\n",
       "    <tr>\n",
       "      <th>4</th>\n",
       "      <td>Latin America &amp; Caribbean</td>\n",
       "      <td>2020</td>\n",
       "      <td>0.034462</td>\n",
       "      <td>0.042633</td>\n",
       "      <td>9750</td>\n",
       "      <td>0.033615</td>\n",
       "      <td>0.035308</td>\n",
       "    </tr>\n",
       "    <tr>\n",
       "      <th>5</th>\n",
       "      <td>Latin America &amp; Caribbean</td>\n",
       "      <td>2021</td>\n",
       "      <td>0.024916</td>\n",
       "      <td>0.019643</td>\n",
       "      <td>12045</td>\n",
       "      <td>0.024565</td>\n",
       "      <td>0.025266</td>\n",
       "    </tr>\n",
       "    <tr>\n",
       "      <th>6</th>\n",
       "      <td>Middle East &amp; North Africa</td>\n",
       "      <td>2020</td>\n",
       "      <td>0.030629</td>\n",
       "      <td>0.055039</td>\n",
       "      <td>6415</td>\n",
       "      <td>0.029282</td>\n",
       "      <td>0.031976</td>\n",
       "    </tr>\n",
       "    <tr>\n",
       "      <th>7</th>\n",
       "      <td>Middle East &amp; North Africa</td>\n",
       "      <td>2021</td>\n",
       "      <td>0.027900</td>\n",
       "      <td>0.045152</td>\n",
       "      <td>7665</td>\n",
       "      <td>0.026889</td>\n",
       "      <td>0.028911</td>\n",
       "    </tr>\n",
       "    <tr>\n",
       "      <th>8</th>\n",
       "      <td>North America(region)</td>\n",
       "      <td>2020</td>\n",
       "      <td>0.043134</td>\n",
       "      <td>0.027639</td>\n",
       "      <td>689</td>\n",
       "      <td>0.041067</td>\n",
       "      <td>0.045201</td>\n",
       "    </tr>\n",
       "    <tr>\n",
       "      <th>9</th>\n",
       "      <td>North America(region)</td>\n",
       "      <td>2021</td>\n",
       "      <td>0.018626</td>\n",
       "      <td>0.003123</td>\n",
       "      <td>730</td>\n",
       "      <td>0.018399</td>\n",
       "      <td>0.018853</td>\n",
       "    </tr>\n",
       "    <tr>\n",
       "      <th>10</th>\n",
       "      <td>South Asia</td>\n",
       "      <td>2020</td>\n",
       "      <td>0.012519</td>\n",
       "      <td>0.014289</td>\n",
       "      <td>2541</td>\n",
       "      <td>0.011963</td>\n",
       "      <td>0.013075</td>\n",
       "    </tr>\n",
       "    <tr>\n",
       "      <th>11</th>\n",
       "      <td>South Asia</td>\n",
       "      <td>2021</td>\n",
       "      <td>0.015800</td>\n",
       "      <td>0.013016</td>\n",
       "      <td>2920</td>\n",
       "      <td>0.015328</td>\n",
       "      <td>0.016273</td>\n",
       "    </tr>\n",
       "    <tr>\n",
       "      <th>12</th>\n",
       "      <td>Sub-Saharan Africa</td>\n",
       "      <td>2020</td>\n",
       "      <td>0.025935</td>\n",
       "      <td>0.037687</td>\n",
       "      <td>13519</td>\n",
       "      <td>0.025300</td>\n",
       "      <td>0.026570</td>\n",
       "    </tr>\n",
       "    <tr>\n",
       "      <th>13</th>\n",
       "      <td>Sub-Saharan Africa</td>\n",
       "      <td>2021</td>\n",
       "      <td>0.021236</td>\n",
       "      <td>0.013592</td>\n",
       "      <td>17155</td>\n",
       "      <td>0.021033</td>\n",
       "      <td>0.021439</td>\n",
       "    </tr>\n",
       "  </tbody>\n",
       "</table>\n",
       "</div>"
      ],
      "text/plain": [
       "                        region  year     ratio                             \\\n",
       "                                          mean       std   size get_ci_lb   \n",
       "0          East Asia & Pacific  2020  0.018069  0.031493   6301  0.017291   \n",
       "1          East Asia & Pacific  2021  0.017975  0.038763   8755  0.017163   \n",
       "2        Europe & Central Asia  2020  0.033002  0.035703  15743  0.032445   \n",
       "3        Europe & Central Asia  2021  0.017664  0.008990  18615  0.017535   \n",
       "4    Latin America & Caribbean  2020  0.034462  0.042633   9750  0.033615   \n",
       "5    Latin America & Caribbean  2021  0.024916  0.019643  12045  0.024565   \n",
       "6   Middle East & North Africa  2020  0.030629  0.055039   6415  0.029282   \n",
       "7   Middle East & North Africa  2021  0.027900  0.045152   7665  0.026889   \n",
       "8        North America(region)  2020  0.043134  0.027639    689  0.041067   \n",
       "9        North America(region)  2021  0.018626  0.003123    730  0.018399   \n",
       "10                  South Asia  2020  0.012519  0.014289   2541  0.011963   \n",
       "11                  South Asia  2021  0.015800  0.013016   2920  0.015328   \n",
       "12          Sub-Saharan Africa  2020  0.025935  0.037687  13519  0.025300   \n",
       "13          Sub-Saharan Africa  2021  0.021236  0.013592  17155  0.021033   \n",
       "\n",
       "              \n",
       "   get_ci_ub  \n",
       "0   0.018846  \n",
       "1   0.018787  \n",
       "2   0.033560  \n",
       "3   0.017793  \n",
       "4   0.035308  \n",
       "5   0.025266  \n",
       "6   0.031976  \n",
       "7   0.028911  \n",
       "8   0.045201  \n",
       "9   0.018853  \n",
       "10  0.013075  \n",
       "11  0.016273  \n",
       "12  0.026570  \n",
       "13  0.021439  "
      ]
     },
     "execution_count": 72,
     "metadata": {},
     "output_type": "execute_result"
    }
   ],
   "source": [
    "ry=df1.groupby(['region','year']).agg({\"ratio\": [np.mean, np.std, np.size,get_ci_lb,get_ci_ub]})\n",
    "\n",
    "ry=ry.reset_index()\n",
    "\n",
    "ry= pd.DataFrame(ry)\n",
    "\n",
    "ry"
   ]
  },
  {
   "cell_type": "code",
   "execution_count": 73,
   "id": "58ed9529",
   "metadata": {
    "scrolled": true
   },
   "outputs": [
    {
     "data": {
      "text/html": [
       "<div>\n",
       "<style scoped>\n",
       "    .dataframe tbody tr th:only-of-type {\n",
       "        vertical-align: middle;\n",
       "    }\n",
       "\n",
       "    .dataframe tbody tr th {\n",
       "        vertical-align: top;\n",
       "    }\n",
       "\n",
       "    .dataframe thead tr th {\n",
       "        text-align: left;\n",
       "    }\n",
       "</style>\n",
       "<table border=\"1\" class=\"dataframe\">\n",
       "  <thead>\n",
       "    <tr>\n",
       "      <th></th>\n",
       "      <th>income</th>\n",
       "      <th>year</th>\n",
       "      <th colspan=\"5\" halign=\"left\">ratio</th>\n",
       "    </tr>\n",
       "    <tr>\n",
       "      <th></th>\n",
       "      <th></th>\n",
       "      <th></th>\n",
       "      <th>mean</th>\n",
       "      <th>std</th>\n",
       "      <th>size</th>\n",
       "      <th>get_ci_lb</th>\n",
       "      <th>get_ci_ub</th>\n",
       "    </tr>\n",
       "  </thead>\n",
       "  <tbody>\n",
       "    <tr>\n",
       "      <th>0</th>\n",
       "      <td>High income</td>\n",
       "      <td>2020</td>\n",
       "      <td>0.030809</td>\n",
       "      <td>0.036505</td>\n",
       "      <td>17865</td>\n",
       "      <td>0.030274</td>\n",
       "      <td>0.031344</td>\n",
       "    </tr>\n",
       "    <tr>\n",
       "      <th>1</th>\n",
       "      <td>High income</td>\n",
       "      <td>2021</td>\n",
       "      <td>0.014761</td>\n",
       "      <td>0.008120</td>\n",
       "      <td>20937</td>\n",
       "      <td>0.014651</td>\n",
       "      <td>0.014871</td>\n",
       "    </tr>\n",
       "    <tr>\n",
       "      <th>2</th>\n",
       "      <td>Low income</td>\n",
       "      <td>2020</td>\n",
       "      <td>0.034335</td>\n",
       "      <td>0.049796</td>\n",
       "      <td>8351</td>\n",
       "      <td>0.033267</td>\n",
       "      <td>0.035403</td>\n",
       "    </tr>\n",
       "    <tr>\n",
       "      <th>3</th>\n",
       "      <td>Low income</td>\n",
       "      <td>2021</td>\n",
       "      <td>0.030097</td>\n",
       "      <td>0.038303</td>\n",
       "      <td>10585</td>\n",
       "      <td>0.029367</td>\n",
       "      <td>0.030826</td>\n",
       "    </tr>\n",
       "    <tr>\n",
       "      <th>4</th>\n",
       "      <td>Lower middle income</td>\n",
       "      <td>2020</td>\n",
       "      <td>0.024933</td>\n",
       "      <td>0.041938</td>\n",
       "      <td>12879</td>\n",
       "      <td>0.024209</td>\n",
       "      <td>0.025658</td>\n",
       "    </tr>\n",
       "    <tr>\n",
       "      <th>5</th>\n",
       "      <td>Lower middle income</td>\n",
       "      <td>2021</td>\n",
       "      <td>0.023069</td>\n",
       "      <td>0.029529</td>\n",
       "      <td>16653</td>\n",
       "      <td>0.022620</td>\n",
       "      <td>0.023517</td>\n",
       "    </tr>\n",
       "    <tr>\n",
       "      <th>6</th>\n",
       "      <td>Upper middle income</td>\n",
       "      <td>2020</td>\n",
       "      <td>0.026463</td>\n",
       "      <td>0.033877</td>\n",
       "      <td>15863</td>\n",
       "      <td>0.025936</td>\n",
       "      <td>0.026990</td>\n",
       "    </tr>\n",
       "    <tr>\n",
       "      <th>7</th>\n",
       "      <td>Upper middle income</td>\n",
       "      <td>2021</td>\n",
       "      <td>0.020924</td>\n",
       "      <td>0.017922</td>\n",
       "      <td>19710</td>\n",
       "      <td>0.020673</td>\n",
       "      <td>0.021174</td>\n",
       "    </tr>\n",
       "  </tbody>\n",
       "</table>\n",
       "</div>"
      ],
      "text/plain": [
       "                income  year     ratio                                     \n",
       "                                  mean       std   size get_ci_lb get_ci_ub\n",
       "0          High income  2020  0.030809  0.036505  17865  0.030274  0.031344\n",
       "1          High income  2021  0.014761  0.008120  20937  0.014651  0.014871\n",
       "2           Low income  2020  0.034335  0.049796   8351  0.033267  0.035403\n",
       "3           Low income  2021  0.030097  0.038303  10585  0.029367  0.030826\n",
       "4  Lower middle income  2020  0.024933  0.041938  12879  0.024209  0.025658\n",
       "5  Lower middle income  2021  0.023069  0.029529  16653  0.022620  0.023517\n",
       "6  Upper middle income  2020  0.026463  0.033877  15863  0.025936  0.026990\n",
       "7  Upper middle income  2021  0.020924  0.017922  19710  0.020673  0.021174"
      ]
     },
     "execution_count": 73,
     "metadata": {},
     "output_type": "execute_result"
    }
   ],
   "source": [
    "iy=df1.groupby(['income','year']).agg({\"ratio\": [np.mean, np.std, np.size,get_ci_lb,get_ci_ub]})\n",
    "\n",
    "iy=iy.reset_index()\n",
    "\n",
    "iy= pd.DataFrame(iy)\n",
    "\n",
    "iy"
   ]
  },
  {
   "cell_type": "code",
   "execution_count": 74,
   "id": "eaa14744",
   "metadata": {},
   "outputs": [],
   "source": [
    "cy20=cy[(cy['year']==2020)]\n",
    "cy21=cy[(cy['year']==2021)]\n",
    "\n",
    "cy20.columns\n",
    "cy20.columns=['continent','year','mean','std','size','get_ci_lb','get_ci_ub']\n",
    "cy21.columns\n",
    "cy21.columns=['continent','year','mean','std','size','get_ci_lb','get_ci_ub']"
   ]
  },
  {
   "cell_type": "code",
   "execution_count": 75,
   "id": "20ee513f",
   "metadata": {},
   "outputs": [
    {
     "data": {
      "text/plain": [
       "Text(0.5, 1.0, 'Continents 2020')"
      ]
     },
     "execution_count": 75,
     "metadata": {},
     "output_type": "execute_result"
    },
    {
     "data": {
      "image/png": "[encoded data removed]",
      "text/plain": [
       "<Figure size 432x288 with 1 Axes>"
      ]
     },
     "metadata": {
      "needs_background": "light"
     },
     "output_type": "display_data"
    }
   ],
   "source": [
    "import matplotlib.pyplot as plt\n",
    "for lb,ub,y in zip(cy20['get_ci_lb'],cy20['get_ci_ub'],range(len(cy))):\n",
    "    plt.plot((lb,ub),(y,y),'ro-')\n",
    "plt.yticks(range(len(cy20)),list(cy20['continent']))\n",
    "plt.xlabel(\"Ratio\")\n",
    "plt.ylabel(\"Continent\")\n",
    "plt.title(\"Continents 2020\")"
   ]
  },
  {
   "cell_type": "code",
   "execution_count": 76,
   "id": "d3fe52f9",
   "metadata": {},
   "outputs": [
    {
     "data": {
      "text/plain": [
       "Text(0.5, 1.0, 'Continents 2021')"
      ]
     },
     "execution_count": 76,
     "metadata": {},
     "output_type": "execute_result"
    },
    {
     "data": {
      "image/png": "[encoded data removed]",
      "text/plain": [
       "<Figure size 432x288 with 1 Axes>"
      ]
     },
     "metadata": {
      "needs_background": "light"
     },
     "output_type": "display_data"
    }
   ],
   "source": [
    "import matplotlib.pyplot as plt\n",
    "for lb,ub,y in zip(cy21['get_ci_lb'],cy21['get_ci_ub'],range(len(cy))):\n",
    "    plt.plot((lb,ub),(y,y),'ro-')\n",
    "plt.yticks(range(len(cy21)),list(cy21['continent']))\n",
    "plt.xlabel(\"Ratio\")\n",
    "plt.ylabel(\"Continent\")\n",
    "plt.title(\"Continents 2021\")"
   ]
  },
  {
   "cell_type": "code",
   "execution_count": 77,
   "id": "085ba1b7",
   "metadata": {},
   "outputs": [],
   "source": [
    "ry20=ry[(ry['year']==2020)]\n",
    "ry21=ry[(ry['year']==2021)]\n",
    "\n",
    "ry20.columns\n",
    "ry20.columns=['continent','year','mean','std','size','get_ci_lb','get_ci_ub']\n",
    "ry21.columns\n",
    "ry21.columns=['continent','year','mean','std','size','get_ci_lb','get_ci_ub']"
   ]
  },
  {
   "cell_type": "code",
   "execution_count": 78,
   "id": "71004dca",
   "metadata": {},
   "outputs": [
    {
     "data": {
      "text/plain": [
       "Text(0.5, 1.0, 'Regions 2020')"
      ]
     },
     "execution_count": 78,
     "metadata": {},
     "output_type": "execute_result"
    },
    {
     "data": {
      "image/png": "[encoded data removed]",
      "text/plain": [
       "<Figure size 432x288 with 1 Axes>"
      ]
     },
     "metadata": {
      "needs_background": "light"
     },
     "output_type": "display_data"
    }
   ],
   "source": [
    "import matplotlib.pyplot as plt\n",
    "for lb,ub,y in zip(ry20['get_ci_lb'],ry20['get_ci_ub'],range(len(ry20))):\n",
    "    plt.plot((lb,ub),(y,y),'ro-')\n",
    "plt.yticks(range(len(ry20)),list(ry20['continent']))\n",
    "plt.xlabel(\"Ratio\")\n",
    "plt.ylabel(\"Region\")\n",
    "plt.title(\"Regions 2020\")"
   ]
  },
  {
   "cell_type": "code",
   "execution_count": 79,
   "id": "67a19a3f",
   "metadata": {},
   "outputs": [
    {
     "data": {
      "text/plain": [
       "Text(0.5, 1.0, 'Regions 2021')"
      ]
     },
     "execution_count": 79,
     "metadata": {},
     "output_type": "execute_result"
    },
    {
     "data": {
      "image/png": "[encoded data removed]",
      "text/plain": [
       "<Figure size 432x288 with 1 Axes>"
      ]
     },
     "metadata": {
      "needs_background": "light"
     },
     "output_type": "display_data"
    }
   ],
   "source": [
    "import matplotlib.pyplot as plt\n",
    "for lb,ub,y in zip(ry21['get_ci_lb'],ry21['get_ci_ub'],range(len(ry21))):\n",
    "    plt.plot((lb,ub),(y,y),'ro-')\n",
    "plt.yticks(range(len(ry21)),list(ry21['continent']))\n",
    "plt.xlabel(\"Ratio\")\n",
    "plt.ylabel(\"Region\")\n",
    "plt.title(\"Regions 2021\")"
   ]
  },
  {
   "cell_type": "code",
   "execution_count": 80,
   "id": "9e35d7b0",
   "metadata": {},
   "outputs": [],
   "source": [
    "iy20=iy[(iy['year']==2020)]\n",
    "iy21=iy[(iy['year']==2021)]\n",
    "\n",
    "iy20.columns\n",
    "iy20.columns=['continent','year','mean','std','size','get_ci_lb','get_ci_ub']\n",
    "iy21.columns\n",
    "iy21.columns=['continent','year','mean','std','size','get_ci_lb','get_ci_ub']"
   ]
  },
  {
   "cell_type": "code",
   "execution_count": 81,
   "id": "5d6f5f0e",
   "metadata": {},
   "outputs": [
    {
     "data": {
      "text/plain": [
       "Text(0.5, 1.0, 'Income 2020')"
      ]
     },
     "execution_count": 81,
     "metadata": {},
     "output_type": "execute_result"
    },
    {
     "data": {
      "image/png": "[encoded data removed]",
      "text/plain": [
       "<Figure size 432x288 with 1 Axes>"
      ]
     },
     "metadata": {
      "needs_background": "light"
     },
     "output_type": "display_data"
    }
   ],
   "source": [
    "import matplotlib.pyplot as plt\n",
    "for lb,ub,y in zip(iy20['get_ci_lb'],iy20['get_ci_ub'],range(len(iy20))):\n",
    "    plt.plot((lb,ub),(y,y),'ro-')\n",
    "plt.yticks(range(len(iy20)),list(iy20['continent']))\n",
    "plt.xlabel(\"Ratio\")\n",
    "plt.ylabel(\"Income\")\n",
    "plt.title(\"Income 2020\")"
   ]
  },
  {
   "cell_type": "code",
   "execution_count": 82,
   "id": "fc71e04d",
   "metadata": {
    "scrolled": true
   },
   "outputs": [
    {
     "data": {
      "text/plain": [
       "Text(0.5, 1.0, 'Income 2021')"
      ]
     },
     "execution_count": 82,
     "metadata": {},
     "output_type": "execute_result"
    },
    {
     "data": {
      "image/png": "[encoded data removed]",
      "text/plain": [
       "<Figure size 432x288 with 1 Axes>"
      ]
     },
     "metadata": {
      "needs_background": "light"
     },
     "output_type": "display_data"
    }
   ],
   "source": [
    "import matplotlib.pyplot as plt\n",
    "for lb,ub,y in zip(iy21['get_ci_lb'],iy21['get_ci_ub'],range(len(iy21))):\n",
    "    plt.plot((lb,ub),(y,y),'ro-')\n",
    "plt.yticks(range(len(iy21)),list(iy21['continent']))\n",
    "plt.xlabel(\"Ratio\")\n",
    "plt.ylabel(\"Income\")\n",
    "plt.title(\"Income 2021\")"
   ]
  },
  {
   "cell_type": "markdown",
   "id": "23285b71",
   "metadata": {},
   "source": [
    "# Conclusion for Part 2\n",
    "This code aims to analyze the ratio between cases and deaths in 2020 and 2021, and compare them with respect to 3 aspects, continent, region, and income. Throughout all the aspects, the ratio in 2020 is below 0.05 for all parts in the graph. While in 2021, the ratio decreases in all aspects and the parts within them.\n",
    "For continent, South America had the highest ratio, however in 2020 the margin of error was higher than 2021. It had the highest in both years. This might be reason why they got infected the most.\n",
    "For income, the low income class had the highest ratio in both 2020 and 2021, but higher margin or error in 2020. It had the highest in both years. This might be reason why they got infected the most.\n",
    "For region, North America had the highest ratio in 2020, however in 2021, Middle East & North Africa had the highest ratio with a larger margin of error."
   ]
  }
 ],
 "metadata": {
  "kernelspec": {
   "display_name": "Python 3 (ipykernel)",
   "language": "python",
   "name": "python3"
  },
  "language_info": {
   "codemirror_mode": {
    "name": "ipython",
    "version": 3
   },
   "file_extension": ".py",
   "mimetype": "text/x-python",
   "name": "python",
   "nbconvert_exporter": "python",
   "pygments_lexer": "ipython3",
   "version": "3.9.7"
  }
 },
 "nbformat": 4,
 "nbformat_minor": 5
}
