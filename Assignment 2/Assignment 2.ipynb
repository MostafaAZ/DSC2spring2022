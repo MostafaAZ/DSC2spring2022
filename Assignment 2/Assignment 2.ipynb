{
 "cells": [
  {
   "cell_type": "markdown",
   "id": "fc75be87",
   "metadata": {},
   "source": [
    "# ASSIGNMENT 2\n",
    "Author: Mostafa Abdelazim, \n",
    "ID: 900203676\n",
    "\n",
    "Abstract: The code aims analyze the confidence intervals for 2 data sets. The first one is for matches, and their win/lose probability for different reasons, like home/away or friendly/official matches. The second data set is for reported covid cases in all countries in 20202 and 2021. In both data sets, all the analyzed data are given and graphed throughout the code. "
   ]
  },
  {
   "cell_type": "markdown",
   "id": "371aacfc",
   "metadata": {},
   "source": [
    "# Part 1"
   ]
  },
  {
   "cell_type": "code",
   "execution_count": 1,
   "id": "1522d53b",
   "metadata": {},
   "outputs": [],
   "source": [
    "import numpy as np\n",
    "import pandas as pd\n",
    "import scipy\n",
    "import scipy.stats\n",
    "from scipy.stats import norm,t\n",
    "import statsmodels.api as sm\n",
    "from statsmodels.stats.proportion import proportion_confint\n",
    "import matplotlib.pyplot as plt\n",
    "from pandas.api.types import CategoricalDtype"
   ]
  },
  {
   "cell_type": "code",
   "execution_count": 2,
   "id": "cfad643a",
   "metadata": {},
   "outputs": [
    {
     "data": {
      "text/html": [
       "<div>\n",
       "<style scoped>\n",
       "    .dataframe tbody tr th:only-of-type {\n",
       "        vertical-align: middle;\n",
       "    }\n",
       "\n",
       "    .dataframe tbody tr th {\n",
       "        vertical-align: top;\n",
       "    }\n",
       "\n",
       "    .dataframe thead th {\n",
       "        text-align: right;\n",
       "    }\n",
       "</style>\n",
       "<table border=\"1\" class=\"dataframe\">\n",
       "  <thead>\n",
       "    <tr style=\"text-align: right;\">\n",
       "      <th></th>\n",
       "      <th>date</th>\n",
       "      <th>home_team</th>\n",
       "      <th>away_team</th>\n",
       "      <th>home_score</th>\n",
       "      <th>away_score</th>\n",
       "      <th>tournament</th>\n",
       "      <th>city</th>\n",
       "      <th>country</th>\n",
       "      <th>neutral</th>\n",
       "    </tr>\n",
       "  </thead>\n",
       "  <tbody>\n",
       "    <tr>\n",
       "      <th>0</th>\n",
       "      <td>1872-11-30</td>\n",
       "      <td>Scotland</td>\n",
       "      <td>England</td>\n",
       "      <td>0</td>\n",
       "      <td>0</td>\n",
       "      <td>Friendly</td>\n",
       "      <td>Glasgow</td>\n",
       "      <td>Scotland</td>\n",
       "      <td>False</td>\n",
       "    </tr>\n",
       "    <tr>\n",
       "      <th>1</th>\n",
       "      <td>1873-03-08</td>\n",
       "      <td>England</td>\n",
       "      <td>Scotland</td>\n",
       "      <td>4</td>\n",
       "      <td>2</td>\n",
       "      <td>Friendly</td>\n",
       "      <td>London</td>\n",
       "      <td>England</td>\n",
       "      <td>False</td>\n",
       "    </tr>\n",
       "    <tr>\n",
       "      <th>2</th>\n",
       "      <td>1874-03-07</td>\n",
       "      <td>Scotland</td>\n",
       "      <td>England</td>\n",
       "      <td>2</td>\n",
       "      <td>1</td>\n",
       "      <td>Friendly</td>\n",
       "      <td>Glasgow</td>\n",
       "      <td>Scotland</td>\n",
       "      <td>False</td>\n",
       "    </tr>\n",
       "    <tr>\n",
       "      <th>3</th>\n",
       "      <td>1875-03-06</td>\n",
       "      <td>England</td>\n",
       "      <td>Scotland</td>\n",
       "      <td>2</td>\n",
       "      <td>2</td>\n",
       "      <td>Friendly</td>\n",
       "      <td>London</td>\n",
       "      <td>England</td>\n",
       "      <td>False</td>\n",
       "    </tr>\n",
       "    <tr>\n",
       "      <th>4</th>\n",
       "      <td>1876-03-04</td>\n",
       "      <td>Scotland</td>\n",
       "      <td>England</td>\n",
       "      <td>3</td>\n",
       "      <td>0</td>\n",
       "      <td>Friendly</td>\n",
       "      <td>Glasgow</td>\n",
       "      <td>Scotland</td>\n",
       "      <td>False</td>\n",
       "    </tr>\n",
       "    <tr>\n",
       "      <th>...</th>\n",
       "      <td>...</td>\n",
       "      <td>...</td>\n",
       "      <td>...</td>\n",
       "      <td>...</td>\n",
       "      <td>...</td>\n",
       "      <td>...</td>\n",
       "      <td>...</td>\n",
       "      <td>...</td>\n",
       "      <td>...</td>\n",
       "    </tr>\n",
       "    <tr>\n",
       "      <th>43183</th>\n",
       "      <td>2/1/2022</td>\n",
       "      <td>Suriname</td>\n",
       "      <td>Guyana</td>\n",
       "      <td>2</td>\n",
       "      <td>1</td>\n",
       "      <td>Friendly</td>\n",
       "      <td>Paramaribo</td>\n",
       "      <td>Suriname</td>\n",
       "      <td>False</td>\n",
       "    </tr>\n",
       "    <tr>\n",
       "      <th>43184</th>\n",
       "      <td>2/2/2022</td>\n",
       "      <td>Burkina Faso</td>\n",
       "      <td>Senegal</td>\n",
       "      <td>1</td>\n",
       "      <td>3</td>\n",
       "      <td>African Cup of Nations</td>\n",
       "      <td>Yaoundé</td>\n",
       "      <td>Cameroon</td>\n",
       "      <td>True</td>\n",
       "    </tr>\n",
       "    <tr>\n",
       "      <th>43185</th>\n",
       "      <td>2/3/2022</td>\n",
       "      <td>Cameroon</td>\n",
       "      <td>Egypt</td>\n",
       "      <td>0</td>\n",
       "      <td>0</td>\n",
       "      <td>African Cup of Nations</td>\n",
       "      <td>Yaoundé</td>\n",
       "      <td>Cameroon</td>\n",
       "      <td>False</td>\n",
       "    </tr>\n",
       "    <tr>\n",
       "      <th>43186</th>\n",
       "      <td>2/5/2022</td>\n",
       "      <td>Cameroon</td>\n",
       "      <td>Burkina Faso</td>\n",
       "      <td>3</td>\n",
       "      <td>3</td>\n",
       "      <td>African Cup of Nations</td>\n",
       "      <td>Yaoundé</td>\n",
       "      <td>Cameroon</td>\n",
       "      <td>False</td>\n",
       "    </tr>\n",
       "    <tr>\n",
       "      <th>43187</th>\n",
       "      <td>2/6/2022</td>\n",
       "      <td>Senegal</td>\n",
       "      <td>Egypt</td>\n",
       "      <td>0</td>\n",
       "      <td>0</td>\n",
       "      <td>African Cup of Nations</td>\n",
       "      <td>Yaoundé</td>\n",
       "      <td>Cameroon</td>\n",
       "      <td>True</td>\n",
       "    </tr>\n",
       "  </tbody>\n",
       "</table>\n",
       "<p>43188 rows × 9 columns</p>\n",
       "</div>"
      ],
      "text/plain": [
       "             date     home_team     away_team  home_score  away_score  \\\n",
       "0      1872-11-30      Scotland       England           0           0   \n",
       "1      1873-03-08       England      Scotland           4           2   \n",
       "2      1874-03-07      Scotland       England           2           1   \n",
       "3      1875-03-06       England      Scotland           2           2   \n",
       "4      1876-03-04      Scotland       England           3           0   \n",
       "...           ...           ...           ...         ...         ...   \n",
       "43183    2/1/2022      Suriname        Guyana           2           1   \n",
       "43184    2/2/2022  Burkina Faso       Senegal           1           3   \n",
       "43185    2/3/2022      Cameroon         Egypt           0           0   \n",
       "43186    2/5/2022      Cameroon  Burkina Faso           3           3   \n",
       "43187    2/6/2022       Senegal         Egypt           0           0   \n",
       "\n",
       "                   tournament        city   country  neutral  \n",
       "0                    Friendly     Glasgow  Scotland    False  \n",
       "1                    Friendly      London   England    False  \n",
       "2                    Friendly     Glasgow  Scotland    False  \n",
       "3                    Friendly      London   England    False  \n",
       "4                    Friendly     Glasgow  Scotland    False  \n",
       "...                       ...         ...       ...      ...  \n",
       "43183                Friendly  Paramaribo  Suriname    False  \n",
       "43184  African Cup of Nations     Yaoundé  Cameroon     True  \n",
       "43185  African Cup of Nations     Yaoundé  Cameroon    False  \n",
       "43186  African Cup of Nations     Yaoundé  Cameroon    False  \n",
       "43187  African Cup of Nations     Yaoundé  Cameroon     True  \n",
       "\n",
       "[43188 rows x 9 columns]"
      ]
     },
     "execution_count": 2,
     "metadata": {},
     "output_type": "execute_result"
    }
   ],
   "source": [
    "df=pd.read_csv(\"results.csv\")\n",
    "df"
   ]
  },
  {
   "cell_type": "code",
   "execution_count": 3,
   "id": "12efbac9",
   "metadata": {},
   "outputs": [],
   "source": [
    "x=df['home_score']-df['away_score']\n",
    "conditions = [\n",
    "    (x<0),\n",
    "    (x>0),\n",
    "    (x==0)\n",
    "    ]"
   ]
  },
  {
   "cell_type": "code",
   "execution_count": 4,
   "id": "1761879d",
   "metadata": {},
   "outputs": [],
   "source": [
    "values= ['win','lose','draw']"
   ]
  },
  {
   "cell_type": "code",
   "execution_count": 5,
   "id": "0ae4bb42",
   "metadata": {},
   "outputs": [],
   "source": [
    "df['result'] = np.select(conditions, values)"
   ]
  },
  {
   "cell_type": "code",
   "execution_count": 6,
   "id": "a1c7bf33",
   "metadata": {},
   "outputs": [],
   "source": [
    "x=df['result'].value_counts()"
   ]
  },
  {
   "cell_type": "code",
   "execution_count": 7,
   "id": "7892eca6",
   "metadata": {},
   "outputs": [],
   "source": [
    "x=np.array(x)"
   ]
  },
  {
   "cell_type": "code",
   "execution_count": 8,
   "id": "9d0f9afe",
   "metadata": {},
   "outputs": [
    {
     "data": {
      "text/plain": [
       "array([21009, 12224,  9955], dtype=int64)"
      ]
     },
     "execution_count": 8,
     "metadata": {},
     "output_type": "execute_result"
    }
   ],
   "source": [
    "x"
   ]
  },
  {
   "cell_type": "code",
   "execution_count": 9,
   "id": "9f4c73a1",
   "metadata": {},
   "outputs": [],
   "source": [
    "conditions = [\n",
    "    (df['tournament']=='Friendly'),\n",
    "    (df['tournament']!='Friendly')\n",
    "    ]"
   ]
  },
  {
   "cell_type": "code",
   "execution_count": 10,
   "id": "e4ee38ff",
   "metadata": {},
   "outputs": [],
   "source": [
    "values=['Friendly','Official']"
   ]
  },
  {
   "cell_type": "code",
   "execution_count": 11,
   "id": "f8d536cb",
   "metadata": {},
   "outputs": [],
   "source": [
    "df['typematch'] = np.select(conditions, values)"
   ]
  },
  {
   "cell_type": "code",
   "execution_count": 12,
   "id": "01e47808",
   "metadata": {},
   "outputs": [
    {
     "data": {
      "text/html": [
       "<div>\n",
       "<style scoped>\n",
       "    .dataframe tbody tr th:only-of-type {\n",
       "        vertical-align: middle;\n",
       "    }\n",
       "\n",
       "    .dataframe tbody tr th {\n",
       "        vertical-align: top;\n",
       "    }\n",
       "\n",
       "    .dataframe thead th {\n",
       "        text-align: right;\n",
       "    }\n",
       "</style>\n",
       "<table border=\"1\" class=\"dataframe\">\n",
       "  <thead>\n",
       "    <tr style=\"text-align: right;\">\n",
       "      <th>result</th>\n",
       "      <th>draw</th>\n",
       "      <th>lose</th>\n",
       "      <th>win</th>\n",
       "      <th>All</th>\n",
       "    </tr>\n",
       "    <tr>\n",
       "      <th>typematch</th>\n",
       "      <th></th>\n",
       "      <th></th>\n",
       "      <th></th>\n",
       "      <th></th>\n",
       "    </tr>\n",
       "  </thead>\n",
       "  <tbody>\n",
       "    <tr>\n",
       "      <th>Friendly</th>\n",
       "      <td>4329</td>\n",
       "      <td>8141</td>\n",
       "      <td>4806</td>\n",
       "      <td>17276</td>\n",
       "    </tr>\n",
       "    <tr>\n",
       "      <th>Official</th>\n",
       "      <td>5626</td>\n",
       "      <td>12868</td>\n",
       "      <td>7418</td>\n",
       "      <td>25912</td>\n",
       "    </tr>\n",
       "    <tr>\n",
       "      <th>All</th>\n",
       "      <td>9955</td>\n",
       "      <td>21009</td>\n",
       "      <td>12224</td>\n",
       "      <td>43188</td>\n",
       "    </tr>\n",
       "  </tbody>\n",
       "</table>\n",
       "</div>"
      ],
      "text/plain": [
       "result     draw   lose    win    All\n",
       "typematch                           \n",
       "Friendly   4329   8141   4806  17276\n",
       "Official   5626  12868   7418  25912\n",
       "All        9955  21009  12224  43188"
      ]
     },
     "execution_count": 12,
     "metadata": {},
     "output_type": "execute_result"
    }
   ],
   "source": [
    "x=pd.crosstab(df['typematch'],df['result'],margins=True)\n",
    "x"
   ]
  },
  {
   "cell_type": "code",
   "execution_count": 13,
   "id": "45be74a5",
   "metadata": {},
   "outputs": [
    {
     "data": {
      "text/plain": [
       "array([[ 4329,  8141,  4806, 17276],\n",
       "       [ 5626, 12868,  7418, 25912],\n",
       "       [ 9955, 21009, 12224, 43188]], dtype=int64)"
      ]
     },
     "execution_count": 13,
     "metadata": {},
     "output_type": "execute_result"
    }
   ],
   "source": [
    "x=np.array(x)\n",
    "x"
   ]
  },
  {
   "cell_type": "code",
   "execution_count": 14,
   "id": "00538430",
   "metadata": {},
   "outputs": [
    {
     "data": {
      "text/plain": [
       "(0.27150736589666685, 0.2848714254902283)"
      ]
     },
     "execution_count": 14,
     "metadata": {},
     "output_type": "execute_result"
    }
   ],
   "source": [
    "CI_win_friendly=proportion_confint(count=x[0,2],nobs=x[0,3],alpha=(1-.95))\n",
    "CI_win_friendly"
   ]
  },
  {
   "cell_type": "code",
   "execution_count": 15,
   "id": "8f7d0cad",
   "metadata": {},
   "outputs": [
    {
     "data": {
      "text/plain": [
       "(0.2807729187467606, 0.29178033843138085)"
      ]
     },
     "execution_count": 15,
     "metadata": {},
     "output_type": "execute_result"
    }
   ],
   "source": [
    "CI_win_official=proportion_confint(count=x[1,2],nobs=x[1,3],alpha=(1-.95))\n",
    "CI_win_official"
   ]
  },
  {
   "cell_type": "code",
   "execution_count": 16,
   "id": "31b9d76e",
   "metadata": {},
   "outputs": [
    {
     "data": {
      "text/html": [
       "<div>\n",
       "<style scoped>\n",
       "    .dataframe tbody tr th:only-of-type {\n",
       "        vertical-align: middle;\n",
       "    }\n",
       "\n",
       "    .dataframe tbody tr th {\n",
       "        vertical-align: top;\n",
       "    }\n",
       "\n",
       "    .dataframe thead th {\n",
       "        text-align: right;\n",
       "    }\n",
       "</style>\n",
       "<table border=\"1\" class=\"dataframe\">\n",
       "  <thead>\n",
       "    <tr style=\"text-align: right;\">\n",
       "      <th></th>\n",
       "      <th>Typematch</th>\n",
       "      <th>lb</th>\n",
       "      <th>ub</th>\n",
       "    </tr>\n",
       "  </thead>\n",
       "  <tbody>\n",
       "    <tr>\n",
       "      <th>0</th>\n",
       "      <td>Friendly</td>\n",
       "      <td>0.271507</td>\n",
       "      <td>0.284871</td>\n",
       "    </tr>\n",
       "    <tr>\n",
       "      <th>1</th>\n",
       "      <td>Official</td>\n",
       "      <td>0.280773</td>\n",
       "      <td>0.291780</td>\n",
       "    </tr>\n",
       "  </tbody>\n",
       "</table>\n",
       "</div>"
      ],
      "text/plain": [
       "  Typematch        lb        ub\n",
       "0  Friendly  0.271507  0.284871\n",
       "1  Official  0.280773  0.291780"
      ]
     },
     "execution_count": 16,
     "metadata": {},
     "output_type": "execute_result"
    }
   ],
   "source": [
    "ci_win = {}\n",
    "ci_win['Typematch'] = ['Friendly','Official']\n",
    "ci_win['lb'] = [CI_win_friendly[0],CI_win_official[0]]\n",
    "ci_win['ub'] = [CI_win_friendly[1],CI_win_official[1]]\n",
    "df_ci3= pd.DataFrame(ci_win)\n",
    "df_ci3"
   ]
  },
  {
   "cell_type": "code",
   "execution_count": 17,
   "id": "90f1584f",
   "metadata": {},
   "outputs": [
    {
     "data": {
      "text/plain": [
       "([<matplotlib.axis.YTick at 0x1c7bb5d26a0>,\n",
       "  <matplotlib.axis.YTick at 0x1c7bb5b8ee0>],\n",
       " [Text(0, 0, 'Friendly'), Text(0, 1, 'Official')])"
      ]
     },
     "execution_count": 17,
     "metadata": {},
     "output_type": "execute_result"
    },
    {
     "data": {
      "image/png": "[encoded data removed]",
      "text/plain": [
       "<Figure size 432x288 with 1 Axes>"
      ]
     },
     "metadata": {
      "needs_background": "light"
     },
     "output_type": "display_data"
    }
   ],
   "source": [
    "for lb,ub,y in zip(df_ci3['lb'],df_ci3['ub'],range(len(df_ci3))):\n",
    "    plt.plot((lb,ub),(y,y),'ro-')\n",
    "plt.yticks(range(len(df_ci3)),list(df_ci3['Typematch']))"
   ]
  },
  {
   "cell_type": "code",
   "execution_count": 18,
   "id": "535c4a2f",
   "metadata": {},
   "outputs": [
    {
     "data": {
      "text/plain": [
       "(0.46378827932197364, 0.47867525390331)"
      ]
     },
     "execution_count": 18,
     "metadata": {},
     "output_type": "execute_result"
    }
   ],
   "source": [
    "CI_lose_friendly=proportion_confint(count=x[0,1],nobs=x[0,3],alpha=(1-.95))\n",
    "CI_lose_friendly"
   ]
  },
  {
   "cell_type": "code",
   "execution_count": 19,
   "id": "11a03b33",
   "metadata": {},
   "outputs": [
    {
     "data": {
      "text/plain": [
       "(0.4905161288707065, 0.5026916513083611)"
      ]
     },
     "execution_count": 19,
     "metadata": {},
     "output_type": "execute_result"
    }
   ],
   "source": [
    "CI_lose_official=proportion_confint(count=x[1,1],nobs=x[1,3],alpha=(1-.95))\n",
    "CI_lose_official"
   ]
  },
  {
   "cell_type": "code",
   "execution_count": 20,
   "id": "ec9021c0",
   "metadata": {},
   "outputs": [
    {
     "data": {
      "text/html": [
       "<div>\n",
       "<style scoped>\n",
       "    .dataframe tbody tr th:only-of-type {\n",
       "        vertical-align: middle;\n",
       "    }\n",
       "\n",
       "    .dataframe tbody tr th {\n",
       "        vertical-align: top;\n",
       "    }\n",
       "\n",
       "    .dataframe thead th {\n",
       "        text-align: right;\n",
       "    }\n",
       "</style>\n",
       "<table border=\"1\" class=\"dataframe\">\n",
       "  <thead>\n",
       "    <tr style=\"text-align: right;\">\n",
       "      <th></th>\n",
       "      <th>Typematch</th>\n",
       "      <th>lb</th>\n",
       "      <th>ub</th>\n",
       "    </tr>\n",
       "  </thead>\n",
       "  <tbody>\n",
       "    <tr>\n",
       "      <th>0</th>\n",
       "      <td>Friendly</td>\n",
       "      <td>0.463788</td>\n",
       "      <td>0.478675</td>\n",
       "    </tr>\n",
       "    <tr>\n",
       "      <th>1</th>\n",
       "      <td>Official</td>\n",
       "      <td>0.490516</td>\n",
       "      <td>0.502692</td>\n",
       "    </tr>\n",
       "  </tbody>\n",
       "</table>\n",
       "</div>"
      ],
      "text/plain": [
       "  Typematch        lb        ub\n",
       "0  Friendly  0.463788  0.478675\n",
       "1  Official  0.490516  0.502692"
      ]
     },
     "execution_count": 20,
     "metadata": {},
     "output_type": "execute_result"
    }
   ],
   "source": [
    "ci_lose = {}\n",
    "ci_lose['Typematch'] = ['Friendly','Official']\n",
    "ci_lose['lb'] = [CI_lose_friendly[0],CI_lose_official[0]]\n",
    "ci_lose['ub'] = [CI_lose_friendly[1],CI_lose_official[1]]\n",
    "df_ci4= pd.DataFrame(ci_lose)\n",
    "df_ci4"
   ]
  },
  {
   "cell_type": "code",
   "execution_count": 21,
   "id": "c87d7fc4",
   "metadata": {},
   "outputs": [
    {
     "data": {
      "text/plain": [
       "([<matplotlib.axis.YTick at 0x1c7bd635a30>,\n",
       "  <matplotlib.axis.YTick at 0x1c7bd635fa0>],\n",
       " [Text(0, 0, 'Friendly'), Text(0, 1, 'Official')])"
      ]
     },
     "execution_count": 21,
     "metadata": {},
     "output_type": "execute_result"
    },
    {
     "data": {
      "image/png": "[encoded data removed]",
      "text/plain": [
       "<Figure size 432x288 with 1 Axes>"
      ]
     },
     "metadata": {
      "needs_background": "light"
     },
     "output_type": "display_data"
    }
   ],
   "source": [
    "for lb,ub,y in zip(df_ci4['lb'],df_ci4['ub'],range(len(df_ci4))):\n",
    "    plt.plot((lb,ub),(y,y),'ro-')\n",
    "plt.yticks(range(len(df_ci4)),list(df_ci4['Typematch']))"
   ]
  },
  {
   "cell_type": "code",
   "execution_count": 22,
   "id": "aa29c7c3",
   "metadata": {
    "scrolled": true
   },
   "outputs": [
    {
     "data": {
      "text/plain": [
       "United States          1237\n",
       "France                  818\n",
       "Malaysia                744\n",
       "England                 717\n",
       "Sweden                  655\n",
       "                       ... \n",
       "Belgian Congo             1\n",
       "Portuguese Guinea         1\n",
       "Bohemia and Moravia       1\n",
       "Lautoka                   1\n",
       "Mali Federation           1\n",
       "Name: country, Length: 267, dtype: int64"
      ]
     },
     "execution_count": 22,
     "metadata": {},
     "output_type": "execute_result"
    }
   ],
   "source": [
    "df['country'].value_counts()"
   ]
  },
  {
   "cell_type": "code",
   "execution_count": 23,
   "id": "3d082522",
   "metadata": {
    "scrolled": true
   },
   "outputs": [],
   "source": [
    "dfus=df[df['country']=='United States']"
   ]
  },
  {
   "cell_type": "code",
   "execution_count": 24,
   "id": "96d5c502",
   "metadata": {},
   "outputs": [],
   "source": [
    "conditions = [\n",
    "    (dfus['tournament']=='Friendly'),\n",
    "    (dfus['tournament']!='Friendly')\n",
    "    ]"
   ]
  },
  {
   "cell_type": "code",
   "execution_count": 25,
   "id": "88465429",
   "metadata": {},
   "outputs": [],
   "source": [
    "values=['Friendly','Official']"
   ]
  },
  {
   "cell_type": "code",
   "execution_count": 26,
   "id": "6cf0df9e",
   "metadata": {},
   "outputs": [
    {
     "name": "stderr",
     "output_type": "stream",
     "text": [
      "C:\\Users\\lenovo\\AppData\\Local\\Temp/ipykernel_17240/327193532.py:1: SettingWithCopyWarning: \n",
      "A value is trying to be set on a copy of a slice from a DataFrame.\n",
      "Try using .loc[row_indexer,col_indexer] = value instead\n",
      "\n",
      "See the caveats in the documentation: https://pandas.pydata.org/pandas-docs/stable/user_guide/indexing.html#returning-a-view-versus-a-copy\n",
      "  dfus['Typematch'] = np.select(conditions, values)\n"
     ]
    }
   ],
   "source": [
    "dfus['Typematch'] = np.select(conditions, values)"
   ]
  },
  {
   "cell_type": "code",
   "execution_count": 27,
   "id": "c8f5e6b9",
   "metadata": {},
   "outputs": [
    {
     "data": {
      "text/html": [
       "<div>\n",
       "<style scoped>\n",
       "    .dataframe tbody tr th:only-of-type {\n",
       "        vertical-align: middle;\n",
       "    }\n",
       "\n",
       "    .dataframe tbody tr th {\n",
       "        vertical-align: top;\n",
       "    }\n",
       "\n",
       "    .dataframe thead th {\n",
       "        text-align: right;\n",
       "    }\n",
       "</style>\n",
       "<table border=\"1\" class=\"dataframe\">\n",
       "  <thead>\n",
       "    <tr style=\"text-align: right;\">\n",
       "      <th>result</th>\n",
       "      <th>draw</th>\n",
       "      <th>lose</th>\n",
       "      <th>win</th>\n",
       "      <th>All</th>\n",
       "    </tr>\n",
       "    <tr>\n",
       "      <th>typematch</th>\n",
       "      <th></th>\n",
       "      <th></th>\n",
       "      <th></th>\n",
       "      <th></th>\n",
       "    </tr>\n",
       "  </thead>\n",
       "  <tbody>\n",
       "    <tr>\n",
       "      <th>Friendly</th>\n",
       "      <td>180</td>\n",
       "      <td>247</td>\n",
       "      <td>226</td>\n",
       "      <td>653</td>\n",
       "    </tr>\n",
       "    <tr>\n",
       "      <th>Official</th>\n",
       "      <td>114</td>\n",
       "      <td>315</td>\n",
       "      <td>155</td>\n",
       "      <td>584</td>\n",
       "    </tr>\n",
       "    <tr>\n",
       "      <th>All</th>\n",
       "      <td>294</td>\n",
       "      <td>562</td>\n",
       "      <td>381</td>\n",
       "      <td>1237</td>\n",
       "    </tr>\n",
       "  </tbody>\n",
       "</table>\n",
       "</div>"
      ],
      "text/plain": [
       "result     draw  lose  win   All\n",
       "typematch                       \n",
       "Friendly    180   247  226   653\n",
       "Official    114   315  155   584\n",
       "All         294   562  381  1237"
      ]
     },
     "execution_count": 27,
     "metadata": {},
     "output_type": "execute_result"
    }
   ],
   "source": [
    "x=pd.crosstab(dfus['typematch'],dfus['result'],margins=True)\n",
    "x"
   ]
  },
  {
   "cell_type": "code",
   "execution_count": 28,
   "id": "40f9ca42",
   "metadata": {},
   "outputs": [
    {
     "data": {
      "text/plain": [
       "array([[ 180,  247,  226,  653],\n",
       "       [ 114,  315,  155,  584],\n",
       "       [ 294,  562,  381, 1237]], dtype=int64)"
      ]
     },
     "execution_count": 28,
     "metadata": {},
     "output_type": "execute_result"
    }
   ],
   "source": [
    "x=np.array(x)\n",
    "x"
   ]
  },
  {
   "cell_type": "code",
   "execution_count": 29,
   "id": "798f518c",
   "metadata": {},
   "outputs": [
    {
     "data": {
      "text/plain": [
       "(0.22959939266607973, 0.30122252514213943)"
      ]
     },
     "execution_count": 29,
     "metadata": {},
     "output_type": "execute_result"
    }
   ],
   "source": [
    "CI_uswin_friendly=proportion_confint(count=x[1,2],nobs=x[1,3],alpha=(1-.95))\n",
    "CI_uswin_friendly"
   ]
  },
  {
   "cell_type": "code",
   "execution_count": 30,
   "id": "168bfffe",
   "metadata": {},
   "outputs": [
    {
     "data": {
      "text/plain": [
       "(0.3096072474351973, 0.38258264536725295)"
      ]
     },
     "execution_count": 30,
     "metadata": {},
     "output_type": "execute_result"
    }
   ],
   "source": [
    "CI_uswin_official=proportion_confint(count=x[0,2],nobs=x[0,3],alpha=(1-.95))\n",
    "CI_uswin_official"
   ]
  },
  {
   "cell_type": "code",
   "execution_count": 31,
   "id": "16e9c265",
   "metadata": {},
   "outputs": [
    {
     "data": {
      "text/html": [
       "<div>\n",
       "<style scoped>\n",
       "    .dataframe tbody tr th:only-of-type {\n",
       "        vertical-align: middle;\n",
       "    }\n",
       "\n",
       "    .dataframe tbody tr th {\n",
       "        vertical-align: top;\n",
       "    }\n",
       "\n",
       "    .dataframe thead th {\n",
       "        text-align: right;\n",
       "    }\n",
       "</style>\n",
       "<table border=\"1\" class=\"dataframe\">\n",
       "  <thead>\n",
       "    <tr style=\"text-align: right;\">\n",
       "      <th></th>\n",
       "      <th>Typematch</th>\n",
       "      <th>lb</th>\n",
       "      <th>ub</th>\n",
       "    </tr>\n",
       "  </thead>\n",
       "  <tbody>\n",
       "    <tr>\n",
       "      <th>0</th>\n",
       "      <td>Friendly</td>\n",
       "      <td>0.229599</td>\n",
       "      <td>0.301223</td>\n",
       "    </tr>\n",
       "    <tr>\n",
       "      <th>1</th>\n",
       "      <td>Official</td>\n",
       "      <td>0.309607</td>\n",
       "      <td>0.382583</td>\n",
       "    </tr>\n",
       "  </tbody>\n",
       "</table>\n",
       "</div>"
      ],
      "text/plain": [
       "  Typematch        lb        ub\n",
       "0  Friendly  0.229599  0.301223\n",
       "1  Official  0.309607  0.382583"
      ]
     },
     "execution_count": 31,
     "metadata": {},
     "output_type": "execute_result"
    }
   ],
   "source": [
    "ci_uswin = {}\n",
    "ci_uswin['Typematch'] = ['Friendly','Official']\n",
    "ci_uswin['lb'] = [CI_uswin_friendly[0],CI_uswin_official[0]]\n",
    "ci_uswin['ub'] = [CI_uswin_friendly[1],CI_uswin_official[1]]\n",
    "df_cius= pd.DataFrame(ci_uswin)\n",
    "df_cius"
   ]
  },
  {
   "cell_type": "code",
   "execution_count": 32,
   "id": "8fff2785",
   "metadata": {},
   "outputs": [
    {
     "data": {
      "text/plain": [
       "([<matplotlib.axis.YTick at 0x1c7bd67ca90>,\n",
       "  <matplotlib.axis.YTick at 0x1c7bbaa79a0>],\n",
       " [Text(0, 0, 'Friendly'), Text(0, 1, 'Official')])"
      ]
     },
     "execution_count": 32,
     "metadata": {},
     "output_type": "execute_result"
    },
    {
     "data": {
      "image/png": "[encoded data removed]",
      "text/plain": [
       "<Figure size 432x288 with 1 Axes>"
      ]
     },
     "metadata": {
      "needs_background": "light"
     },
     "output_type": "display_data"
    }
   ],
   "source": [
    "for lb,ub,y in zip(df_cius['lb'],df_cius['ub'],range(len(df_cius))):\n",
    "    plt.plot((lb,ub),(y,y),'ro-')\n",
    "plt.yticks(range(len(df_cius)),list(df_cius['Typematch']))"
   ]
  },
  {
   "cell_type": "code",
   "execution_count": 33,
   "id": "b78a46c3",
   "metadata": {},
   "outputs": [
    {
     "data": {
      "text/plain": [
       "(0.3410587617395715, 0.4154496609250533)"
      ]
     },
     "execution_count": 33,
     "metadata": {},
     "output_type": "execute_result"
    }
   ],
   "source": [
    "CI_uslose_friendly=proportion_confint(count=x[0,1],nobs=x[0,3],alpha=(1-.95))\n",
    "CI_uslose_friendly"
   ]
  },
  {
   "cell_type": "code",
   "execution_count": 34,
   "id": "418f6787",
   "metadata": {},
   "outputs": [
    {
     "data": {
      "text/plain": [
       "(0.4989576113893054, 0.5798095118983658)"
      ]
     },
     "execution_count": 34,
     "metadata": {},
     "output_type": "execute_result"
    }
   ],
   "source": [
    "CI_uslose_official=proportion_confint(count=x[1,1],nobs=x[1,3],alpha=(1-.95))\n",
    "CI_uslose_official"
   ]
  },
  {
   "cell_type": "code",
   "execution_count": 35,
   "id": "c64062ab",
   "metadata": {},
   "outputs": [
    {
     "data": {
      "text/html": [
       "<div>\n",
       "<style scoped>\n",
       "    .dataframe tbody tr th:only-of-type {\n",
       "        vertical-align: middle;\n",
       "    }\n",
       "\n",
       "    .dataframe tbody tr th {\n",
       "        vertical-align: top;\n",
       "    }\n",
       "\n",
       "    .dataframe thead th {\n",
       "        text-align: right;\n",
       "    }\n",
       "</style>\n",
       "<table border=\"1\" class=\"dataframe\">\n",
       "  <thead>\n",
       "    <tr style=\"text-align: right;\">\n",
       "      <th></th>\n",
       "      <th>Typematch</th>\n",
       "      <th>lb</th>\n",
       "      <th>ub</th>\n",
       "    </tr>\n",
       "  </thead>\n",
       "  <tbody>\n",
       "    <tr>\n",
       "      <th>0</th>\n",
       "      <td>Friendly</td>\n",
       "      <td>0.341059</td>\n",
       "      <td>0.41545</td>\n",
       "    </tr>\n",
       "    <tr>\n",
       "      <th>1</th>\n",
       "      <td>Official</td>\n",
       "      <td>0.498958</td>\n",
       "      <td>0.57981</td>\n",
       "    </tr>\n",
       "  </tbody>\n",
       "</table>\n",
       "</div>"
      ],
      "text/plain": [
       "  Typematch        lb       ub\n",
       "0  Friendly  0.341059  0.41545\n",
       "1  Official  0.498958  0.57981"
      ]
     },
     "execution_count": 35,
     "metadata": {},
     "output_type": "execute_result"
    }
   ],
   "source": [
    "ci_uslose = {}\n",
    "ci_uslose['Typematch'] = ['Friendly','Official']\n",
    "ci_uslose['lb'] = [CI_uslose_friendly[0],CI_uslose_official[0]]\n",
    "ci_uslose['ub'] = [CI_uslose_friendly[1],CI_uslose_official[1]]\n",
    "df_cius= pd.DataFrame(ci_uslose)\n",
    "df_cius"
   ]
  },
  {
   "cell_type": "code",
   "execution_count": 36,
   "id": "4030e217",
   "metadata": {
    "scrolled": true
   },
   "outputs": [
    {
     "data": {
      "text/plain": [
       "([<matplotlib.axis.YTick at 0x1c7bbb118e0>,\n",
       "  <matplotlib.axis.YTick at 0x1c7bbb110d0>],\n",
       " [Text(0, 0, 'Friendly'), Text(0, 1, 'Official')])"
      ]
     },
     "execution_count": 36,
     "metadata": {},
     "output_type": "execute_result"
    },
    {
     "data": {
      "image/png": "[encoded data removed]",
      "text/plain": [
       "<Figure size 432x288 with 1 Axes>"
      ]
     },
     "metadata": {
      "needs_background": "light"
     },
     "output_type": "display_data"
    }
   ],
   "source": [
    "for lb,ub,y in zip(df_cius['lb'],df_cius['ub'],range(len(df_cius))):\n",
    "    plt.plot((lb,ub),(y,y),'ro-')\n",
    "plt.yticks(range(len(df_cius)),list(df_cius['Typematch']))"
   ]
  },
  {
   "cell_type": "markdown",
   "id": "70279b6d",
   "metadata": {},
   "source": [
    "# Conclusion for Part 1\n",
    "The code aims to find the 95% confidence interval for won/lost matches for both match types, Friendly and Official. The first 2 confidence intervals were for won/lost matches in friendly and offical matches for all countries in general without choosing a specific one. The confidence interval for winning in both both matches types were totally different. The range of the interval for winning an official match is less than a friendly match. Which led to a high margin of error  for winning a friendly match, and the propability of winning a friendly match is high than winning an official match. Moreover, for losing, it's the same thing. The probability of losing a match is higher in friendly matches and the MOE is also bigger. The first 2 confidence intervals were for won/lost matches in friendly and offical matches for the most common country, United States. The range of the interval for winning an official match is more than a friendly match. Which led to a high margin of error  for winning an official match, and the propability of winning an official match is higher than winning a friendly match. Moreover,for losing, it's the same thing. The probability of losing a match is higher in official matches and the MOE is also bigger."
   ]
  },
  {
   "cell_type": "markdown",
   "id": "4e0bff07",
   "metadata": {},
   "source": [
    "# Part 2"
   ]
  },
  {
   "cell_type": "code",
   "execution_count": 37,
   "id": "34cabb80",
   "metadata": {
    "scrolled": true
   },
   "outputs": [
    {
     "data": {
      "text/html": [
       "<div>\n",
       "<style scoped>\n",
       "    .dataframe tbody tr th:only-of-type {\n",
       "        vertical-align: middle;\n",
       "    }\n",
       "\n",
       "    .dataframe tbody tr th {\n",
       "        vertical-align: top;\n",
       "    }\n",
       "\n",
       "    .dataframe thead th {\n",
       "        text-align: right;\n",
       "    }\n",
       "</style>\n",
       "<table border=\"1\" class=\"dataframe\">\n",
       "  <thead>\n",
       "    <tr style=\"text-align: right;\">\n",
       "      <th></th>\n",
       "      <th>date</th>\n",
       "      <th>iso3c</th>\n",
       "      <th>country</th>\n",
       "      <th>income</th>\n",
       "      <th>region</th>\n",
       "      <th>continent</th>\n",
       "      <th>dcases</th>\n",
       "      <th>ddeaths</th>\n",
       "      <th>population</th>\n",
       "      <th>weekdays</th>\n",
       "      <th>month</th>\n",
       "    </tr>\n",
       "  </thead>\n",
       "  <tbody>\n",
       "    <tr>\n",
       "      <th>0</th>\n",
       "      <td>2020-02-24</td>\n",
       "      <td>AFG</td>\n",
       "      <td>Afghanistan</td>\n",
       "      <td>Low income</td>\n",
       "      <td>South Asia</td>\n",
       "      <td>Asia</td>\n",
       "      <td>5</td>\n",
       "      <td>0</td>\n",
       "      <td>38041754</td>\n",
       "      <td>Mon</td>\n",
       "      <td>Feb</td>\n",
       "    </tr>\n",
       "    <tr>\n",
       "      <th>1</th>\n",
       "      <td>2020-02-25</td>\n",
       "      <td>AFG</td>\n",
       "      <td>Afghanistan</td>\n",
       "      <td>Low income</td>\n",
       "      <td>South Asia</td>\n",
       "      <td>Asia</td>\n",
       "      <td>0</td>\n",
       "      <td>0</td>\n",
       "      <td>38041754</td>\n",
       "      <td>Tue</td>\n",
       "      <td>Feb</td>\n",
       "    </tr>\n",
       "    <tr>\n",
       "      <th>2</th>\n",
       "      <td>2020-02-26</td>\n",
       "      <td>AFG</td>\n",
       "      <td>Afghanistan</td>\n",
       "      <td>Low income</td>\n",
       "      <td>South Asia</td>\n",
       "      <td>Asia</td>\n",
       "      <td>0</td>\n",
       "      <td>0</td>\n",
       "      <td>38041754</td>\n",
       "      <td>Wed</td>\n",
       "      <td>Feb</td>\n",
       "    </tr>\n",
       "    <tr>\n",
       "      <th>3</th>\n",
       "      <td>2020-02-27</td>\n",
       "      <td>AFG</td>\n",
       "      <td>Afghanistan</td>\n",
       "      <td>Low income</td>\n",
       "      <td>South Asia</td>\n",
       "      <td>Asia</td>\n",
       "      <td>0</td>\n",
       "      <td>0</td>\n",
       "      <td>38041754</td>\n",
       "      <td>Thu</td>\n",
       "      <td>Feb</td>\n",
       "    </tr>\n",
       "    <tr>\n",
       "      <th>4</th>\n",
       "      <td>2020-02-28</td>\n",
       "      <td>AFG</td>\n",
       "      <td>Afghanistan</td>\n",
       "      <td>Low income</td>\n",
       "      <td>South Asia</td>\n",
       "      <td>Asia</td>\n",
       "      <td>0</td>\n",
       "      <td>0</td>\n",
       "      <td>38041754</td>\n",
       "      <td>Fri</td>\n",
       "      <td>Feb</td>\n",
       "    </tr>\n",
       "    <tr>\n",
       "      <th>...</th>\n",
       "      <td>...</td>\n",
       "      <td>...</td>\n",
       "      <td>...</td>\n",
       "      <td>...</td>\n",
       "      <td>...</td>\n",
       "      <td>...</td>\n",
       "      <td>...</td>\n",
       "      <td>...</td>\n",
       "      <td>...</td>\n",
       "      <td>...</td>\n",
       "      <td>...</td>\n",
       "    </tr>\n",
       "    <tr>\n",
       "      <th>122838</th>\n",
       "      <td>2021-12-27</td>\n",
       "      <td>ZWE</td>\n",
       "      <td>Zimbabwe</td>\n",
       "      <td>Lower middle income</td>\n",
       "      <td>Sub-Saharan Africa</td>\n",
       "      <td>Africa</td>\n",
       "      <td>1098</td>\n",
       "      <td>17</td>\n",
       "      <td>14645468</td>\n",
       "      <td>Mon</td>\n",
       "      <td>Dec</td>\n",
       "    </tr>\n",
       "    <tr>\n",
       "      <th>122839</th>\n",
       "      <td>2021-12-28</td>\n",
       "      <td>ZWE</td>\n",
       "      <td>Zimbabwe</td>\n",
       "      <td>Lower middle income</td>\n",
       "      <td>Sub-Saharan Africa</td>\n",
       "      <td>Africa</td>\n",
       "      <td>2099</td>\n",
       "      <td>32</td>\n",
       "      <td>14645468</td>\n",
       "      <td>Tue</td>\n",
       "      <td>Dec</td>\n",
       "    </tr>\n",
       "    <tr>\n",
       "      <th>122840</th>\n",
       "      <td>2021-12-29</td>\n",
       "      <td>ZWE</td>\n",
       "      <td>Zimbabwe</td>\n",
       "      <td>Lower middle income</td>\n",
       "      <td>Sub-Saharan Africa</td>\n",
       "      <td>Africa</td>\n",
       "      <td>0</td>\n",
       "      <td>0</td>\n",
       "      <td>14645468</td>\n",
       "      <td>Wed</td>\n",
       "      <td>Dec</td>\n",
       "    </tr>\n",
       "    <tr>\n",
       "      <th>122841</th>\n",
       "      <td>2021-12-30</td>\n",
       "      <td>ZWE</td>\n",
       "      <td>Zimbabwe</td>\n",
       "      <td>Lower middle income</td>\n",
       "      <td>Sub-Saharan Africa</td>\n",
       "      <td>Africa</td>\n",
       "      <td>4180</td>\n",
       "      <td>57</td>\n",
       "      <td>14645468</td>\n",
       "      <td>Thu</td>\n",
       "      <td>Dec</td>\n",
       "    </tr>\n",
       "    <tr>\n",
       "      <th>122842</th>\n",
       "      <td>2021-12-31</td>\n",
       "      <td>ZWE</td>\n",
       "      <td>Zimbabwe</td>\n",
       "      <td>Lower middle income</td>\n",
       "      <td>Sub-Saharan Africa</td>\n",
       "      <td>Africa</td>\n",
       "      <td>1530</td>\n",
       "      <td>7</td>\n",
       "      <td>14645468</td>\n",
       "      <td>Fri</td>\n",
       "      <td>Dec</td>\n",
       "    </tr>\n",
       "  </tbody>\n",
       "</table>\n",
       "<p>122843 rows × 11 columns</p>\n",
       "</div>"
      ],
      "text/plain": [
       "              date iso3c      country               income  \\\n",
       "0       2020-02-24   AFG  Afghanistan           Low income   \n",
       "1       2020-02-25   AFG  Afghanistan           Low income   \n",
       "2       2020-02-26   AFG  Afghanistan           Low income   \n",
       "3       2020-02-27   AFG  Afghanistan           Low income   \n",
       "4       2020-02-28   AFG  Afghanistan           Low income   \n",
       "...            ...   ...          ...                  ...   \n",
       "122838  2021-12-27   ZWE     Zimbabwe  Lower middle income   \n",
       "122839  2021-12-28   ZWE     Zimbabwe  Lower middle income   \n",
       "122840  2021-12-29   ZWE     Zimbabwe  Lower middle income   \n",
       "122841  2021-12-30   ZWE     Zimbabwe  Lower middle income   \n",
       "122842  2021-12-31   ZWE     Zimbabwe  Lower middle income   \n",
       "\n",
       "                    region continent  dcases  ddeaths  population weekdays  \\\n",
       "0               South Asia      Asia       5        0    38041754      Mon   \n",
       "1               South Asia      Asia       0        0    38041754      Tue   \n",
       "2               South Asia      Asia       0        0    38041754      Wed   \n",
       "3               South Asia      Asia       0        0    38041754      Thu   \n",
       "4               South Asia      Asia       0        0    38041754      Fri   \n",
       "...                    ...       ...     ...      ...         ...      ...   \n",
       "122838  Sub-Saharan Africa    Africa    1098       17    14645468      Mon   \n",
       "122839  Sub-Saharan Africa    Africa    2099       32    14645468      Tue   \n",
       "122840  Sub-Saharan Africa    Africa       0        0    14645468      Wed   \n",
       "122841  Sub-Saharan Africa    Africa    4180       57    14645468      Thu   \n",
       "122842  Sub-Saharan Africa    Africa    1530        7    14645468      Fri   \n",
       "\n",
       "       month  \n",
       "0        Feb  \n",
       "1        Feb  \n",
       "2        Feb  \n",
       "3        Feb  \n",
       "4        Feb  \n",
       "...      ...  \n",
       "122838   Dec  \n",
       "122839   Dec  \n",
       "122840   Dec  \n",
       "122841   Dec  \n",
       "122842   Dec  \n",
       "\n",
       "[122843 rows x 11 columns]"
      ]
     },
     "execution_count": 37,
     "metadata": {},
     "output_type": "execute_result"
    }
   ],
   "source": [
    "df1=pd.read_csv('covid_data.csv',encoding='latin-1')\n",
    "df1"
   ]
  },
  {
   "cell_type": "code",
   "execution_count": 38,
   "id": "c822b736",
   "metadata": {},
   "outputs": [],
   "source": [
    "from pandas.api.types import CategoricalDtype\n",
    "cats=['Jan', 'Feb', 'Mar','Apr','May','Jun','Jul','Aug','Sep','Oct','Nov','Dec']\n",
    "cat_type = CategoricalDtype(categories=cats, ordered=True)\n",
    "df1['month'] = df1['month'].astype(cat_type)"
   ]
  },
  {
   "cell_type": "code",
   "execution_count": 39,
   "id": "7b0f4a62",
   "metadata": {},
   "outputs": [],
   "source": [
    "def get_ci_lb(x, alpha=0.05):\n",
    "    sample_s=np.std(x)\n",
    "    sample_mean=np.mean(x)\n",
    "    sample_size=len(x)\n",
    "    margin_of_error = t.ppf(1 - alpha/2,sample_size-1)*sample_s/np.sqrt(sample_size-1)\n",
    "    return sample_mean - margin_of_error\n",
    "\n",
    "\n",
    "def get_ci_ub(x, alpha=0.05):\n",
    "    sample_s=np.std(x)\n",
    "    sample_mean=np.mean(x)\n",
    "    sample_size=len(x)\n",
    "    margin_of_error = t.ppf(1 - alpha/2,sample_size-1)*sample_s/np.sqrt(sample_size-1)\n",
    "    return sample_mean + margin_of_error"
   ]
  },
  {
   "cell_type": "code",
   "execution_count": 40,
   "id": "d15923c1",
   "metadata": {},
   "outputs": [
    {
     "data": {
      "text/plain": [
       "2020"
      ]
     },
     "execution_count": 40,
     "metadata": {},
     "output_type": "execute_result"
    }
   ],
   "source": [
    "df1['date'][0]\n",
    "\n",
    "df1['date'] = pd. to_datetime(df1['date'],format='%Y-%m-%d')\n",
    "\n",
    "df1['date'][0]\n",
    "\n",
    "df1['year'] = pd. DatetimeIndex(df1['date']). year\n",
    "\n",
    "df1['year'][0]\n"
   ]
  },
  {
   "cell_type": "code",
   "execution_count": 41,
   "id": "66db4ae8",
   "metadata": {},
   "outputs": [
    {
     "data": {
      "text/html": [
       "<div>\n",
       "<style scoped>\n",
       "    .dataframe tbody tr th:only-of-type {\n",
       "        vertical-align: middle;\n",
       "    }\n",
       "\n",
       "    .dataframe tbody tr th {\n",
       "        vertical-align: top;\n",
       "    }\n",
       "\n",
       "    .dataframe thead th {\n",
       "        text-align: right;\n",
       "    }\n",
       "</style>\n",
       "<table border=\"1\" class=\"dataframe\">\n",
       "  <thead>\n",
       "    <tr style=\"text-align: right;\">\n",
       "      <th></th>\n",
       "      <th>date</th>\n",
       "      <th>iso3c</th>\n",
       "      <th>country</th>\n",
       "      <th>income</th>\n",
       "      <th>region</th>\n",
       "      <th>continent</th>\n",
       "      <th>dcases</th>\n",
       "      <th>ddeaths</th>\n",
       "      <th>population</th>\n",
       "      <th>weekdays</th>\n",
       "      <th>month</th>\n",
       "      <th>year</th>\n",
       "      <th>ratio</th>\n",
       "    </tr>\n",
       "  </thead>\n",
       "  <tbody>\n",
       "    <tr>\n",
       "      <th>28</th>\n",
       "      <td>2020-03-23</td>\n",
       "      <td>AFG</td>\n",
       "      <td>Afghanistan</td>\n",
       "      <td>Low income</td>\n",
       "      <td>South Asia</td>\n",
       "      <td>Asia</td>\n",
       "      <td>6</td>\n",
       "      <td>1</td>\n",
       "      <td>38041754</td>\n",
       "      <td>Mon</td>\n",
       "      <td>Mar</td>\n",
       "      <td>2020</td>\n",
       "      <td>6.000000</td>\n",
       "    </tr>\n",
       "    <tr>\n",
       "      <th>31</th>\n",
       "      <td>2020-03-26</td>\n",
       "      <td>AFG</td>\n",
       "      <td>Afghanistan</td>\n",
       "      <td>Low income</td>\n",
       "      <td>South Asia</td>\n",
       "      <td>Asia</td>\n",
       "      <td>6</td>\n",
       "      <td>1</td>\n",
       "      <td>38041754</td>\n",
       "      <td>Thu</td>\n",
       "      <td>Mar</td>\n",
       "      <td>2020</td>\n",
       "      <td>6.000000</td>\n",
       "    </tr>\n",
       "    <tr>\n",
       "      <th>34</th>\n",
       "      <td>2020-03-29</td>\n",
       "      <td>AFG</td>\n",
       "      <td>Afghanistan</td>\n",
       "      <td>Low income</td>\n",
       "      <td>South Asia</td>\n",
       "      <td>Asia</td>\n",
       "      <td>8</td>\n",
       "      <td>2</td>\n",
       "      <td>38041754</td>\n",
       "      <td>Sun</td>\n",
       "      <td>Mar</td>\n",
       "      <td>2020</td>\n",
       "      <td>4.000000</td>\n",
       "    </tr>\n",
       "    <tr>\n",
       "      <th>39</th>\n",
       "      <td>2020-04-03</td>\n",
       "      <td>AFG</td>\n",
       "      <td>Afghanistan</td>\n",
       "      <td>Low income</td>\n",
       "      <td>South Asia</td>\n",
       "      <td>Asia</td>\n",
       "      <td>34</td>\n",
       "      <td>1</td>\n",
       "      <td>38041754</td>\n",
       "      <td>Fri</td>\n",
       "      <td>Apr</td>\n",
       "      <td>2020</td>\n",
       "      <td>34.000000</td>\n",
       "    </tr>\n",
       "    <tr>\n",
       "      <th>41</th>\n",
       "      <td>2020-04-05</td>\n",
       "      <td>AFG</td>\n",
       "      <td>Afghanistan</td>\n",
       "      <td>Low income</td>\n",
       "      <td>South Asia</td>\n",
       "      <td>Asia</td>\n",
       "      <td>29</td>\n",
       "      <td>2</td>\n",
       "      <td>38041754</td>\n",
       "      <td>Sun</td>\n",
       "      <td>Apr</td>\n",
       "      <td>2020</td>\n",
       "      <td>14.500000</td>\n",
       "    </tr>\n",
       "    <tr>\n",
       "      <th>...</th>\n",
       "      <td>...</td>\n",
       "      <td>...</td>\n",
       "      <td>...</td>\n",
       "      <td>...</td>\n",
       "      <td>...</td>\n",
       "      <td>...</td>\n",
       "      <td>...</td>\n",
       "      <td>...</td>\n",
       "      <td>...</td>\n",
       "      <td>...</td>\n",
       "      <td>...</td>\n",
       "      <td>...</td>\n",
       "      <td>...</td>\n",
       "    </tr>\n",
       "    <tr>\n",
       "      <th>122837</th>\n",
       "      <td>2021-12-26</td>\n",
       "      <td>ZWE</td>\n",
       "      <td>Zimbabwe</td>\n",
       "      <td>Lower middle income</td>\n",
       "      <td>Sub-Saharan Africa</td>\n",
       "      <td>Africa</td>\n",
       "      <td>605</td>\n",
       "      <td>6</td>\n",
       "      <td>14645468</td>\n",
       "      <td>Sun</td>\n",
       "      <td>Dec</td>\n",
       "      <td>2021</td>\n",
       "      <td>100.833333</td>\n",
       "    </tr>\n",
       "    <tr>\n",
       "      <th>122838</th>\n",
       "      <td>2021-12-27</td>\n",
       "      <td>ZWE</td>\n",
       "      <td>Zimbabwe</td>\n",
       "      <td>Lower middle income</td>\n",
       "      <td>Sub-Saharan Africa</td>\n",
       "      <td>Africa</td>\n",
       "      <td>1098</td>\n",
       "      <td>17</td>\n",
       "      <td>14645468</td>\n",
       "      <td>Mon</td>\n",
       "      <td>Dec</td>\n",
       "      <td>2021</td>\n",
       "      <td>64.588235</td>\n",
       "    </tr>\n",
       "    <tr>\n",
       "      <th>122839</th>\n",
       "      <td>2021-12-28</td>\n",
       "      <td>ZWE</td>\n",
       "      <td>Zimbabwe</td>\n",
       "      <td>Lower middle income</td>\n",
       "      <td>Sub-Saharan Africa</td>\n",
       "      <td>Africa</td>\n",
       "      <td>2099</td>\n",
       "      <td>32</td>\n",
       "      <td>14645468</td>\n",
       "      <td>Tue</td>\n",
       "      <td>Dec</td>\n",
       "      <td>2021</td>\n",
       "      <td>65.593750</td>\n",
       "    </tr>\n",
       "    <tr>\n",
       "      <th>122841</th>\n",
       "      <td>2021-12-30</td>\n",
       "      <td>ZWE</td>\n",
       "      <td>Zimbabwe</td>\n",
       "      <td>Lower middle income</td>\n",
       "      <td>Sub-Saharan Africa</td>\n",
       "      <td>Africa</td>\n",
       "      <td>4180</td>\n",
       "      <td>57</td>\n",
       "      <td>14645468</td>\n",
       "      <td>Thu</td>\n",
       "      <td>Dec</td>\n",
       "      <td>2021</td>\n",
       "      <td>73.333333</td>\n",
       "    </tr>\n",
       "    <tr>\n",
       "      <th>122842</th>\n",
       "      <td>2021-12-31</td>\n",
       "      <td>ZWE</td>\n",
       "      <td>Zimbabwe</td>\n",
       "      <td>Lower middle income</td>\n",
       "      <td>Sub-Saharan Africa</td>\n",
       "      <td>Africa</td>\n",
       "      <td>1530</td>\n",
       "      <td>7</td>\n",
       "      <td>14645468</td>\n",
       "      <td>Fri</td>\n",
       "      <td>Dec</td>\n",
       "      <td>2021</td>\n",
       "      <td>218.571429</td>\n",
       "    </tr>\n",
       "  </tbody>\n",
       "</table>\n",
       "<p>67773 rows × 13 columns</p>\n",
       "</div>"
      ],
      "text/plain": [
       "             date iso3c      country               income              region  \\\n",
       "28     2020-03-23   AFG  Afghanistan           Low income          South Asia   \n",
       "31     2020-03-26   AFG  Afghanistan           Low income          South Asia   \n",
       "34     2020-03-29   AFG  Afghanistan           Low income          South Asia   \n",
       "39     2020-04-03   AFG  Afghanistan           Low income          South Asia   \n",
       "41     2020-04-05   AFG  Afghanistan           Low income          South Asia   \n",
       "...           ...   ...          ...                  ...                 ...   \n",
       "122837 2021-12-26   ZWE     Zimbabwe  Lower middle income  Sub-Saharan Africa   \n",
       "122838 2021-12-27   ZWE     Zimbabwe  Lower middle income  Sub-Saharan Africa   \n",
       "122839 2021-12-28   ZWE     Zimbabwe  Lower middle income  Sub-Saharan Africa   \n",
       "122841 2021-12-30   ZWE     Zimbabwe  Lower middle income  Sub-Saharan Africa   \n",
       "122842 2021-12-31   ZWE     Zimbabwe  Lower middle income  Sub-Saharan Africa   \n",
       "\n",
       "       continent  dcases  ddeaths  population weekdays month  year       ratio  \n",
       "28          Asia       6        1    38041754      Mon   Mar  2020    6.000000  \n",
       "31          Asia       6        1    38041754      Thu   Mar  2020    6.000000  \n",
       "34          Asia       8        2    38041754      Sun   Mar  2020    4.000000  \n",
       "39          Asia      34        1    38041754      Fri   Apr  2020   34.000000  \n",
       "41          Asia      29        2    38041754      Sun   Apr  2020   14.500000  \n",
       "...          ...     ...      ...         ...      ...   ...   ...         ...  \n",
       "122837    Africa     605        6    14645468      Sun   Dec  2021  100.833333  \n",
       "122838    Africa    1098       17    14645468      Mon   Dec  2021   64.588235  \n",
       "122839    Africa    2099       32    14645468      Tue   Dec  2021   65.593750  \n",
       "122841    Africa    4180       57    14645468      Thu   Dec  2021   73.333333  \n",
       "122842    Africa    1530        7    14645468      Fri   Dec  2021  218.571429  \n",
       "\n",
       "[67773 rows x 13 columns]"
      ]
     },
     "execution_count": 41,
     "metadata": {},
     "output_type": "execute_result"
    }
   ],
   "source": [
    "ratio=df1['dcases']/df1['ddeaths']\n",
    "\n",
    "df1['ratio']=ratio\n",
    "\n",
    "df1 = df1.replace([np.inf, -np.inf], np.nan).dropna(axis=0)\n",
    "\n",
    "df1"
   ]
  },
  {
   "cell_type": "code",
   "execution_count": 42,
   "id": "466abcbf",
   "metadata": {},
   "outputs": [
    {
     "data": {
      "text/html": [
       "<div>\n",
       "<style scoped>\n",
       "    .dataframe tbody tr th:only-of-type {\n",
       "        vertical-align: middle;\n",
       "    }\n",
       "\n",
       "    .dataframe tbody tr th {\n",
       "        vertical-align: top;\n",
       "    }\n",
       "\n",
       "    .dataframe thead tr th {\n",
       "        text-align: left;\n",
       "    }\n",
       "</style>\n",
       "<table border=\"1\" class=\"dataframe\">\n",
       "  <thead>\n",
       "    <tr>\n",
       "      <th></th>\n",
       "      <th>continent</th>\n",
       "      <th>year</th>\n",
       "      <th colspan=\"5\" halign=\"left\">ratio</th>\n",
       "    </tr>\n",
       "    <tr>\n",
       "      <th></th>\n",
       "      <th></th>\n",
       "      <th></th>\n",
       "      <th>mean</th>\n",
       "      <th>std</th>\n",
       "      <th>size</th>\n",
       "      <th>get_ci_lb</th>\n",
       "      <th>get_ci_ub</th>\n",
       "    </tr>\n",
       "  </thead>\n",
       "  <tbody>\n",
       "    <tr>\n",
       "      <th>0</th>\n",
       "      <td>Africa</td>\n",
       "      <td>2020</td>\n",
       "      <td>52.623736</td>\n",
       "      <td>62.672790</td>\n",
       "      <td>4892</td>\n",
       "      <td>50.867061</td>\n",
       "      <td>54.380410</td>\n",
       "    </tr>\n",
       "    <tr>\n",
       "      <th>1</th>\n",
       "      <td>Africa</td>\n",
       "      <td>2021</td>\n",
       "      <td>75.063308</td>\n",
       "      <td>206.868302</td>\n",
       "      <td>8449</td>\n",
       "      <td>70.651652</td>\n",
       "      <td>79.474964</td>\n",
       "    </tr>\n",
       "    <tr>\n",
       "      <th>2</th>\n",
       "      <td>Asia</td>\n",
       "      <td>2020</td>\n",
       "      <td>106.957897</td>\n",
       "      <td>157.389473</td>\n",
       "      <td>7393</td>\n",
       "      <td>103.369632</td>\n",
       "      <td>110.546162</td>\n",
       "    </tr>\n",
       "    <tr>\n",
       "      <th>3</th>\n",
       "      <td>Asia</td>\n",
       "      <td>2021</td>\n",
       "      <td>126.452824</td>\n",
       "      <td>195.776606</td>\n",
       "      <td>12025</td>\n",
       "      <td>122.953291</td>\n",
       "      <td>129.952357</td>\n",
       "    </tr>\n",
       "    <tr>\n",
       "      <th>4</th>\n",
       "      <td>Europe</td>\n",
       "      <td>2020</td>\n",
       "      <td>85.172982</td>\n",
       "      <td>158.693265</td>\n",
       "      <td>8597</td>\n",
       "      <td>81.817969</td>\n",
       "      <td>88.527996</td>\n",
       "    </tr>\n",
       "    <tr>\n",
       "      <th>5</th>\n",
       "      <td>Europe</td>\n",
       "      <td>2021</td>\n",
       "      <td>165.387291</td>\n",
       "      <td>524.748437</td>\n",
       "      <td>11756</td>\n",
       "      <td>155.900613</td>\n",
       "      <td>174.873970</td>\n",
       "    </tr>\n",
       "    <tr>\n",
       "      <th>6</th>\n",
       "      <td>North America(continent)</td>\n",
       "      <td>2020</td>\n",
       "      <td>58.520703</td>\n",
       "      <td>84.557767</td>\n",
       "      <td>2924</td>\n",
       "      <td>55.454557</td>\n",
       "      <td>61.586848</td>\n",
       "    </tr>\n",
       "    <tr>\n",
       "      <th>7</th>\n",
       "      <td>North America(continent)</td>\n",
       "      <td>2021</td>\n",
       "      <td>85.684798</td>\n",
       "      <td>126.416057</td>\n",
       "      <td>4606</td>\n",
       "      <td>82.033036</td>\n",
       "      <td>89.336561</td>\n",
       "    </tr>\n",
       "    <tr>\n",
       "      <th>8</th>\n",
       "      <td>Oceania</td>\n",
       "      <td>2020</td>\n",
       "      <td>39.919436</td>\n",
       "      <td>69.552255</td>\n",
       "      <td>170</td>\n",
       "      <td>29.388766</td>\n",
       "      <td>50.450106</td>\n",
       "    </tr>\n",
       "    <tr>\n",
       "      <th>9</th>\n",
       "      <td>Oceania</td>\n",
       "      <td>2021</td>\n",
       "      <td>194.977007</td>\n",
       "      <td>366.457359</td>\n",
       "      <td>381</td>\n",
       "      <td>158.062720</td>\n",
       "      <td>231.891293</td>\n",
       "    </tr>\n",
       "    <tr>\n",
       "      <th>10</th>\n",
       "      <td>South America(continent)</td>\n",
       "      <td>2020</td>\n",
       "      <td>46.966987</td>\n",
       "      <td>56.138845</td>\n",
       "      <td>2644</td>\n",
       "      <td>44.826169</td>\n",
       "      <td>49.107805</td>\n",
       "    </tr>\n",
       "    <tr>\n",
       "      <th>11</th>\n",
       "      <td>South America(continent)</td>\n",
       "      <td>2021</td>\n",
       "      <td>60.432168</td>\n",
       "      <td>92.791185</td>\n",
       "      <td>3936</td>\n",
       "      <td>57.532416</td>\n",
       "      <td>63.331920</td>\n",
       "    </tr>\n",
       "  </tbody>\n",
       "</table>\n",
       "</div>"
      ],
      "text/plain": [
       "                   continent  year       ratio                                 \\\n",
       "                                          mean         std   size   get_ci_lb   \n",
       "0                     Africa  2020   52.623736   62.672790   4892   50.867061   \n",
       "1                     Africa  2021   75.063308  206.868302   8449   70.651652   \n",
       "2                       Asia  2020  106.957897  157.389473   7393  103.369632   \n",
       "3                       Asia  2021  126.452824  195.776606  12025  122.953291   \n",
       "4                     Europe  2020   85.172982  158.693265   8597   81.817969   \n",
       "5                     Europe  2021  165.387291  524.748437  11756  155.900613   \n",
       "6   North America(continent)  2020   58.520703   84.557767   2924   55.454557   \n",
       "7   North America(continent)  2021   85.684798  126.416057   4606   82.033036   \n",
       "8                    Oceania  2020   39.919436   69.552255    170   29.388766   \n",
       "9                    Oceania  2021  194.977007  366.457359    381  158.062720   \n",
       "10  South America(continent)  2020   46.966987   56.138845   2644   44.826169   \n",
       "11  South America(continent)  2021   60.432168   92.791185   3936   57.532416   \n",
       "\n",
       "                \n",
       "     get_ci_ub  \n",
       "0    54.380410  \n",
       "1    79.474964  \n",
       "2   110.546162  \n",
       "3   129.952357  \n",
       "4    88.527996  \n",
       "5   174.873970  \n",
       "6    61.586848  \n",
       "7    89.336561  \n",
       "8    50.450106  \n",
       "9   231.891293  \n",
       "10   49.107805  \n",
       "11   63.331920  "
      ]
     },
     "execution_count": 42,
     "metadata": {},
     "output_type": "execute_result"
    }
   ],
   "source": [
    "cy=df1.groupby(['continent','year']).agg({\"ratio\": [np.mean, np.std, np.size,get_ci_lb,get_ci_ub]})\n",
    "\n",
    "cy=cy.reset_index()\n",
    "\n",
    "cy= pd.DataFrame(cy)\n",
    "\n",
    "cy"
   ]
  },
  {
   "cell_type": "code",
   "execution_count": 43,
   "id": "07860e62",
   "metadata": {
    "scrolled": true
   },
   "outputs": [
    {
     "data": {
      "text/html": [
       "<div>\n",
       "<style scoped>\n",
       "    .dataframe tbody tr th:only-of-type {\n",
       "        vertical-align: middle;\n",
       "    }\n",
       "\n",
       "    .dataframe tbody tr th {\n",
       "        vertical-align: top;\n",
       "    }\n",
       "\n",
       "    .dataframe thead tr th {\n",
       "        text-align: left;\n",
       "    }\n",
       "</style>\n",
       "<table border=\"1\" class=\"dataframe\">\n",
       "  <thead>\n",
       "    <tr>\n",
       "      <th></th>\n",
       "      <th>region</th>\n",
       "      <th>year</th>\n",
       "      <th colspan=\"5\" halign=\"left\">ratio</th>\n",
       "    </tr>\n",
       "    <tr>\n",
       "      <th></th>\n",
       "      <th></th>\n",
       "      <th></th>\n",
       "      <th>mean</th>\n",
       "      <th>std</th>\n",
       "      <th>size</th>\n",
       "      <th>get_ci_lb</th>\n",
       "      <th>get_ci_ub</th>\n",
       "    </tr>\n",
       "  </thead>\n",
       "  <tbody>\n",
       "    <tr>\n",
       "      <th>0</th>\n",
       "      <td>East Asia &amp; Pacific</td>\n",
       "      <td>2020</td>\n",
       "      <td>83.567307</td>\n",
       "      <td>154.946570</td>\n",
       "      <td>1798</td>\n",
       "      <td>76.400465</td>\n",
       "      <td>90.734149</td>\n",
       "    </tr>\n",
       "    <tr>\n",
       "      <th>1</th>\n",
       "      <td>East Asia &amp; Pacific</td>\n",
       "      <td>2021</td>\n",
       "      <td>158.944043</td>\n",
       "      <td>266.651870</td>\n",
       "      <td>3834</td>\n",
       "      <td>150.500906</td>\n",
       "      <td>167.387180</td>\n",
       "    </tr>\n",
       "    <tr>\n",
       "      <th>2</th>\n",
       "      <td>Europe &amp; Central Asia</td>\n",
       "      <td>2020</td>\n",
       "      <td>85.533757</td>\n",
       "      <td>155.144980</td>\n",
       "      <td>9958</td>\n",
       "      <td>82.486195</td>\n",
       "      <td>88.581319</td>\n",
       "    </tr>\n",
       "    <tr>\n",
       "      <th>3</th>\n",
       "      <td>Europe &amp; Central Asia</td>\n",
       "      <td>2021</td>\n",
       "      <td>154.876803</td>\n",
       "      <td>485.184235</td>\n",
       "      <td>13977</td>\n",
       "      <td>146.832556</td>\n",
       "      <td>162.921050</td>\n",
       "    </tr>\n",
       "    <tr>\n",
       "      <th>4</th>\n",
       "      <td>Latin America &amp; Caribbean</td>\n",
       "      <td>2020</td>\n",
       "      <td>51.769371</td>\n",
       "      <td>74.371591</td>\n",
       "      <td>4970</td>\n",
       "      <td>49.701217</td>\n",
       "      <td>53.837524</td>\n",
       "    </tr>\n",
       "    <tr>\n",
       "      <th>5</th>\n",
       "      <td>Latin America &amp; Caribbean</td>\n",
       "      <td>2021</td>\n",
       "      <td>68.812508</td>\n",
       "      <td>106.545737</td>\n",
       "      <td>7815</td>\n",
       "      <td>66.449926</td>\n",
       "      <td>71.175090</td>\n",
       "    </tr>\n",
       "    <tr>\n",
       "      <th>6</th>\n",
       "      <td>Middle East &amp; North Africa</td>\n",
       "      <td>2020</td>\n",
       "      <td>110.395171</td>\n",
       "      <td>162.071844</td>\n",
       "      <td>4225</td>\n",
       "      <td>105.506770</td>\n",
       "      <td>115.283571</td>\n",
       "    </tr>\n",
       "    <tr>\n",
       "      <th>7</th>\n",
       "      <td>Middle East &amp; North Africa</td>\n",
       "      <td>2021</td>\n",
       "      <td>117.932518</td>\n",
       "      <td>181.088283</td>\n",
       "      <td>5980</td>\n",
       "      <td>113.341851</td>\n",
       "      <td>122.523185</td>\n",
       "    </tr>\n",
       "    <tr>\n",
       "      <th>8</th>\n",
       "      <td>North America(region)</td>\n",
       "      <td>2020</td>\n",
       "      <td>63.547620</td>\n",
       "      <td>55.760176</td>\n",
       "      <td>598</td>\n",
       "      <td>59.069425</td>\n",
       "      <td>68.025815</td>\n",
       "    </tr>\n",
       "    <tr>\n",
       "      <th>9</th>\n",
       "      <td>North America(region)</td>\n",
       "      <td>2021</td>\n",
       "      <td>130.337613</td>\n",
       "      <td>155.721731</td>\n",
       "      <td>727</td>\n",
       "      <td>118.999136</td>\n",
       "      <td>141.676090</td>\n",
       "    </tr>\n",
       "    <tr>\n",
       "      <th>10</th>\n",
       "      <td>South Asia</td>\n",
       "      <td>2020</td>\n",
       "      <td>84.544853</td>\n",
       "      <td>93.638844</td>\n",
       "      <td>1375</td>\n",
       "      <td>79.591086</td>\n",
       "      <td>89.498619</td>\n",
       "    </tr>\n",
       "    <tr>\n",
       "      <th>11</th>\n",
       "      <td>South Asia</td>\n",
       "      <td>2021</td>\n",
       "      <td>73.658405</td>\n",
       "      <td>80.526434</td>\n",
       "      <td>2161</td>\n",
       "      <td>70.261350</td>\n",
       "      <td>77.055460</td>\n",
       "    </tr>\n",
       "    <tr>\n",
       "      <th>12</th>\n",
       "      <td>Sub-Saharan Africa</td>\n",
       "      <td>2020</td>\n",
       "      <td>54.795871</td>\n",
       "      <td>67.315740</td>\n",
       "      <td>3696</td>\n",
       "      <td>52.624965</td>\n",
       "      <td>56.966777</td>\n",
       "    </tr>\n",
       "    <tr>\n",
       "      <th>13</th>\n",
       "      <td>Sub-Saharan Africa</td>\n",
       "      <td>2021</td>\n",
       "      <td>80.322500</td>\n",
       "      <td>227.180471</td>\n",
       "      <td>6659</td>\n",
       "      <td>74.865002</td>\n",
       "      <td>85.779997</td>\n",
       "    </tr>\n",
       "  </tbody>\n",
       "</table>\n",
       "</div>"
      ],
      "text/plain": [
       "                        region  year       ratio                     \\\n",
       "                                            mean         std   size   \n",
       "0          East Asia & Pacific  2020   83.567307  154.946570   1798   \n",
       "1          East Asia & Pacific  2021  158.944043  266.651870   3834   \n",
       "2        Europe & Central Asia  2020   85.533757  155.144980   9958   \n",
       "3        Europe & Central Asia  2021  154.876803  485.184235  13977   \n",
       "4    Latin America & Caribbean  2020   51.769371   74.371591   4970   \n",
       "5    Latin America & Caribbean  2021   68.812508  106.545737   7815   \n",
       "6   Middle East & North Africa  2020  110.395171  162.071844   4225   \n",
       "7   Middle East & North Africa  2021  117.932518  181.088283   5980   \n",
       "8        North America(region)  2020   63.547620   55.760176    598   \n",
       "9        North America(region)  2021  130.337613  155.721731    727   \n",
       "10                  South Asia  2020   84.544853   93.638844   1375   \n",
       "11                  South Asia  2021   73.658405   80.526434   2161   \n",
       "12          Sub-Saharan Africa  2020   54.795871   67.315740   3696   \n",
       "13          Sub-Saharan Africa  2021   80.322500  227.180471   6659   \n",
       "\n",
       "                            \n",
       "     get_ci_lb   get_ci_ub  \n",
       "0    76.400465   90.734149  \n",
       "1   150.500906  167.387180  \n",
       "2    82.486195   88.581319  \n",
       "3   146.832556  162.921050  \n",
       "4    49.701217   53.837524  \n",
       "5    66.449926   71.175090  \n",
       "6   105.506770  115.283571  \n",
       "7   113.341851  122.523185  \n",
       "8    59.069425   68.025815  \n",
       "9   118.999136  141.676090  \n",
       "10   79.591086   89.498619  \n",
       "11   70.261350   77.055460  \n",
       "12   52.624965   56.966777  \n",
       "13   74.865002   85.779997  "
      ]
     },
     "execution_count": 43,
     "metadata": {},
     "output_type": "execute_result"
    }
   ],
   "source": [
    "ry=df1.groupby(['region','year']).agg({\"ratio\": [np.mean, np.std, np.size,get_ci_lb,get_ci_ub]})\n",
    "\n",
    "ry=ry.reset_index()\n",
    "\n",
    "ry= pd.DataFrame(ry)\n",
    "\n",
    "ry"
   ]
  },
  {
   "cell_type": "code",
   "execution_count": 44,
   "id": "58ed9529",
   "metadata": {
    "scrolled": true
   },
   "outputs": [
    {
     "data": {
      "text/html": [
       "<div>\n",
       "<style scoped>\n",
       "    .dataframe tbody tr th:only-of-type {\n",
       "        vertical-align: middle;\n",
       "    }\n",
       "\n",
       "    .dataframe tbody tr th {\n",
       "        vertical-align: top;\n",
       "    }\n",
       "\n",
       "    .dataframe thead tr th {\n",
       "        text-align: left;\n",
       "    }\n",
       "</style>\n",
       "<table border=\"1\" class=\"dataframe\">\n",
       "  <thead>\n",
       "    <tr>\n",
       "      <th></th>\n",
       "      <th>income</th>\n",
       "      <th>year</th>\n",
       "      <th colspan=\"5\" halign=\"left\">ratio</th>\n",
       "    </tr>\n",
       "    <tr>\n",
       "      <th></th>\n",
       "      <th></th>\n",
       "      <th></th>\n",
       "      <th>mean</th>\n",
       "      <th>std</th>\n",
       "      <th>size</th>\n",
       "      <th>get_ci_lb</th>\n",
       "      <th>get_ci_ub</th>\n",
       "    </tr>\n",
       "  </thead>\n",
       "  <tbody>\n",
       "    <tr>\n",
       "      <th>0</th>\n",
       "      <td>High income</td>\n",
       "      <td>2020</td>\n",
       "      <td>110.071092</td>\n",
       "      <td>184.041271</td>\n",
       "      <td>9477</td>\n",
       "      <td>106.365280</td>\n",
       "      <td>113.776903</td>\n",
       "    </tr>\n",
       "    <tr>\n",
       "      <th>1</th>\n",
       "      <td>High income</td>\n",
       "      <td>2021</td>\n",
       "      <td>198.575163</td>\n",
       "      <td>510.705591</td>\n",
       "      <td>13416</td>\n",
       "      <td>189.932524</td>\n",
       "      <td>207.217802</td>\n",
       "    </tr>\n",
       "    <tr>\n",
       "      <th>2</th>\n",
       "      <td>Low income</td>\n",
       "      <td>2020</td>\n",
       "      <td>51.368931</td>\n",
       "      <td>75.219109</td>\n",
       "      <td>2388</td>\n",
       "      <td>48.350513</td>\n",
       "      <td>54.387349</td>\n",
       "    </tr>\n",
       "    <tr>\n",
       "      <th>3</th>\n",
       "      <td>Low income</td>\n",
       "      <td>2021</td>\n",
       "      <td>55.006252</td>\n",
       "      <td>105.314757</td>\n",
       "      <td>4058</td>\n",
       "      <td>51.765014</td>\n",
       "      <td>58.247489</td>\n",
       "    </tr>\n",
       "    <tr>\n",
       "      <th>4</th>\n",
       "      <td>Lower middle income</td>\n",
       "      <td>2020</td>\n",
       "      <td>59.430011</td>\n",
       "      <td>65.567399</td>\n",
       "      <td>5894</td>\n",
       "      <td>57.755761</td>\n",
       "      <td>61.104260</td>\n",
       "    </tr>\n",
       "    <tr>\n",
       "      <th>5</th>\n",
       "      <td>Lower middle income</td>\n",
       "      <td>2021</td>\n",
       "      <td>79.194789</td>\n",
       "      <td>158.801813</td>\n",
       "      <td>9668</td>\n",
       "      <td>76.028944</td>\n",
       "      <td>82.360633</td>\n",
       "    </tr>\n",
       "    <tr>\n",
       "      <th>6</th>\n",
       "      <td>Upper middle income</td>\n",
       "      <td>2020</td>\n",
       "      <td>63.920043</td>\n",
       "      <td>99.381190</td>\n",
       "      <td>8861</td>\n",
       "      <td>61.850520</td>\n",
       "      <td>65.989566</td>\n",
       "    </tr>\n",
       "    <tr>\n",
       "      <th>7</th>\n",
       "      <td>Upper middle income</td>\n",
       "      <td>2021</td>\n",
       "      <td>82.289241</td>\n",
       "      <td>159.718291</td>\n",
       "      <td>14011</td>\n",
       "      <td>79.644363</td>\n",
       "      <td>84.934119</td>\n",
       "    </tr>\n",
       "  </tbody>\n",
       "</table>\n",
       "</div>"
      ],
      "text/plain": [
       "                income  year       ratio                                 \\\n",
       "                                    mean         std   size   get_ci_lb   \n",
       "0          High income  2020  110.071092  184.041271   9477  106.365280   \n",
       "1          High income  2021  198.575163  510.705591  13416  189.932524   \n",
       "2           Low income  2020   51.368931   75.219109   2388   48.350513   \n",
       "3           Low income  2021   55.006252  105.314757   4058   51.765014   \n",
       "4  Lower middle income  2020   59.430011   65.567399   5894   57.755761   \n",
       "5  Lower middle income  2021   79.194789  158.801813   9668   76.028944   \n",
       "6  Upper middle income  2020   63.920043   99.381190   8861   61.850520   \n",
       "7  Upper middle income  2021   82.289241  159.718291  14011   79.644363   \n",
       "\n",
       "               \n",
       "    get_ci_ub  \n",
       "0  113.776903  \n",
       "1  207.217802  \n",
       "2   54.387349  \n",
       "3   58.247489  \n",
       "4   61.104260  \n",
       "5   82.360633  \n",
       "6   65.989566  \n",
       "7   84.934119  "
      ]
     },
     "execution_count": 44,
     "metadata": {},
     "output_type": "execute_result"
    }
   ],
   "source": [
    "iy=df1.groupby(['income','year']).agg({\"ratio\": [np.mean, np.std, np.size,get_ci_lb,get_ci_ub]})\n",
    "\n",
    "iy=iy.reset_index()\n",
    "\n",
    "iy= pd.DataFrame(iy)\n",
    "\n",
    "iy"
   ]
  },
  {
   "cell_type": "code",
   "execution_count": 45,
   "id": "eaa14744",
   "metadata": {},
   "outputs": [],
   "source": [
    "cy20=cy[(cy['year']==2020)]\n",
    "cy21=cy[(cy['year']==2021)]\n",
    "\n",
    "cy20.columns\n",
    "cy20.columns=['continent','year','mean','std','size','get_ci_lb','get_ci_ub']\n",
    "cy21.columns\n",
    "cy21.columns=['continent','year','mean','std','size','get_ci_lb','get_ci_ub']"
   ]
  },
  {
   "cell_type": "code",
   "execution_count": 46,
   "id": "20ee513f",
   "metadata": {},
   "outputs": [
    {
     "data": {
      "text/plain": [
       "Text(0.5, 1.0, 'Continents 2020')"
      ]
     },
     "execution_count": 46,
     "metadata": {},
     "output_type": "execute_result"
    },
    {
     "data": {
      "image/png": "[encoded data removed]",
      "text/plain": [
       "<Figure size 432x288 with 1 Axes>"
      ]
     },
     "metadata": {
      "needs_background": "light"
     },
     "output_type": "display_data"
    }
   ],
   "source": [
    "import matplotlib.pyplot as plt\n",
    "for lb,ub,y in zip(cy20['get_ci_lb'],cy20['get_ci_ub'],range(len(cy))):\n",
    "    plt.plot((lb,ub),(y,y),'ro-')\n",
    "plt.yticks(range(len(cy20)),list(cy20['continent']))\n",
    "plt.xlabel(\"Ratio\")\n",
    "plt.ylabel(\"Continent\")\n",
    "plt.title(\"Continents 2020\")"
   ]
  },
  {
   "cell_type": "code",
   "execution_count": 47,
   "id": "d3fe52f9",
   "metadata": {},
   "outputs": [
    {
     "data": {
      "text/plain": [
       "Text(0.5, 1.0, 'Continents 2021')"
      ]
     },
     "execution_count": 47,
     "metadata": {},
     "output_type": "execute_result"
    },
    {
     "data": {
      "image/png": "[encoded data removed]",
      "text/plain": [
       "<Figure size 432x288 with 1 Axes>"
      ]
     },
     "metadata": {
      "needs_background": "light"
     },
     "output_type": "display_data"
    }
   ],
   "source": [
    "import matplotlib.pyplot as plt\n",
    "for lb,ub,y in zip(cy21['get_ci_lb'],cy21['get_ci_ub'],range(len(cy))):\n",
    "    plt.plot((lb,ub),(y,y),'ro-')\n",
    "plt.yticks(range(len(cy21)),list(cy21['continent']))\n",
    "plt.xlabel(\"Ratio\")\n",
    "plt.ylabel(\"Continent\")\n",
    "plt.title(\"Continents 2021\")"
   ]
  },
  {
   "cell_type": "code",
   "execution_count": 48,
   "id": "085ba1b7",
   "metadata": {},
   "outputs": [],
   "source": [
    "ry20=ry[(ry['year']==2020)]\n",
    "ry21=ry[(ry['year']==2021)]\n",
    "\n",
    "ry20.columns\n",
    "ry20.columns=['continent','year','mean','std','size','get_ci_lb','get_ci_ub']\n",
    "ry21.columns\n",
    "ry21.columns=['continent','year','mean','std','size','get_ci_lb','get_ci_ub']"
   ]
  },
  {
   "cell_type": "code",
   "execution_count": 49,
   "id": "71004dca",
   "metadata": {},
   "outputs": [
    {
     "data": {
      "text/plain": [
       "Text(0.5, 1.0, 'Regions 2020')"
      ]
     },
     "execution_count": 49,
     "metadata": {},
     "output_type": "execute_result"
    },
    {
     "data": {
      "image/png": "[encoded data removed]",
      "text/plain": [
       "<Figure size 432x288 with 1 Axes>"
      ]
     },
     "metadata": {
      "needs_background": "light"
     },
     "output_type": "display_data"
    }
   ],
   "source": [
    "import matplotlib.pyplot as plt\n",
    "for lb,ub,y in zip(ry20['get_ci_lb'],ry20['get_ci_ub'],range(len(ry20))):\n",
    "    plt.plot((lb,ub),(y,y),'ro-')\n",
    "plt.yticks(range(len(ry20)),list(ry20['continent']))\n",
    "plt.xlabel(\"Ratio\")\n",
    "plt.ylabel(\"Region\")\n",
    "plt.title(\"Regions 2020\")"
   ]
  },
  {
   "cell_type": "code",
   "execution_count": 50,
   "id": "67a19a3f",
   "metadata": {},
   "outputs": [
    {
     "data": {
      "text/plain": [
       "Text(0.5, 1.0, 'Regions 2021')"
      ]
     },
     "execution_count": 50,
     "metadata": {},
     "output_type": "execute_result"
    },
    {
     "data": {
      "image/png": "[encoded data removed]",
      "text/plain": [
       "<Figure size 432x288 with 1 Axes>"
      ]
     },
     "metadata": {
      "needs_background": "light"
     },
     "output_type": "display_data"
    }
   ],
   "source": [
    "import matplotlib.pyplot as plt\n",
    "for lb,ub,y in zip(ry21['get_ci_lb'],ry21['get_ci_ub'],range(len(ry21))):\n",
    "    plt.plot((lb,ub),(y,y),'ro-')\n",
    "plt.yticks(range(len(ry21)),list(ry21['continent']))\n",
    "plt.xlabel(\"Ratio\")\n",
    "plt.ylabel(\"Region\")\n",
    "plt.title(\"Regions 2021\")"
   ]
  },
  {
   "cell_type": "code",
   "execution_count": 51,
   "id": "9e35d7b0",
   "metadata": {},
   "outputs": [],
   "source": [
    "iy20=iy[(iy['year']==2020)]\n",
    "iy21=iy[(iy['year']==2021)]\n",
    "\n",
    "iy20.columns\n",
    "iy20.columns=['continent','year','mean','std','size','get_ci_lb','get_ci_ub']\n",
    "iy21.columns\n",
    "iy21.columns=['continent','year','mean','std','size','get_ci_lb','get_ci_ub']"
   ]
  },
  {
   "cell_type": "code",
   "execution_count": 52,
   "id": "5d6f5f0e",
   "metadata": {},
   "outputs": [
    {
     "data": {
      "text/plain": [
       "Text(0.5, 1.0, 'Income 2020')"
      ]
     },
     "execution_count": 52,
     "metadata": {},
     "output_type": "execute_result"
    },
    {
     "data": {
      "image/png": "[encoded data removed]",
      "text/plain": [
       "<Figure size 432x288 with 1 Axes>"
      ]
     },
     "metadata": {
      "needs_background": "light"
     },
     "output_type": "display_data"
    }
   ],
   "source": [
    "import matplotlib.pyplot as plt\n",
    "for lb,ub,y in zip(iy20['get_ci_lb'],iy20['get_ci_ub'],range(len(iy20))):\n",
    "    plt.plot((lb,ub),(y,y),'ro-')\n",
    "plt.yticks(range(len(iy20)),list(iy20['continent']))\n",
    "plt.xlabel(\"Ratio\")\n",
    "plt.ylabel(\"Income\")\n",
    "plt.title(\"Income 2020\")"
   ]
  },
  {
   "cell_type": "code",
   "execution_count": 54,
   "id": "fc71e04d",
   "metadata": {
    "scrolled": true
   },
   "outputs": [
    {
     "data": {
      "text/plain": [
       "Text(0.5, 1.0, 'Income 2021')"
      ]
     },
     "execution_count": 54,
     "metadata": {},
     "output_type": "execute_result"
    },
    {
     "data": {
      "image/png": "[encoded data removed]",
      "text/plain": [
       "<Figure size 432x288 with 1 Axes>"
      ]
     },
     "metadata": {
      "needs_background": "light"
     },
     "output_type": "display_data"
    }
   ],
   "source": [
    "import matplotlib.pyplot as plt\n",
    "for lb,ub,y in zip(iy21['get_ci_lb'],iy21['get_ci_ub'],range(len(iy21))):\n",
    "    plt.plot((lb,ub),(y,y),'ro-')\n",
    "plt.yticks(range(len(iy21)),list(iy21['continent']))\n",
    "plt.xlabel(\"Ratio\")\n",
    "plt.ylabel(\"Income\")\n",
    "plt.title(\"Income 2021\")"
   ]
  },
  {
   "cell_type": "markdown",
   "id": "23285b71",
   "metadata": {},
   "source": [
    "# Conclusion for Part 2\n",
    "This code aims to analyze the ratio between cases and deaths in 2020 and 2021, and compare them with respect to 3 aspects, continent, region, and income. Throughout all the aspects, the ratio in 2020 is below 120 for all parts in the graph. While in 2021, the ratio increases in all aspects and the parts within them."
   ]
  }
 ],
 "metadata": {
  "kernelspec": {
   "display_name": "Python 3 (ipykernel)",
   "language": "python",
   "name": "python3"
  },
  "language_info": {
   "codemirror_mode": {
    "name": "ipython",
    "version": 3
   },
   "file_extension": ".py",
   "mimetype": "text/x-python",
   "name": "python",
   "nbconvert_exporter": "python",
   "pygments_lexer": "ipython3",
   "version": "3.9.7"
  }
 },
 "nbformat": 4,
 "nbformat_minor": 5
}
